{
  "nbformat": 4,
  "nbformat_minor": 0,
  "metadata": {
    "colab": {
      "provenance": [],
      "include_colab_link": true
    },
    "kernelspec": {
      "name": "python3",
      "display_name": "Python 3"
    },
    "language_info": {
      "name": "python"
    }
  },
  "cells": [
    {
      "cell_type": "markdown",
      "metadata": {
        "id": "view-in-github",
        "colab_type": "text"
      },
      "source": [
        "<a href=\"https://colab.research.google.com/github/yousrabougara/WalmartSalesForecasting/blob/LightGBM/LightGBM_Optuna.ipynb\" target=\"_parent\"><img src=\"https://colab.research.google.com/assets/colab-badge.svg\" alt=\"Open In Colab\"/></a>"
      ]
    },
    {
      "cell_type": "markdown",
      "source": [],
      "metadata": {
        "id": "AK7I84EAUGL6"
      }
    },
    {
      "cell_type": "code",
      "source": [
        "!pip install category_encoders"
      ],
      "metadata": {
        "id": "gmXenUBINTwB",
        "colab": {
          "base_uri": "https://localhost:8080/"
        },
        "outputId": "b3ae48de-1de6-4c23-e9c2-9554eb8d8e01"
      },
      "execution_count": null,
      "outputs": [
        {
          "output_type": "stream",
          "name": "stdout",
          "text": [
            "Collecting category_encoders\n",
            "  Downloading category_encoders-2.8.0-py3-none-any.whl.metadata (7.9 kB)\n",
            "Requirement already satisfied: numpy>=1.14.0 in /usr/local/lib/python3.11/dist-packages (from category_encoders) (1.26.4)\n",
            "Requirement already satisfied: pandas>=1.0.5 in /usr/local/lib/python3.11/dist-packages (from category_encoders) (2.2.2)\n",
            "Requirement already satisfied: patsy>=0.5.1 in /usr/local/lib/python3.11/dist-packages (from category_encoders) (1.0.1)\n",
            "Requirement already satisfied: scikit-learn>=1.6.0 in /usr/local/lib/python3.11/dist-packages (from category_encoders) (1.6.1)\n",
            "Requirement already satisfied: scipy>=1.0.0 in /usr/local/lib/python3.11/dist-packages (from category_encoders) (1.13.1)\n",
            "Requirement already satisfied: statsmodels>=0.9.0 in /usr/local/lib/python3.11/dist-packages (from category_encoders) (0.14.4)\n",
            "Requirement already satisfied: python-dateutil>=2.8.2 in /usr/local/lib/python3.11/dist-packages (from pandas>=1.0.5->category_encoders) (2.8.2)\n",
            "Requirement already satisfied: pytz>=2020.1 in /usr/local/lib/python3.11/dist-packages (from pandas>=1.0.5->category_encoders) (2024.2)\n",
            "Requirement already satisfied: tzdata>=2022.7 in /usr/local/lib/python3.11/dist-packages (from pandas>=1.0.5->category_encoders) (2025.1)\n",
            "Requirement already satisfied: joblib>=1.2.0 in /usr/local/lib/python3.11/dist-packages (from scikit-learn>=1.6.0->category_encoders) (1.4.2)\n",
            "Requirement already satisfied: threadpoolctl>=3.1.0 in /usr/local/lib/python3.11/dist-packages (from scikit-learn>=1.6.0->category_encoders) (3.5.0)\n",
            "Requirement already satisfied: packaging>=21.3 in /usr/local/lib/python3.11/dist-packages (from statsmodels>=0.9.0->category_encoders) (24.2)\n",
            "Requirement already satisfied: six>=1.5 in /usr/local/lib/python3.11/dist-packages (from python-dateutil>=2.8.2->pandas>=1.0.5->category_encoders) (1.17.0)\n",
            "Downloading category_encoders-2.8.0-py3-none-any.whl (85 kB)\n",
            "\u001b[2K   \u001b[90m━━━━━━━━━━━━━━━━━━━━━━━━━━━━━━━━━━━━━━━━\u001b[0m \u001b[32m85.7/85.7 kB\u001b[0m \u001b[31m2.4 MB/s\u001b[0m eta \u001b[36m0:00:00\u001b[0m\n",
            "\u001b[?25hInstalling collected packages: category_encoders\n",
            "Successfully installed category_encoders-2.8.0\n"
          ]
        }
      ]
    },
    {
      "cell_type": "code",
      "execution_count": null,
      "metadata": {
        "id": "3_laowDCLTR7"
      },
      "outputs": [],
      "source": [
        "import numpy as np\n",
        "import pandas as pd\n",
        "import matplotlib.pyplot as plt\n",
        "import plotly.express as px\n",
        "import seaborn as sns\n",
        "sns.set()\n",
        "\n",
        "from sklearn.model_selection import train_test_split , GridSearchCV\n",
        "from sklearn.preprocessing import StandardScaler ,PolynomialFeatures\n",
        "from sklearn.pipeline import make_pipeline\n",
        "from sklearn.linear_model import LinearRegression , Ridge\n",
        "from sklearn.neighbors import KNeighborsRegressor\n",
        "from sklearn.ensemble import RandomForestRegressor\n",
        "from sklearn.tree import DecisionTreeRegressor, plot_tree\n",
        "from xgboost import XGBRegressor\n",
        "from category_encoders import BinaryEncoder\n",
        "import pickle\n",
        "# Ignore warnings\n",
        "import warnings\n",
        "warnings.filterwarnings('ignore')"
      ]
    },
    {
      "cell_type": "code",
      "source": [
        "df=pd.read_csv('Walmart.csv')"
      ],
      "metadata": {
        "id": "QTkFlzRNLiRI"
      },
      "execution_count": null,
      "outputs": []
    },
    {
      "cell_type": "code",
      "source": [
        "df.head(5)"
      ],
      "metadata": {
        "id": "k92BCmHMLiT2",
        "colab": {
          "base_uri": "https://localhost:8080/",
          "height": 206
        },
        "outputId": "5b7da270-dbe1-4706-a507-7f8e9cd97503"
      },
      "execution_count": null,
      "outputs": [
        {
          "output_type": "execute_result",
          "data": {
            "text/plain": [
              "   Store        Date  Weekly_Sales  Holiday_Flag  Temperature  Fuel_Price  \\\n",
              "0      1  05-02-2010    1643690.90             0        42.31       2.572   \n",
              "1      1  12-02-2010    1641957.44             1        38.51       2.548   \n",
              "2      1  19-02-2010    1611968.17             0        39.93       2.514   \n",
              "3      1  26-02-2010    1409727.59             0        46.63       2.561   \n",
              "4      1  05-03-2010    1554806.68             0        46.50       2.625   \n",
              "\n",
              "          CPI  Unemployment  \n",
              "0  211.096358         8.106  \n",
              "1  211.242170         8.106  \n",
              "2  211.289143         8.106  \n",
              "3  211.319643         8.106  \n",
              "4  211.350143         8.106  "
            ],
            "text/html": [
              "\n",
              "  <div id=\"df-a2996528-593b-4b3a-9fc0-1f5032e56917\" class=\"colab-df-container\">\n",
              "    <div>\n",
              "<style scoped>\n",
              "    .dataframe tbody tr th:only-of-type {\n",
              "        vertical-align: middle;\n",
              "    }\n",
              "\n",
              "    .dataframe tbody tr th {\n",
              "        vertical-align: top;\n",
              "    }\n",
              "\n",
              "    .dataframe thead th {\n",
              "        text-align: right;\n",
              "    }\n",
              "</style>\n",
              "<table border=\"1\" class=\"dataframe\">\n",
              "  <thead>\n",
              "    <tr style=\"text-align: right;\">\n",
              "      <th></th>\n",
              "      <th>Store</th>\n",
              "      <th>Date</th>\n",
              "      <th>Weekly_Sales</th>\n",
              "      <th>Holiday_Flag</th>\n",
              "      <th>Temperature</th>\n",
              "      <th>Fuel_Price</th>\n",
              "      <th>CPI</th>\n",
              "      <th>Unemployment</th>\n",
              "    </tr>\n",
              "  </thead>\n",
              "  <tbody>\n",
              "    <tr>\n",
              "      <th>0</th>\n",
              "      <td>1</td>\n",
              "      <td>05-02-2010</td>\n",
              "      <td>1643690.90</td>\n",
              "      <td>0</td>\n",
              "      <td>42.31</td>\n",
              "      <td>2.572</td>\n",
              "      <td>211.096358</td>\n",
              "      <td>8.106</td>\n",
              "    </tr>\n",
              "    <tr>\n",
              "      <th>1</th>\n",
              "      <td>1</td>\n",
              "      <td>12-02-2010</td>\n",
              "      <td>1641957.44</td>\n",
              "      <td>1</td>\n",
              "      <td>38.51</td>\n",
              "      <td>2.548</td>\n",
              "      <td>211.242170</td>\n",
              "      <td>8.106</td>\n",
              "    </tr>\n",
              "    <tr>\n",
              "      <th>2</th>\n",
              "      <td>1</td>\n",
              "      <td>19-02-2010</td>\n",
              "      <td>1611968.17</td>\n",
              "      <td>0</td>\n",
              "      <td>39.93</td>\n",
              "      <td>2.514</td>\n",
              "      <td>211.289143</td>\n",
              "      <td>8.106</td>\n",
              "    </tr>\n",
              "    <tr>\n",
              "      <th>3</th>\n",
              "      <td>1</td>\n",
              "      <td>26-02-2010</td>\n",
              "      <td>1409727.59</td>\n",
              "      <td>0</td>\n",
              "      <td>46.63</td>\n",
              "      <td>2.561</td>\n",
              "      <td>211.319643</td>\n",
              "      <td>8.106</td>\n",
              "    </tr>\n",
              "    <tr>\n",
              "      <th>4</th>\n",
              "      <td>1</td>\n",
              "      <td>05-03-2010</td>\n",
              "      <td>1554806.68</td>\n",
              "      <td>0</td>\n",
              "      <td>46.50</td>\n",
              "      <td>2.625</td>\n",
              "      <td>211.350143</td>\n",
              "      <td>8.106</td>\n",
              "    </tr>\n",
              "  </tbody>\n",
              "</table>\n",
              "</div>\n",
              "    <div class=\"colab-df-buttons\">\n",
              "\n",
              "  <div class=\"colab-df-container\">\n",
              "    <button class=\"colab-df-convert\" onclick=\"convertToInteractive('df-a2996528-593b-4b3a-9fc0-1f5032e56917')\"\n",
              "            title=\"Convert this dataframe to an interactive table.\"\n",
              "            style=\"display:none;\">\n",
              "\n",
              "  <svg xmlns=\"http://www.w3.org/2000/svg\" height=\"24px\" viewBox=\"0 -960 960 960\">\n",
              "    <path d=\"M120-120v-720h720v720H120Zm60-500h600v-160H180v160Zm220 220h160v-160H400v160Zm0 220h160v-160H400v160ZM180-400h160v-160H180v160Zm440 0h160v-160H620v160ZM180-180h160v-160H180v160Zm440 0h160v-160H620v160Z\"/>\n",
              "  </svg>\n",
              "    </button>\n",
              "\n",
              "  <style>\n",
              "    .colab-df-container {\n",
              "      display:flex;\n",
              "      gap: 12px;\n",
              "    }\n",
              "\n",
              "    .colab-df-convert {\n",
              "      background-color: #E8F0FE;\n",
              "      border: none;\n",
              "      border-radius: 50%;\n",
              "      cursor: pointer;\n",
              "      display: none;\n",
              "      fill: #1967D2;\n",
              "      height: 32px;\n",
              "      padding: 0 0 0 0;\n",
              "      width: 32px;\n",
              "    }\n",
              "\n",
              "    .colab-df-convert:hover {\n",
              "      background-color: #E2EBFA;\n",
              "      box-shadow: 0px 1px 2px rgba(60, 64, 67, 0.3), 0px 1px 3px 1px rgba(60, 64, 67, 0.15);\n",
              "      fill: #174EA6;\n",
              "    }\n",
              "\n",
              "    .colab-df-buttons div {\n",
              "      margin-bottom: 4px;\n",
              "    }\n",
              "\n",
              "    [theme=dark] .colab-df-convert {\n",
              "      background-color: #3B4455;\n",
              "      fill: #D2E3FC;\n",
              "    }\n",
              "\n",
              "    [theme=dark] .colab-df-convert:hover {\n",
              "      background-color: #434B5C;\n",
              "      box-shadow: 0px 1px 3px 1px rgba(0, 0, 0, 0.15);\n",
              "      filter: drop-shadow(0px 1px 2px rgba(0, 0, 0, 0.3));\n",
              "      fill: #FFFFFF;\n",
              "    }\n",
              "  </style>\n",
              "\n",
              "    <script>\n",
              "      const buttonEl =\n",
              "        document.querySelector('#df-a2996528-593b-4b3a-9fc0-1f5032e56917 button.colab-df-convert');\n",
              "      buttonEl.style.display =\n",
              "        google.colab.kernel.accessAllowed ? 'block' : 'none';\n",
              "\n",
              "      async function convertToInteractive(key) {\n",
              "        const element = document.querySelector('#df-a2996528-593b-4b3a-9fc0-1f5032e56917');\n",
              "        const dataTable =\n",
              "          await google.colab.kernel.invokeFunction('convertToInteractive',\n",
              "                                                    [key], {});\n",
              "        if (!dataTable) return;\n",
              "\n",
              "        const docLinkHtml = 'Like what you see? Visit the ' +\n",
              "          '<a target=\"_blank\" href=https://colab.research.google.com/notebooks/data_table.ipynb>data table notebook</a>'\n",
              "          + ' to learn more about interactive tables.';\n",
              "        element.innerHTML = '';\n",
              "        dataTable['output_type'] = 'display_data';\n",
              "        await google.colab.output.renderOutput(dataTable, element);\n",
              "        const docLink = document.createElement('div');\n",
              "        docLink.innerHTML = docLinkHtml;\n",
              "        element.appendChild(docLink);\n",
              "      }\n",
              "    </script>\n",
              "  </div>\n",
              "\n",
              "\n",
              "<div id=\"df-77b1a5bf-1212-45bf-a207-70aef9707e9d\">\n",
              "  <button class=\"colab-df-quickchart\" onclick=\"quickchart('df-77b1a5bf-1212-45bf-a207-70aef9707e9d')\"\n",
              "            title=\"Suggest charts\"\n",
              "            style=\"display:none;\">\n",
              "\n",
              "<svg xmlns=\"http://www.w3.org/2000/svg\" height=\"24px\"viewBox=\"0 0 24 24\"\n",
              "     width=\"24px\">\n",
              "    <g>\n",
              "        <path d=\"M19 3H5c-1.1 0-2 .9-2 2v14c0 1.1.9 2 2 2h14c1.1 0 2-.9 2-2V5c0-1.1-.9-2-2-2zM9 17H7v-7h2v7zm4 0h-2V7h2v10zm4 0h-2v-4h2v4z\"/>\n",
              "    </g>\n",
              "</svg>\n",
              "  </button>\n",
              "\n",
              "<style>\n",
              "  .colab-df-quickchart {\n",
              "      --bg-color: #E8F0FE;\n",
              "      --fill-color: #1967D2;\n",
              "      --hover-bg-color: #E2EBFA;\n",
              "      --hover-fill-color: #174EA6;\n",
              "      --disabled-fill-color: #AAA;\n",
              "      --disabled-bg-color: #DDD;\n",
              "  }\n",
              "\n",
              "  [theme=dark] .colab-df-quickchart {\n",
              "      --bg-color: #3B4455;\n",
              "      --fill-color: #D2E3FC;\n",
              "      --hover-bg-color: #434B5C;\n",
              "      --hover-fill-color: #FFFFFF;\n",
              "      --disabled-bg-color: #3B4455;\n",
              "      --disabled-fill-color: #666;\n",
              "  }\n",
              "\n",
              "  .colab-df-quickchart {\n",
              "    background-color: var(--bg-color);\n",
              "    border: none;\n",
              "    border-radius: 50%;\n",
              "    cursor: pointer;\n",
              "    display: none;\n",
              "    fill: var(--fill-color);\n",
              "    height: 32px;\n",
              "    padding: 0;\n",
              "    width: 32px;\n",
              "  }\n",
              "\n",
              "  .colab-df-quickchart:hover {\n",
              "    background-color: var(--hover-bg-color);\n",
              "    box-shadow: 0 1px 2px rgba(60, 64, 67, 0.3), 0 1px 3px 1px rgba(60, 64, 67, 0.15);\n",
              "    fill: var(--button-hover-fill-color);\n",
              "  }\n",
              "\n",
              "  .colab-df-quickchart-complete:disabled,\n",
              "  .colab-df-quickchart-complete:disabled:hover {\n",
              "    background-color: var(--disabled-bg-color);\n",
              "    fill: var(--disabled-fill-color);\n",
              "    box-shadow: none;\n",
              "  }\n",
              "\n",
              "  .colab-df-spinner {\n",
              "    border: 2px solid var(--fill-color);\n",
              "    border-color: transparent;\n",
              "    border-bottom-color: var(--fill-color);\n",
              "    animation:\n",
              "      spin 1s steps(1) infinite;\n",
              "  }\n",
              "\n",
              "  @keyframes spin {\n",
              "    0% {\n",
              "      border-color: transparent;\n",
              "      border-bottom-color: var(--fill-color);\n",
              "      border-left-color: var(--fill-color);\n",
              "    }\n",
              "    20% {\n",
              "      border-color: transparent;\n",
              "      border-left-color: var(--fill-color);\n",
              "      border-top-color: var(--fill-color);\n",
              "    }\n",
              "    30% {\n",
              "      border-color: transparent;\n",
              "      border-left-color: var(--fill-color);\n",
              "      border-top-color: var(--fill-color);\n",
              "      border-right-color: var(--fill-color);\n",
              "    }\n",
              "    40% {\n",
              "      border-color: transparent;\n",
              "      border-right-color: var(--fill-color);\n",
              "      border-top-color: var(--fill-color);\n",
              "    }\n",
              "    60% {\n",
              "      border-color: transparent;\n",
              "      border-right-color: var(--fill-color);\n",
              "    }\n",
              "    80% {\n",
              "      border-color: transparent;\n",
              "      border-right-color: var(--fill-color);\n",
              "      border-bottom-color: var(--fill-color);\n",
              "    }\n",
              "    90% {\n",
              "      border-color: transparent;\n",
              "      border-bottom-color: var(--fill-color);\n",
              "    }\n",
              "  }\n",
              "</style>\n",
              "\n",
              "  <script>\n",
              "    async function quickchart(key) {\n",
              "      const quickchartButtonEl =\n",
              "        document.querySelector('#' + key + ' button');\n",
              "      quickchartButtonEl.disabled = true;  // To prevent multiple clicks.\n",
              "      quickchartButtonEl.classList.add('colab-df-spinner');\n",
              "      try {\n",
              "        const charts = await google.colab.kernel.invokeFunction(\n",
              "            'suggestCharts', [key], {});\n",
              "      } catch (error) {\n",
              "        console.error('Error during call to suggestCharts:', error);\n",
              "      }\n",
              "      quickchartButtonEl.classList.remove('colab-df-spinner');\n",
              "      quickchartButtonEl.classList.add('colab-df-quickchart-complete');\n",
              "    }\n",
              "    (() => {\n",
              "      let quickchartButtonEl =\n",
              "        document.querySelector('#df-77b1a5bf-1212-45bf-a207-70aef9707e9d button');\n",
              "      quickchartButtonEl.style.display =\n",
              "        google.colab.kernel.accessAllowed ? 'block' : 'none';\n",
              "    })();\n",
              "  </script>\n",
              "</div>\n",
              "\n",
              "    </div>\n",
              "  </div>\n"
            ],
            "application/vnd.google.colaboratory.intrinsic+json": {
              "type": "dataframe",
              "variable_name": "df",
              "summary": "{\n  \"name\": \"df\",\n  \"rows\": 6435,\n  \"fields\": [\n    {\n      \"column\": \"Store\",\n      \"properties\": {\n        \"dtype\": \"number\",\n        \"std\": 12,\n        \"min\": 1,\n        \"max\": 45,\n        \"num_unique_values\": 45,\n        \"samples\": [\n          40,\n          26,\n          27\n        ],\n        \"semantic_type\": \"\",\n        \"description\": \"\"\n      }\n    },\n    {\n      \"column\": \"Date\",\n      \"properties\": {\n        \"dtype\": \"category\",\n        \"num_unique_values\": 143,\n        \"samples\": [\n          \"04-05-2012\",\n          \"18-06-2010\",\n          \"02-09-2011\"\n        ],\n        \"semantic_type\": \"\",\n        \"description\": \"\"\n      }\n    },\n    {\n      \"column\": \"Weekly_Sales\",\n      \"properties\": {\n        \"dtype\": \"number\",\n        \"std\": 564366.6220536974,\n        \"min\": 209986.25,\n        \"max\": 3818686.45,\n        \"num_unique_values\": 6435,\n        \"samples\": [\n          1138800.32,\n          1304850.67,\n          1769296.25\n        ],\n        \"semantic_type\": \"\",\n        \"description\": \"\"\n      }\n    },\n    {\n      \"column\": \"Holiday_Flag\",\n      \"properties\": {\n        \"dtype\": \"number\",\n        \"std\": 0,\n        \"min\": 0,\n        \"max\": 1,\n        \"num_unique_values\": 2,\n        \"samples\": [\n          1,\n          0\n        ],\n        \"semantic_type\": \"\",\n        \"description\": \"\"\n      }\n    },\n    {\n      \"column\": \"Temperature\",\n      \"properties\": {\n        \"dtype\": \"number\",\n        \"std\": 18.444932875811585,\n        \"min\": -2.06,\n        \"max\": 100.14,\n        \"num_unique_values\": 3528,\n        \"samples\": [\n          51.13,\n          98.15\n        ],\n        \"semantic_type\": \"\",\n        \"description\": \"\"\n      }\n    },\n    {\n      \"column\": \"Fuel_Price\",\n      \"properties\": {\n        \"dtype\": \"number\",\n        \"std\": 0.4590197071928516,\n        \"min\": 2.472,\n        \"max\": 4.468,\n        \"num_unique_values\": 892,\n        \"samples\": [\n          2.84,\n          3.95\n        ],\n        \"semantic_type\": \"\",\n        \"description\": \"\"\n      }\n    },\n    {\n      \"column\": \"CPI\",\n      \"properties\": {\n        \"dtype\": \"number\",\n        \"std\": 39.35671229566413,\n        \"min\": 126.064,\n        \"max\": 227.2328068,\n        \"num_unique_values\": 2145,\n        \"samples\": [\n          184.613419,\n          214.1083654\n        ],\n        \"semantic_type\": \"\",\n        \"description\": \"\"\n      }\n    },\n    {\n      \"column\": \"Unemployment\",\n      \"properties\": {\n        \"dtype\": \"number\",\n        \"std\": 1.8758847818628084,\n        \"min\": 3.879,\n        \"max\": 14.313,\n        \"num_unique_values\": 349,\n        \"samples\": [\n          8.185,\n          7.804\n        ],\n        \"semantic_type\": \"\",\n        \"description\": \"\"\n      }\n    }\n  ]\n}"
            }
          },
          "metadata": {},
          "execution_count": 4
        }
      ]
    },
    {
      "cell_type": "code",
      "source": [
        "df.shape"
      ],
      "metadata": {
        "id": "6Mnso6RFLiWt",
        "colab": {
          "base_uri": "https://localhost:8080/"
        },
        "outputId": "24eb680b-02f1-4303-ab9c-5ade0f8746de"
      },
      "execution_count": null,
      "outputs": [
        {
          "output_type": "execute_result",
          "data": {
            "text/plain": [
              "(6435, 8)"
            ]
          },
          "metadata": {},
          "execution_count": 5
        }
      ]
    },
    {
      "cell_type": "code",
      "source": [
        "df.describe()"
      ],
      "metadata": {
        "id": "0lT7HPjzLiZY",
        "colab": {
          "base_uri": "https://localhost:8080/",
          "height": 301
        },
        "outputId": "d332078c-ed0a-4705-a83f-3e74263e86ba"
      },
      "execution_count": null,
      "outputs": [
        {
          "output_type": "execute_result",
          "data": {
            "text/plain": [
              "             Store  Weekly_Sales  Holiday_Flag  Temperature   Fuel_Price  \\\n",
              "count  6435.000000  6.435000e+03   6435.000000  6435.000000  6435.000000   \n",
              "mean     23.000000  1.046965e+06      0.069930    60.663782     3.358607   \n",
              "std      12.988182  5.643666e+05      0.255049    18.444933     0.459020   \n",
              "min       1.000000  2.099862e+05      0.000000    -2.060000     2.472000   \n",
              "25%      12.000000  5.533501e+05      0.000000    47.460000     2.933000   \n",
              "50%      23.000000  9.607460e+05      0.000000    62.670000     3.445000   \n",
              "75%      34.000000  1.420159e+06      0.000000    74.940000     3.735000   \n",
              "max      45.000000  3.818686e+06      1.000000   100.140000     4.468000   \n",
              "\n",
              "               CPI  Unemployment  \n",
              "count  6435.000000   6435.000000  \n",
              "mean    171.578394      7.999151  \n",
              "std      39.356712      1.875885  \n",
              "min     126.064000      3.879000  \n",
              "25%     131.735000      6.891000  \n",
              "50%     182.616521      7.874000  \n",
              "75%     212.743293      8.622000  \n",
              "max     227.232807     14.313000  "
            ],
            "text/html": [
              "\n",
              "  <div id=\"df-3e8a03f2-c295-4eb6-b147-97b8778e5f9e\" class=\"colab-df-container\">\n",
              "    <div>\n",
              "<style scoped>\n",
              "    .dataframe tbody tr th:only-of-type {\n",
              "        vertical-align: middle;\n",
              "    }\n",
              "\n",
              "    .dataframe tbody tr th {\n",
              "        vertical-align: top;\n",
              "    }\n",
              "\n",
              "    .dataframe thead th {\n",
              "        text-align: right;\n",
              "    }\n",
              "</style>\n",
              "<table border=\"1\" class=\"dataframe\">\n",
              "  <thead>\n",
              "    <tr style=\"text-align: right;\">\n",
              "      <th></th>\n",
              "      <th>Store</th>\n",
              "      <th>Weekly_Sales</th>\n",
              "      <th>Holiday_Flag</th>\n",
              "      <th>Temperature</th>\n",
              "      <th>Fuel_Price</th>\n",
              "      <th>CPI</th>\n",
              "      <th>Unemployment</th>\n",
              "    </tr>\n",
              "  </thead>\n",
              "  <tbody>\n",
              "    <tr>\n",
              "      <th>count</th>\n",
              "      <td>6435.000000</td>\n",
              "      <td>6.435000e+03</td>\n",
              "      <td>6435.000000</td>\n",
              "      <td>6435.000000</td>\n",
              "      <td>6435.000000</td>\n",
              "      <td>6435.000000</td>\n",
              "      <td>6435.000000</td>\n",
              "    </tr>\n",
              "    <tr>\n",
              "      <th>mean</th>\n",
              "      <td>23.000000</td>\n",
              "      <td>1.046965e+06</td>\n",
              "      <td>0.069930</td>\n",
              "      <td>60.663782</td>\n",
              "      <td>3.358607</td>\n",
              "      <td>171.578394</td>\n",
              "      <td>7.999151</td>\n",
              "    </tr>\n",
              "    <tr>\n",
              "      <th>std</th>\n",
              "      <td>12.988182</td>\n",
              "      <td>5.643666e+05</td>\n",
              "      <td>0.255049</td>\n",
              "      <td>18.444933</td>\n",
              "      <td>0.459020</td>\n",
              "      <td>39.356712</td>\n",
              "      <td>1.875885</td>\n",
              "    </tr>\n",
              "    <tr>\n",
              "      <th>min</th>\n",
              "      <td>1.000000</td>\n",
              "      <td>2.099862e+05</td>\n",
              "      <td>0.000000</td>\n",
              "      <td>-2.060000</td>\n",
              "      <td>2.472000</td>\n",
              "      <td>126.064000</td>\n",
              "      <td>3.879000</td>\n",
              "    </tr>\n",
              "    <tr>\n",
              "      <th>25%</th>\n",
              "      <td>12.000000</td>\n",
              "      <td>5.533501e+05</td>\n",
              "      <td>0.000000</td>\n",
              "      <td>47.460000</td>\n",
              "      <td>2.933000</td>\n",
              "      <td>131.735000</td>\n",
              "      <td>6.891000</td>\n",
              "    </tr>\n",
              "    <tr>\n",
              "      <th>50%</th>\n",
              "      <td>23.000000</td>\n",
              "      <td>9.607460e+05</td>\n",
              "      <td>0.000000</td>\n",
              "      <td>62.670000</td>\n",
              "      <td>3.445000</td>\n",
              "      <td>182.616521</td>\n",
              "      <td>7.874000</td>\n",
              "    </tr>\n",
              "    <tr>\n",
              "      <th>75%</th>\n",
              "      <td>34.000000</td>\n",
              "      <td>1.420159e+06</td>\n",
              "      <td>0.000000</td>\n",
              "      <td>74.940000</td>\n",
              "      <td>3.735000</td>\n",
              "      <td>212.743293</td>\n",
              "      <td>8.622000</td>\n",
              "    </tr>\n",
              "    <tr>\n",
              "      <th>max</th>\n",
              "      <td>45.000000</td>\n",
              "      <td>3.818686e+06</td>\n",
              "      <td>1.000000</td>\n",
              "      <td>100.140000</td>\n",
              "      <td>4.468000</td>\n",
              "      <td>227.232807</td>\n",
              "      <td>14.313000</td>\n",
              "    </tr>\n",
              "  </tbody>\n",
              "</table>\n",
              "</div>\n",
              "    <div class=\"colab-df-buttons\">\n",
              "\n",
              "  <div class=\"colab-df-container\">\n",
              "    <button class=\"colab-df-convert\" onclick=\"convertToInteractive('df-3e8a03f2-c295-4eb6-b147-97b8778e5f9e')\"\n",
              "            title=\"Convert this dataframe to an interactive table.\"\n",
              "            style=\"display:none;\">\n",
              "\n",
              "  <svg xmlns=\"http://www.w3.org/2000/svg\" height=\"24px\" viewBox=\"0 -960 960 960\">\n",
              "    <path d=\"M120-120v-720h720v720H120Zm60-500h600v-160H180v160Zm220 220h160v-160H400v160Zm0 220h160v-160H400v160ZM180-400h160v-160H180v160Zm440 0h160v-160H620v160ZM180-180h160v-160H180v160Zm440 0h160v-160H620v160Z\"/>\n",
              "  </svg>\n",
              "    </button>\n",
              "\n",
              "  <style>\n",
              "    .colab-df-container {\n",
              "      display:flex;\n",
              "      gap: 12px;\n",
              "    }\n",
              "\n",
              "    .colab-df-convert {\n",
              "      background-color: #E8F0FE;\n",
              "      border: none;\n",
              "      border-radius: 50%;\n",
              "      cursor: pointer;\n",
              "      display: none;\n",
              "      fill: #1967D2;\n",
              "      height: 32px;\n",
              "      padding: 0 0 0 0;\n",
              "      width: 32px;\n",
              "    }\n",
              "\n",
              "    .colab-df-convert:hover {\n",
              "      background-color: #E2EBFA;\n",
              "      box-shadow: 0px 1px 2px rgba(60, 64, 67, 0.3), 0px 1px 3px 1px rgba(60, 64, 67, 0.15);\n",
              "      fill: #174EA6;\n",
              "    }\n",
              "\n",
              "    .colab-df-buttons div {\n",
              "      margin-bottom: 4px;\n",
              "    }\n",
              "\n",
              "    [theme=dark] .colab-df-convert {\n",
              "      background-color: #3B4455;\n",
              "      fill: #D2E3FC;\n",
              "    }\n",
              "\n",
              "    [theme=dark] .colab-df-convert:hover {\n",
              "      background-color: #434B5C;\n",
              "      box-shadow: 0px 1px 3px 1px rgba(0, 0, 0, 0.15);\n",
              "      filter: drop-shadow(0px 1px 2px rgba(0, 0, 0, 0.3));\n",
              "      fill: #FFFFFF;\n",
              "    }\n",
              "  </style>\n",
              "\n",
              "    <script>\n",
              "      const buttonEl =\n",
              "        document.querySelector('#df-3e8a03f2-c295-4eb6-b147-97b8778e5f9e button.colab-df-convert');\n",
              "      buttonEl.style.display =\n",
              "        google.colab.kernel.accessAllowed ? 'block' : 'none';\n",
              "\n",
              "      async function convertToInteractive(key) {\n",
              "        const element = document.querySelector('#df-3e8a03f2-c295-4eb6-b147-97b8778e5f9e');\n",
              "        const dataTable =\n",
              "          await google.colab.kernel.invokeFunction('convertToInteractive',\n",
              "                                                    [key], {});\n",
              "        if (!dataTable) return;\n",
              "\n",
              "        const docLinkHtml = 'Like what you see? Visit the ' +\n",
              "          '<a target=\"_blank\" href=https://colab.research.google.com/notebooks/data_table.ipynb>data table notebook</a>'\n",
              "          + ' to learn more about interactive tables.';\n",
              "        element.innerHTML = '';\n",
              "        dataTable['output_type'] = 'display_data';\n",
              "        await google.colab.output.renderOutput(dataTable, element);\n",
              "        const docLink = document.createElement('div');\n",
              "        docLink.innerHTML = docLinkHtml;\n",
              "        element.appendChild(docLink);\n",
              "      }\n",
              "    </script>\n",
              "  </div>\n",
              "\n",
              "\n",
              "<div id=\"df-9bb114a1-e196-4a20-92c9-c4dae9f2c52f\">\n",
              "  <button class=\"colab-df-quickchart\" onclick=\"quickchart('df-9bb114a1-e196-4a20-92c9-c4dae9f2c52f')\"\n",
              "            title=\"Suggest charts\"\n",
              "            style=\"display:none;\">\n",
              "\n",
              "<svg xmlns=\"http://www.w3.org/2000/svg\" height=\"24px\"viewBox=\"0 0 24 24\"\n",
              "     width=\"24px\">\n",
              "    <g>\n",
              "        <path d=\"M19 3H5c-1.1 0-2 .9-2 2v14c0 1.1.9 2 2 2h14c1.1 0 2-.9 2-2V5c0-1.1-.9-2-2-2zM9 17H7v-7h2v7zm4 0h-2V7h2v10zm4 0h-2v-4h2v4z\"/>\n",
              "    </g>\n",
              "</svg>\n",
              "  </button>\n",
              "\n",
              "<style>\n",
              "  .colab-df-quickchart {\n",
              "      --bg-color: #E8F0FE;\n",
              "      --fill-color: #1967D2;\n",
              "      --hover-bg-color: #E2EBFA;\n",
              "      --hover-fill-color: #174EA6;\n",
              "      --disabled-fill-color: #AAA;\n",
              "      --disabled-bg-color: #DDD;\n",
              "  }\n",
              "\n",
              "  [theme=dark] .colab-df-quickchart {\n",
              "      --bg-color: #3B4455;\n",
              "      --fill-color: #D2E3FC;\n",
              "      --hover-bg-color: #434B5C;\n",
              "      --hover-fill-color: #FFFFFF;\n",
              "      --disabled-bg-color: #3B4455;\n",
              "      --disabled-fill-color: #666;\n",
              "  }\n",
              "\n",
              "  .colab-df-quickchart {\n",
              "    background-color: var(--bg-color);\n",
              "    border: none;\n",
              "    border-radius: 50%;\n",
              "    cursor: pointer;\n",
              "    display: none;\n",
              "    fill: var(--fill-color);\n",
              "    height: 32px;\n",
              "    padding: 0;\n",
              "    width: 32px;\n",
              "  }\n",
              "\n",
              "  .colab-df-quickchart:hover {\n",
              "    background-color: var(--hover-bg-color);\n",
              "    box-shadow: 0 1px 2px rgba(60, 64, 67, 0.3), 0 1px 3px 1px rgba(60, 64, 67, 0.15);\n",
              "    fill: var(--button-hover-fill-color);\n",
              "  }\n",
              "\n",
              "  .colab-df-quickchart-complete:disabled,\n",
              "  .colab-df-quickchart-complete:disabled:hover {\n",
              "    background-color: var(--disabled-bg-color);\n",
              "    fill: var(--disabled-fill-color);\n",
              "    box-shadow: none;\n",
              "  }\n",
              "\n",
              "  .colab-df-spinner {\n",
              "    border: 2px solid var(--fill-color);\n",
              "    border-color: transparent;\n",
              "    border-bottom-color: var(--fill-color);\n",
              "    animation:\n",
              "      spin 1s steps(1) infinite;\n",
              "  }\n",
              "\n",
              "  @keyframes spin {\n",
              "    0% {\n",
              "      border-color: transparent;\n",
              "      border-bottom-color: var(--fill-color);\n",
              "      border-left-color: var(--fill-color);\n",
              "    }\n",
              "    20% {\n",
              "      border-color: transparent;\n",
              "      border-left-color: var(--fill-color);\n",
              "      border-top-color: var(--fill-color);\n",
              "    }\n",
              "    30% {\n",
              "      border-color: transparent;\n",
              "      border-left-color: var(--fill-color);\n",
              "      border-top-color: var(--fill-color);\n",
              "      border-right-color: var(--fill-color);\n",
              "    }\n",
              "    40% {\n",
              "      border-color: transparent;\n",
              "      border-right-color: var(--fill-color);\n",
              "      border-top-color: var(--fill-color);\n",
              "    }\n",
              "    60% {\n",
              "      border-color: transparent;\n",
              "      border-right-color: var(--fill-color);\n",
              "    }\n",
              "    80% {\n",
              "      border-color: transparent;\n",
              "      border-right-color: var(--fill-color);\n",
              "      border-bottom-color: var(--fill-color);\n",
              "    }\n",
              "    90% {\n",
              "      border-color: transparent;\n",
              "      border-bottom-color: var(--fill-color);\n",
              "    }\n",
              "  }\n",
              "</style>\n",
              "\n",
              "  <script>\n",
              "    async function quickchart(key) {\n",
              "      const quickchartButtonEl =\n",
              "        document.querySelector('#' + key + ' button');\n",
              "      quickchartButtonEl.disabled = true;  // To prevent multiple clicks.\n",
              "      quickchartButtonEl.classList.add('colab-df-spinner');\n",
              "      try {\n",
              "        const charts = await google.colab.kernel.invokeFunction(\n",
              "            'suggestCharts', [key], {});\n",
              "      } catch (error) {\n",
              "        console.error('Error during call to suggestCharts:', error);\n",
              "      }\n",
              "      quickchartButtonEl.classList.remove('colab-df-spinner');\n",
              "      quickchartButtonEl.classList.add('colab-df-quickchart-complete');\n",
              "    }\n",
              "    (() => {\n",
              "      let quickchartButtonEl =\n",
              "        document.querySelector('#df-9bb114a1-e196-4a20-92c9-c4dae9f2c52f button');\n",
              "      quickchartButtonEl.style.display =\n",
              "        google.colab.kernel.accessAllowed ? 'block' : 'none';\n",
              "    })();\n",
              "  </script>\n",
              "</div>\n",
              "\n",
              "    </div>\n",
              "  </div>\n"
            ],
            "application/vnd.google.colaboratory.intrinsic+json": {
              "type": "dataframe",
              "summary": "{\n  \"name\": \"df\",\n  \"rows\": 8,\n  \"fields\": [\n    {\n      \"column\": \"Store\",\n      \"properties\": {\n        \"dtype\": \"number\",\n        \"std\": 2267.530836160574,\n        \"min\": 1.0,\n        \"max\": 6435.0,\n        \"num_unique_values\": 7,\n        \"samples\": [\n          6435.0,\n          23.0,\n          34.0\n        ],\n        \"semantic_type\": \"\",\n        \"description\": \"\"\n      }\n    },\n    {\n      \"column\": \"Weekly_Sales\",\n      \"properties\": {\n        \"dtype\": \"number\",\n        \"std\": 1200219.5149406514,\n        \"min\": 6435.0,\n        \"max\": 3818686.45,\n        \"num_unique_values\": 8,\n        \"samples\": [\n          1046964.8775617715,\n          960746.04,\n          6435.0\n        ],\n        \"semantic_type\": \"\",\n        \"description\": \"\"\n      }\n    },\n    {\n      \"column\": \"Holiday_Flag\",\n      \"properties\": {\n        \"dtype\": \"number\",\n        \"std\": 2275.049172639847,\n        \"min\": 0.0,\n        \"max\": 6435.0,\n        \"num_unique_values\": 5,\n        \"samples\": [\n          0.06993006993006994,\n          1.0,\n          0.25504894436981873\n        ],\n        \"semantic_type\": \"\",\n        \"description\": \"\"\n      }\n    },\n    {\n      \"column\": \"Temperature\",\n      \"properties\": {\n        \"dtype\": \"number\",\n        \"std\": 2257.0439834306026,\n        \"min\": -2.06,\n        \"max\": 6435.0,\n        \"num_unique_values\": 8,\n        \"samples\": [\n          60.66378243978244,\n          62.67,\n          6435.0\n        ],\n        \"semantic_type\": \"\",\n        \"description\": \"\"\n      }\n    },\n    {\n      \"column\": \"Fuel_Price\",\n      \"properties\": {\n        \"dtype\": \"number\",\n        \"std\": 2274.0622491841236,\n        \"min\": 0.4590197071928516,\n        \"max\": 6435.0,\n        \"num_unique_values\": 8,\n        \"samples\": [\n          3.358606837606838,\n          3.445,\n          6435.0\n        ],\n        \"semantic_type\": \"\",\n        \"description\": \"\"\n      }\n    },\n    {\n      \"column\": \"CPI\",\n      \"properties\": {\n        \"dtype\": \"number\",\n        \"std\": 2220.778606683361,\n        \"min\": 39.35671229566413,\n        \"max\": 6435.0,\n        \"num_unique_values\": 8,\n        \"samples\": [\n          171.57839384878014,\n          182.6165205,\n          6435.0\n        ],\n        \"semantic_type\": \"\",\n        \"description\": \"\"\n      }\n    },\n    {\n      \"column\": \"Unemployment\",\n      \"properties\": {\n        \"dtype\": \"number\",\n        \"std\": 2272.520171016687,\n        \"min\": 1.8758847818628084,\n        \"max\": 6435.0,\n        \"num_unique_values\": 8,\n        \"samples\": [\n          7.99915104895105,\n          7.874,\n          6435.0\n        ],\n        \"semantic_type\": \"\",\n        \"description\": \"\"\n      }\n    }\n  ]\n}"
            }
          },
          "metadata": {},
          "execution_count": 6
        }
      ]
    },
    {
      "cell_type": "code",
      "source": [
        "df.fillna(0, inplace=True)"
      ],
      "metadata": {
        "id": "tNCJ2ONELinf"
      },
      "execution_count": null,
      "outputs": []
    },
    {
      "cell_type": "code",
      "source": [
        "def get_season(month):\n",
        "    '''this function is to get season according to month column'''\n",
        "    if month in [12, 1, 2]:\n",
        "        return 'Winter'\n",
        "    elif month in [3, 4, 5]:\n",
        "        return 'Spring'\n",
        "    elif month in [6, 7, 8]:\n",
        "        return 'Summer'\n",
        "    else:\n",
        "        return 'Autumn'"
      ],
      "metadata": {
        "id": "ByLUld0F5dME"
      },
      "execution_count": null,
      "outputs": []
    },
    {
      "cell_type": "code",
      "source": [
        "import numpy as np\n",
        "import pandas as pd"
      ],
      "metadata": {
        "id": "5sgTJEOk5wFd"
      },
      "execution_count": null,
      "outputs": []
    },
    {
      "cell_type": "code",
      "source": [
        "df['Date'] = pd.to_datetime(df['Date'],dayfirst=True)\n",
        "df['Month'] = df['Date'].dt.month\n",
        "df['Year'] = df['Date'].dt.year\n",
        "df['Season'] = df['Month'].apply(get_season)"
      ],
      "metadata": {
        "id": "0Wa8k5Q45hx_"
      },
      "execution_count": null,
      "outputs": []
    },
    {
      "cell_type": "code",
      "source": [
        "df['Store'] = df['Store'].astype('object')"
      ],
      "metadata": {
        "id": "CKxoW5Jx6d1_"
      },
      "execution_count": null,
      "outputs": []
    },
    {
      "cell_type": "code",
      "source": [
        "pip install lightgbm"
      ],
      "metadata": {
        "colab": {
          "base_uri": "https://localhost:8080/"
        },
        "id": "4OY2Y3EH1OC7",
        "outputId": "28e4ce3a-3dc9-4b6f-9bf3-c62faf59d140"
      },
      "execution_count": null,
      "outputs": [
        {
          "output_type": "stream",
          "name": "stdout",
          "text": [
            "Requirement already satisfied: lightgbm in /usr/local/lib/python3.11/dist-packages (4.5.0)\n",
            "Requirement already satisfied: numpy>=1.17.0 in /usr/local/lib/python3.11/dist-packages (from lightgbm) (1.26.4)\n",
            "Requirement already satisfied: scipy in /usr/local/lib/python3.11/dist-packages (from lightgbm) (1.13.1)\n"
          ]
        }
      ]
    },
    {
      "cell_type": "code",
      "source": [
        "import lightgbm as lgb\n",
        "from sklearn.model_selection import train_test_split\n",
        "from sklearn.metrics import accuracy_score, mean_squared_error\n"
      ],
      "metadata": {
        "id": "gBkNPEXu1WKG"
      },
      "execution_count": null,
      "outputs": []
    },
    {
      "cell_type": "code",
      "source": [
        "num_vars = ['Temperature','Fuel_Price','CPI','Unemployment','Weekly_Sales']\n",
        "\n",
        "# scaling numerical variables\n",
        "sc = StandardScaler()\n",
        "df[num_vars] = sc.fit_transform(df[num_vars])\n",
        "\n",
        "# encoding categorical features\n",
        "encoder = BinaryEncoder(cols=['Store','Season'])\n",
        "df = encoder.fit_transform(df)"
      ],
      "metadata": {
        "id": "PUmnSRkq6pef"
      },
      "execution_count": null,
      "outputs": []
    },
    {
      "cell_type": "code",
      "source": [
        "features = df.columns.drop(['Weekly_Sales','Date','Year'])\n",
        "target = 'Weekly_Sales'\n",
        "\n",
        "X = df[features]\n",
        "y = df[target]\n",
        "\n",
        "X_train , X_test , y_train , y_test = train_test_split(X,y,random_state=42 ,  test_size=0.2)"
      ],
      "metadata": {
        "id": "5Wr_O7856ym2"
      },
      "execution_count": null,
      "outputs": []
    },
    {
      "cell_type": "code",
      "source": [
        "import lightgbm as lgb\n",
        "from sklearn.model_selection import train_test_split\n",
        "from sklearn.metrics import mean_squared_error, accuracy_score\n",
        "\n",
        "\n",
        "# Create LightGBM datasets\n",
        "train_data = lgb.Dataset(X_train, label=y_train)\n",
        "test_data = lgb.Dataset(X_test, label=y_test)\n",
        "\n",
        "params = {\n",
        "    'objective': 'regression',\n",
        "    'metric': 'rmse',\n",
        "    'boosting_type': 'gbdt',\n",
        "    'learning_rate': 0.05,\n",
        "    'num_leaves': 31,\n",
        "    'max_depth': -1,\n",
        "    'feature_fraction': 0.9,\n",
        "    'bagging_fraction': 0.8,\n",
        "    'bagging_freq': 5,\n",
        "    'verbose': -1\n",
        "}\n",
        "\n",
        "# Train the LightGBM model using the early_stopping callback\n",
        "model = lgb.train(\n",
        "    params,\n",
        "    train_data,\n",
        "    num_boost_round=1000,\n",
        "    valid_sets=[train_data, test_data],\n",
        "    callbacks=[lgb.early_stopping(stopping_rounds=50), lgb.log_evaluation(100)],  # Pass verbose_eval to log_evaluation callback\n",
        ")\n",
        "\n",
        "# Predict on the test set\n",
        "y_pred = model.predict(X_test, num_iteration=model.best_iteration)\n",
        "\n",
        "# Evaluate the model\n",
        "# Evaluate the model\n",
        "if params['objective'] == 'regression':\n",
        "    # Calculate RMSE without the 'squared' argument for older scikit-learn versions\n",
        "    rmse = np.sqrt(mean_squared_error(y_test, y_pred))\n",
        "    print(f\"RMSE: {rmse}\")\n",
        "else:  # For classification\n",
        "    y_pred_binary = (y_pred > 0.5).astype(int) if params['objective'] == 'binary' else y_pred.argmax(axis=1)\n",
        "    accuracy = accuracy_score(y_test, y_pred_binary)\n",
        "    print(f\"Accuracy: {accuracy}\")"
      ],
      "metadata": {
        "id": "xVSzpebn1432",
        "colab": {
          "base_uri": "https://localhost:8080/"
        },
        "outputId": "b7ed2a6c-9642-4436-df78-680106f97d15"
      },
      "execution_count": null,
      "outputs": [
        {
          "output_type": "stream",
          "name": "stdout",
          "text": [
            "Training until validation scores don't improve for 50 rounds\n",
            "[100]\ttraining's rmse: 0.194004\tvalid_1's rmse: 0.222503\n",
            "[200]\ttraining's rmse: 0.15189\tvalid_1's rmse: 0.200784\n",
            "[300]\ttraining's rmse: 0.132816\tvalid_1's rmse: 0.195573\n",
            "[400]\ttraining's rmse: 0.120153\tvalid_1's rmse: 0.192256\n",
            "[500]\ttraining's rmse: 0.110815\tvalid_1's rmse: 0.190107\n",
            "[600]\ttraining's rmse: 0.103054\tvalid_1's rmse: 0.189216\n",
            "Early stopping, best iteration is:\n",
            "[577]\ttraining's rmse: 0.104603\tvalid_1's rmse: 0.1891\n",
            "RMSE: 0.18910035949236356\n"
          ]
        }
      ]
    },
    {
      "cell_type": "code",
      "source": [
        "import lightgbm as lgb\n",
        "import numpy as np\n",
        "from sklearn.model_selection import train_test_split\n",
        "from sklearn.metrics import mean_squared_error, mean_absolute_error, r2_score\n",
        "\n",
        "# Create LightGBM datasets\n",
        "train_data = lgb.Dataset(X_train, label=y_train)\n",
        "test_data = lgb.Dataset(X_test, label=y_test)\n",
        "\n",
        "params = {\n",
        "    'objective': 'regression',\n",
        "    'metric': 'rmse',\n",
        "    'boosting_type': 'gbdt',\n",
        "    'learning_rate': 0.05,\n",
        "    'num_leaves': 31,\n",
        "    'max_depth': -1,\n",
        "    'feature_fraction': 0.9,\n",
        "    'bagging_fraction': 0.8,\n",
        "    'bagging_freq': 5,\n",
        "    'verbose': -1\n",
        "}\n",
        "\n",
        "# Train the LightGBM model using the early_stopping callback\n",
        "model = lgb.train(\n",
        "    params,\n",
        "    train_data,\n",
        "    num_boost_round=1000,\n",
        "    valid_sets=[train_data, test_data],\n",
        "    callbacks=[lgb.early_stopping(stopping_rounds=50), lgb.log_evaluation(100)]\n",
        ")\n",
        "\n",
        "# Predict on the test set\n",
        "y_pred = model.predict(X_test, num_iteration=model.best_iteration)\n",
        "\n",
        "# Evaluate the model\n",
        "# Root Mean Squared Error\n",
        "rmse = np.sqrt(mean_squared_error(y_test, y_pred))\n",
        "# Mean Squared Error\n",
        "mse = mean_squared_error(y_test, y_pred)\n",
        "# Mean Absolute Error\n",
        "mae = mean_absolute_error(y_test, y_pred)\n",
        "# R2 Score\n",
        "r2 = r2_score(y_test, y_pred)\n",
        "\n",
        "# Print results\n",
        "print(\"Final Test R2 Score:\", r2)\n",
        "print(\"Mean Squared Error (MSE):\", mse)\n",
        "print(\"Root Mean Squared Error (RMSE):\", rmse)\n",
        "print(\"Mean Absolute Error (MAE):\", mae)\n",
        "\n",
        "# Training and test set accuracy\n",
        "train_score = model.predict(X_train, num_iteration=model.best_iteration)\n",
        "train_r2 = r2_score(y_train, train_score)\n",
        "print(\"Training set R2 Score:\", train_r2)\n",
        "\n",
        "# Test set accuracy (percentage)\n",
        "test_r2 = r2\n",
        "print(\"Test set R2 Score:\", test_r2)\n"
      ],
      "metadata": {
        "id": "r_yUMC6S_Bvs",
        "outputId": "4e20f8d0-0ec2-49cf-d041-115eac11ae95",
        "colab": {
          "base_uri": "https://localhost:8080/"
        }
      },
      "execution_count": null,
      "outputs": [
        {
          "output_type": "stream",
          "name": "stdout",
          "text": [
            "Training until validation scores don't improve for 50 rounds\n",
            "[100]\ttraining's rmse: 0.194004\tvalid_1's rmse: 0.222503\n",
            "[200]\ttraining's rmse: 0.15189\tvalid_1's rmse: 0.200784\n",
            "[300]\ttraining's rmse: 0.132816\tvalid_1's rmse: 0.195573\n",
            "[400]\ttraining's rmse: 0.120153\tvalid_1's rmse: 0.192256\n",
            "[500]\ttraining's rmse: 0.110815\tvalid_1's rmse: 0.190107\n",
            "[600]\ttraining's rmse: 0.103054\tvalid_1's rmse: 0.189216\n",
            "Early stopping, best iteration is:\n",
            "[577]\ttraining's rmse: 0.104603\tvalid_1's rmse: 0.1891\n",
            "Final Test R2 Score: 0.96465112747043\n",
            "Mean Squared Error (MSE): 0.035758945960141134\n",
            "Root Mean Squared Error (RMSE): 0.18910035949236356\n",
            "Mean Absolute Error (MAE): 0.1110480002021541\n",
            "Training set R2 Score: 0.9890256661912437\n",
            "Test set R2 Score: 0.96465112747043\n"
          ]
        }
      ]
    },
    {
      "cell_type": "markdown",
      "source": [],
      "metadata": {
        "id": "ZQGAOOCJ_BfN"
      }
    },
    {
      "cell_type": "code",
      "source": [
        "!pip install optuna"
      ],
      "metadata": {
        "id": "krR2-ZrnSCqW",
        "colab": {
          "base_uri": "https://localhost:8080/"
        },
        "outputId": "43bf67be-f890-4fe5-f7d2-6c6f69ca4488"
      },
      "execution_count": null,
      "outputs": [
        {
          "output_type": "stream",
          "name": "stdout",
          "text": [
            "Collecting optuna\n",
            "  Downloading optuna-4.2.0-py3-none-any.whl.metadata (17 kB)\n",
            "Collecting alembic>=1.5.0 (from optuna)\n",
            "  Downloading alembic-1.14.1-py3-none-any.whl.metadata (7.4 kB)\n",
            "Collecting colorlog (from optuna)\n",
            "  Downloading colorlog-6.9.0-py3-none-any.whl.metadata (10 kB)\n",
            "Requirement already satisfied: numpy in /usr/local/lib/python3.11/dist-packages (from optuna) (1.26.4)\n",
            "Requirement already satisfied: packaging>=20.0 in /usr/local/lib/python3.11/dist-packages (from optuna) (24.2)\n",
            "Requirement already satisfied: sqlalchemy>=1.4.2 in /usr/local/lib/python3.11/dist-packages (from optuna) (2.0.37)\n",
            "Requirement already satisfied: tqdm in /usr/local/lib/python3.11/dist-packages (from optuna) (4.67.1)\n",
            "Requirement already satisfied: PyYAML in /usr/local/lib/python3.11/dist-packages (from optuna) (6.0.2)\n",
            "Collecting Mako (from alembic>=1.5.0->optuna)\n",
            "  Downloading Mako-1.3.8-py3-none-any.whl.metadata (2.9 kB)\n",
            "Requirement already satisfied: typing-extensions>=4 in /usr/local/lib/python3.11/dist-packages (from alembic>=1.5.0->optuna) (4.12.2)\n",
            "Requirement already satisfied: greenlet!=0.4.17 in /usr/local/lib/python3.11/dist-packages (from sqlalchemy>=1.4.2->optuna) (3.1.1)\n",
            "Requirement already satisfied: MarkupSafe>=0.9.2 in /usr/local/lib/python3.11/dist-packages (from Mako->alembic>=1.5.0->optuna) (3.0.2)\n",
            "Downloading optuna-4.2.0-py3-none-any.whl (383 kB)\n",
            "\u001b[2K   \u001b[90m━━━━━━━━━━━━━━━━━━━━━━━━━━━━━━━━━━━━━━━━\u001b[0m \u001b[32m383.4/383.4 kB\u001b[0m \u001b[31m7.6 MB/s\u001b[0m eta \u001b[36m0:00:00\u001b[0m\n",
            "\u001b[?25hDownloading alembic-1.14.1-py3-none-any.whl (233 kB)\n",
            "\u001b[2K   \u001b[90m━━━━━━━━━━━━━━━━━━━━━━━━━━━━━━━━━━━━━━━━\u001b[0m \u001b[32m233.6/233.6 kB\u001b[0m \u001b[31m15.7 MB/s\u001b[0m eta \u001b[36m0:00:00\u001b[0m\n",
            "\u001b[?25hDownloading colorlog-6.9.0-py3-none-any.whl (11 kB)\n",
            "Downloading Mako-1.3.8-py3-none-any.whl (78 kB)\n",
            "\u001b[2K   \u001b[90m━━━━━━━━━━━━━━━━━━━━━━━━━━━━━━━━━━━━━━━━\u001b[0m \u001b[32m78.6/78.6 kB\u001b[0m \u001b[31m6.3 MB/s\u001b[0m eta \u001b[36m0:00:00\u001b[0m\n",
            "\u001b[?25hInstalling collected packages: Mako, colorlog, alembic, optuna\n",
            "Successfully installed Mako-1.3.8 alembic-1.14.1 colorlog-6.9.0 optuna-4.2.0\n"
          ]
        }
      ]
    },
    {
      "cell_type": "code",
      "source": [
        "import optuna\n",
        "import lightgbm as lgb\n",
        "import numpy as np\n",
        "from sklearn.metrics import r2_score, mean_squared_error, mean_absolute_error\n",
        "from sklearn.model_selection import train_test_split\n",
        "\n",
        "# Define the objective function for Optuna\n",
        "def objective(trial):\n",
        "    # Define the hyperparameter search space\n",
        "    params = {\n",
        "        'objective': 'regression',\n",
        "        'metric': 'rmse',\n",
        "        'boosting_type': 'gbdt',\n",
        "        'learning_rate': trial.suggest_float('learning_rate', 0.01, 0.1, log=True),\n",
        "        'num_leaves': trial.suggest_int('num_leaves', 20, 150),\n",
        "        'max_depth': trial.suggest_int('max_depth', -1, 20),\n",
        "        'feature_fraction': trial.suggest_float('feature_fraction', 0.6, 1.0),\n",
        "        'bagging_fraction': trial.suggest_float('bagging_fraction', 0.6, 1.0),\n",
        "        'bagging_freq': trial.suggest_int('bagging_freq', 1, 10),\n",
        "        'min_data_in_leaf': trial.suggest_int('min_data_in_leaf', 10, 100),\n",
        "        'lambda_l1': trial.suggest_float('lambda_l1', 0.0, 10.0),\n",
        "        'lambda_l2': trial.suggest_float('lambda_l2', 0.0, 10.0),\n",
        "        'verbose': -1\n",
        "    }\n",
        "\n",
        "    # Create LightGBM datasets\n",
        "    train_data = lgb.Dataset(X_train, label=y_train)\n",
        "    test_data = lgb.Dataset(X_test, label=y_test)\n",
        "\n",
        "    # Train the model using callbacks for early stopping\n",
        "    model = lgb.train(\n",
        "        params,\n",
        "        train_data,\n",
        "        num_boost_round=1000,\n",
        "        valid_sets=[train_data, test_data],\n",
        "        callbacks=[\n",
        "            lgb.early_stopping(stopping_rounds=50),  # Use callback for early stopping\n",
        "            lgb.log_evaluation(100)  # Log evaluation every 100 iterations\n",
        "        ]\n",
        "    )\n",
        "\n",
        "    # Predict on the test set\n",
        "    y_pred = model.predict(X_test, num_iteration=model.best_iteration)\n",
        "\n",
        "    # Calculate and return the R² score (Optuna maximizes this score)\n",
        "    return r2_score(y_test, y_pred)"
      ],
      "metadata": {
        "id": "109ecHc3A56_"
      },
      "execution_count": null,
      "outputs": []
    },
    {
      "cell_type": "code",
      "source": [
        "\n",
        "# Create an Optuna study to maximize R²\n",
        "study = optuna.create_study(direction='maximize')\n",
        "study.optimize(objective, n_trials=100)\n",
        "\n",
        "# Display the best hyperparameters found by Optuna\n",
        "best_params = study.best_params\n",
        "print(\"Best parameters found by Optuna:\", best_params)\n",
        "\n",
        "# Train the final model with the best parameters\n",
        "final_model = lgb.train(\n",
        "    {**best_params, 'objective': 'regression', 'metric': 'rmse', 'verbose': -1},\n",
        "    lgb.Dataset(X_train, label=y_train),\n",
        "    num_boost_round=1000,\n",
        "    valid_sets=[lgb.Dataset(X_test, label=y_test)],\n",
        "    callbacks=[lgb.early_stopping(stopping_rounds=50), lgb.log_evaluation(100)]\n",
        ")\n",
        "\n",
        "# Predict on the test set\n",
        "y_pred = final_model.predict(X_test, num_iteration=final_model.best_iteration)\n",
        "\n",
        "# Evaluate the final model\n",
        "rmse = np.sqrt(mean_squared_error(y_test, y_pred))\n",
        "mse = mean_squared_error(y_test, y_pred)\n",
        "mae = mean_absolute_error(y_test, y_pred)\n",
        "r2 = r2_score(y_test, y_pred)\n",
        "\n",
        "# Print evaluation metrics\n",
        "print(\"Final Test R2 Score:\", r2)\n",
        "print(\"Mean Squared Error (MSE):\", mse)\n",
        "print(\"Root Mean Squared Error (RMSE):\", rmse)\n",
        "print(\"Mean Absolute Error (MAE):\", mae)\n",
        "\n"
      ],
      "metadata": {
        "id": "DwRCrz3tSpZm",
        "colab": {
          "base_uri": "https://localhost:8080/"
        },
        "outputId": "707c5179-7d49-4738-b4c7-0f0169c8ac04"
      },
      "execution_count": null,
      "outputs": [
        {
          "output_type": "stream",
          "name": "stderr",
          "text": [
            "[I 2025-01-31 11:00:29,650] A new study created in memory with name: no-name-b17cd058-37e8-4128-be5c-fb8bdc508e22\n"
          ]
        },
        {
          "output_type": "stream",
          "name": "stdout",
          "text": [
            "Training until validation scores don't improve for 50 rounds\n",
            "[100]\ttraining's rmse: 0.284831\tvalid_1's rmse: 0.322745\n",
            "[200]\ttraining's rmse: 0.244819\tvalid_1's rmse: 0.291347\n",
            "[300]\ttraining's rmse: 0.231526\tvalid_1's rmse: 0.282253\n",
            "[400]\ttraining's rmse: 0.226599\tvalid_1's rmse: 0.279613\n",
            "Early stopping, best iteration is:\n",
            "[391]\ttraining's rmse: 0.226599\tvalid_1's rmse: 0.279613\n"
          ]
        },
        {
          "output_type": "stream",
          "name": "stderr",
          "text": [
            "[I 2025-01-31 11:00:30,189] Trial 0 finished with value: 0.9227130269371832 and parameters: {'learning_rate': 0.09900883160727124, 'num_leaves': 70, 'max_depth': 12, 'feature_fraction': 0.7606435370711273, 'bagging_fraction': 0.9493052728892531, 'bagging_freq': 8, 'min_data_in_leaf': 76, 'lambda_l1': 5.0782302585979835, 'lambda_l2': 6.018551760270656}. Best is trial 0 with value: 0.9227130269371832.\n"
          ]
        },
        {
          "output_type": "stream",
          "name": "stdout",
          "text": [
            "Training until validation scores don't improve for 50 rounds\n",
            "[100]\ttraining's rmse: 0.835341\tvalid_1's rmse: 0.829521\n",
            "[200]\ttraining's rmse: 0.781473\tvalid_1's rmse: 0.774687\n",
            "[300]\ttraining's rmse: 0.750304\tvalid_1's rmse: 0.742625\n",
            "[400]\ttraining's rmse: 0.727155\tvalid_1's rmse: 0.72074\n",
            "[500]\ttraining's rmse: 0.701767\tvalid_1's rmse: 0.696818\n",
            "[600]\ttraining's rmse: 0.681823\tvalid_1's rmse: 0.678931\n",
            "[700]\ttraining's rmse: 0.665523\tvalid_1's rmse: 0.665084\n",
            "[800]\ttraining's rmse: 0.651743\tvalid_1's rmse: 0.652615\n",
            "[900]\ttraining's rmse: 0.640012\tvalid_1's rmse: 0.643101\n"
          ]
        },
        {
          "output_type": "stream",
          "name": "stderr",
          "text": [
            "[I 2025-01-31 11:00:32,278] Trial 1 finished with value: 0.6021370431991109 and parameters: {'learning_rate': 0.02558674752400711, 'num_leaves': 44, 'max_depth': 2, 'feature_fraction': 0.8731607809680817, 'bagging_fraction': 0.8909383387708951, 'bagging_freq': 8, 'min_data_in_leaf': 89, 'lambda_l1': 6.587101607007712, 'lambda_l2': 3.3047704805108005}. Best is trial 0 with value: 0.9227130269371832.\n"
          ]
        },
        {
          "output_type": "stream",
          "name": "stdout",
          "text": [
            "[1000]\ttraining's rmse: 0.630958\tvalid_1's rmse: 0.634412\n",
            "Did not meet early stopping. Best iteration is:\n",
            "[1000]\ttraining's rmse: 0.630958\tvalid_1's rmse: 0.634412\n",
            "Training until validation scores don't improve for 50 rounds\n",
            "[100]\ttraining's rmse: 0.382701\tvalid_1's rmse: 0.403647\n",
            "[200]\ttraining's rmse: 0.257854\tvalid_1's rmse: 0.292992\n",
            "[300]\ttraining's rmse: 0.218541\tvalid_1's rmse: 0.260138\n",
            "[400]\ttraining's rmse: 0.201125\tvalid_1's rmse: 0.247976\n",
            "[500]\ttraining's rmse: 0.192235\tvalid_1's rmse: 0.243027\n",
            "[600]\ttraining's rmse: 0.185404\tvalid_1's rmse: 0.238132\n",
            "[700]\ttraining's rmse: 0.180928\tvalid_1's rmse: 0.235938\n",
            "[800]\ttraining's rmse: 0.177929\tvalid_1's rmse: 0.234029\n",
            "[900]\ttraining's rmse: 0.174597\tvalid_1's rmse: 0.232243\n",
            "[1000]\ttraining's rmse: 0.172597\tvalid_1's rmse: 0.231185\n",
            "Did not meet early stopping. Best iteration is:\n",
            "[1000]\ttraining's rmse: 0.172597\tvalid_1's rmse: 0.231185\n"
          ]
        },
        {
          "output_type": "stream",
          "name": "stderr",
          "text": [
            "[I 2025-01-31 11:00:35,351] Trial 2 finished with value: 0.947166328860462 and parameters: {'learning_rate': 0.022112058643817177, 'num_leaves': 136, 'max_depth': 15, 'feature_fraction': 0.7858797443766883, 'bagging_fraction': 0.8357587181426949, 'bagging_freq': 7, 'min_data_in_leaf': 15, 'lambda_l1': 3.736887066845772, 'lambda_l2': 3.152725161834643}. Best is trial 2 with value: 0.947166328860462.\n"
          ]
        },
        {
          "output_type": "stream",
          "name": "stdout",
          "text": [
            "Training until validation scores don't improve for 50 rounds\n",
            "[100]\ttraining's rmse: 0.565269\tvalid_1's rmse: 0.558892\n",
            "[200]\ttraining's rmse: 0.447011\tvalid_1's rmse: 0.44311\n",
            "[300]\ttraining's rmse: 0.39423\tvalid_1's rmse: 0.394659\n",
            "[400]\ttraining's rmse: 0.368368\tvalid_1's rmse: 0.375002\n",
            "[500]\ttraining's rmse: 0.338555\tvalid_1's rmse: 0.349746\n",
            "[600]\ttraining's rmse: 0.32165\tvalid_1's rmse: 0.338133\n",
            "[700]\ttraining's rmse: 0.303742\tvalid_1's rmse: 0.323172\n",
            "[800]\ttraining's rmse: 0.290534\tvalid_1's rmse: 0.312581\n",
            "[900]\ttraining's rmse: 0.279388\tvalid_1's rmse: 0.303134\n",
            "[1000]\ttraining's rmse: 0.27123\tvalid_1's rmse: 0.296318\n",
            "Did not meet early stopping. Best iteration is:\n",
            "[1000]\ttraining's rmse: 0.27123\tvalid_1's rmse: 0.296318\n"
          ]
        },
        {
          "output_type": "stream",
          "name": "stderr",
          "text": [
            "[I 2025-01-31 11:00:37,123] Trial 3 finished with value: 0.9132025988384179 and parameters: {'learning_rate': 0.0112160509495138, 'num_leaves': 54, 'max_depth': 19, 'feature_fraction': 0.9941117238211464, 'bagging_fraction': 0.7412230519669467, 'bagging_freq': 6, 'min_data_in_leaf': 80, 'lambda_l1': 4.5584556585347125, 'lambda_l2': 0.18905189951546775}. Best is trial 2 with value: 0.947166328860462.\n"
          ]
        },
        {
          "output_type": "stream",
          "name": "stdout",
          "text": [
            "Training until validation scores don't improve for 50 rounds\n",
            "[100]\ttraining's rmse: 0.590768\tvalid_1's rmse: 0.596914\n",
            "[200]\ttraining's rmse: 0.425949\tvalid_1's rmse: 0.435186\n",
            "[300]\ttraining's rmse: 0.357028\tvalid_1's rmse: 0.371525\n",
            "[400]\ttraining's rmse: 0.321527\tvalid_1's rmse: 0.34247\n",
            "[500]\ttraining's rmse: 0.295586\tvalid_1's rmse: 0.320689\n",
            "[600]\ttraining's rmse: 0.278931\tvalid_1's rmse: 0.308698\n",
            "[700]\ttraining's rmse: 0.26139\tvalid_1's rmse: 0.293929\n",
            "[800]\ttraining's rmse: 0.250202\tvalid_1's rmse: 0.284976\n",
            "[900]\ttraining's rmse: 0.238268\tvalid_1's rmse: 0.275888\n",
            "[1000]\ttraining's rmse: 0.231861\tvalid_1's rmse: 0.271099\n",
            "Did not meet early stopping. Best iteration is:\n",
            "[1000]\ttraining's rmse: 0.231861\tvalid_1's rmse: 0.271099\n"
          ]
        },
        {
          "output_type": "stream",
          "name": "stderr",
          "text": [
            "[I 2025-01-31 11:00:39,105] Trial 4 finished with value: 0.9273479318641085 and parameters: {'learning_rate': 0.010157693016984529, 'num_leaves': 102, 'max_depth': 14, 'feature_fraction': 0.7890738773871282, 'bagging_fraction': 0.7357936992248586, 'bagging_freq': 9, 'min_data_in_leaf': 60, 'lambda_l1': 1.6454946735791276, 'lambda_l2': 2.0031131176694927}. Best is trial 2 with value: 0.947166328860462.\n"
          ]
        },
        {
          "output_type": "stream",
          "name": "stdout",
          "text": [
            "Training until validation scores don't improve for 50 rounds\n",
            "[100]\ttraining's rmse: 0.646082\tvalid_1's rmse: 0.650226\n",
            "[200]\ttraining's rmse: 0.522728\tvalid_1's rmse: 0.533297\n",
            "[300]\ttraining's rmse: 0.466496\tvalid_1's rmse: 0.482136\n",
            "[400]\ttraining's rmse: 0.410276\tvalid_1's rmse: 0.430033\n",
            "[500]\ttraining's rmse: 0.382713\tvalid_1's rmse: 0.403354\n",
            "[600]\ttraining's rmse: 0.363033\tvalid_1's rmse: 0.385376\n",
            "[700]\ttraining's rmse: 0.348475\tvalid_1's rmse: 0.371572\n",
            "[800]\ttraining's rmse: 0.330407\tvalid_1's rmse: 0.357436\n",
            "[900]\ttraining's rmse: 0.312129\tvalid_1's rmse: 0.339856\n",
            "[1000]\ttraining's rmse: 0.299941\tvalid_1's rmse: 0.329049\n",
            "Did not meet early stopping. Best iteration is:\n",
            "[999]\ttraining's rmse: 0.299971\tvalid_1's rmse: 0.329037\n"
          ]
        },
        {
          "output_type": "stream",
          "name": "stderr",
          "text": [
            "[I 2025-01-31 11:00:39,838] Trial 5 finished with value: 0.8929764996859866 and parameters: {'learning_rate': 0.06410264950349458, 'num_leaves': 103, 'max_depth': 3, 'feature_fraction': 0.8163539945552114, 'bagging_fraction': 0.7673489129930798, 'bagging_freq': 4, 'min_data_in_leaf': 89, 'lambda_l1': 1.179040473220826, 'lambda_l2': 2.498384162790753}. Best is trial 2 with value: 0.947166328860462.\n"
          ]
        },
        {
          "output_type": "stream",
          "name": "stdout",
          "text": [
            "Training until validation scores don't improve for 50 rounds\n",
            "[100]\ttraining's rmse: 0.821624\tvalid_1's rmse: 0.819547\n",
            "[200]\ttraining's rmse: 0.752928\tvalid_1's rmse: 0.750982\n",
            "[300]\ttraining's rmse: 0.718854\tvalid_1's rmse: 0.716937\n",
            "[400]\ttraining's rmse: 0.691906\tvalid_1's rmse: 0.692527\n",
            "[500]\ttraining's rmse: 0.669426\tvalid_1's rmse: 0.670831\n",
            "[600]\ttraining's rmse: 0.649029\tvalid_1's rmse: 0.652599\n",
            "[700]\ttraining's rmse: 0.62815\tvalid_1's rmse: 0.633238\n",
            "[800]\ttraining's rmse: 0.607911\tvalid_1's rmse: 0.613734\n",
            "[900]\ttraining's rmse: 0.586776\tvalid_1's rmse: 0.594616\n",
            "[1000]\ttraining's rmse: 0.572114\tvalid_1's rmse: 0.580682\n",
            "Did not meet early stopping. Best iteration is:\n",
            "[1000]\ttraining's rmse: 0.572114\tvalid_1's rmse: 0.580682\n"
          ]
        },
        {
          "output_type": "stream",
          "name": "stderr",
          "text": [
            "[I 2025-01-31 11:00:40,583] Trial 6 finished with value: 0.6666747669441043 and parameters: {'learning_rate': 0.010363885531591786, 'num_leaves': 109, 'max_depth': 3, 'feature_fraction': 0.8839326643369287, 'bagging_fraction': 0.8472432223311456, 'bagging_freq': 9, 'min_data_in_leaf': 76, 'lambda_l1': 4.932784729057982, 'lambda_l2': 3.742697856964765}. Best is trial 2 with value: 0.947166328860462.\n"
          ]
        },
        {
          "output_type": "stream",
          "name": "stdout",
          "text": [
            "Training until validation scores don't improve for 50 rounds\n",
            "[100]\ttraining's rmse: 0.288132\tvalid_1's rmse: 0.309434\n",
            "[200]\ttraining's rmse: 0.24716\tvalid_1's rmse: 0.278266\n",
            "[300]\ttraining's rmse: 0.226485\tvalid_1's rmse: 0.265634\n",
            "[400]\ttraining's rmse: 0.212931\tvalid_1's rmse: 0.256265\n",
            "[500]\ttraining's rmse: 0.206717\tvalid_1's rmse: 0.252357\n",
            "[600]\ttraining's rmse: 0.202821\tvalid_1's rmse: 0.250232\n",
            "[700]\ttraining's rmse: 0.198879\tvalid_1's rmse: 0.248697\n",
            "[800]\ttraining's rmse: 0.19526\tvalid_1's rmse: 0.246523\n",
            "[900]\ttraining's rmse: 0.192018\tvalid_1's rmse: 0.245177\n",
            "[1000]\ttraining's rmse: 0.188273\tvalid_1's rmse: 0.242184\n",
            "Did not meet early stopping. Best iteration is:\n",
            "[1000]\ttraining's rmse: 0.188273\tvalid_1's rmse: 0.242184\n"
          ]
        },
        {
          "output_type": "stream",
          "name": "stderr",
          "text": [
            "[I 2025-01-31 11:00:42,045] Trial 7 finished with value: 0.9420195805915386 and parameters: {'learning_rate': 0.06497043959319243, 'num_leaves': 36, 'max_depth': 19, 'feature_fraction': 0.9555015694333765, 'bagging_fraction': 0.7610106712671563, 'bagging_freq': 7, 'min_data_in_leaf': 55, 'lambda_l1': 4.7716486835153695, 'lambda_l2': 5.326769225555742}. Best is trial 2 with value: 0.947166328860462.\n"
          ]
        },
        {
          "output_type": "stream",
          "name": "stdout",
          "text": [
            "Training until validation scores don't improve for 50 rounds\n",
            "[100]\ttraining's rmse: 0.4966\tvalid_1's rmse: 0.513554\n",
            "[200]\ttraining's rmse: 0.339631\tvalid_1's rmse: 0.367218\n",
            "[300]\ttraining's rmse: 0.281842\tvalid_1's rmse: 0.315292\n",
            "[400]\ttraining's rmse: 0.253929\tvalid_1's rmse: 0.289954\n",
            "[500]\ttraining's rmse: 0.242001\tvalid_1's rmse: 0.280626\n",
            "[600]\ttraining's rmse: 0.235745\tvalid_1's rmse: 0.276165\n",
            "[700]\ttraining's rmse: 0.229142\tvalid_1's rmse: 0.27106\n",
            "[800]\ttraining's rmse: 0.224656\tvalid_1's rmse: 0.267962\n",
            "[900]\ttraining's rmse: 0.222278\tvalid_1's rmse: 0.266244\n",
            "[1000]\ttraining's rmse: 0.2198\tvalid_1's rmse: 0.264768\n",
            "Did not meet early stopping. Best iteration is:\n",
            "[1000]\ttraining's rmse: 0.2198\tvalid_1's rmse: 0.264768\n"
          ]
        },
        {
          "output_type": "stream",
          "name": "stderr",
          "text": [
            "[I 2025-01-31 11:00:43,898] Trial 8 finished with value: 0.9307019006791731 and parameters: {'learning_rate': 0.019025706370542364, 'num_leaves': 90, 'max_depth': 0, 'feature_fraction': 0.7560886853140193, 'bagging_fraction': 0.8384365779106079, 'bagging_freq': 8, 'min_data_in_leaf': 19, 'lambda_l1': 6.054154619940691, 'lambda_l2': 5.3490050183825275}. Best is trial 2 with value: 0.947166328860462.\n"
          ]
        },
        {
          "output_type": "stream",
          "name": "stdout",
          "text": [
            "Training until validation scores don't improve for 50 rounds\n",
            "[100]\ttraining's rmse: 0.687197\tvalid_1's rmse: 0.687992\n",
            "[200]\ttraining's rmse: 0.613704\tvalid_1's rmse: 0.619115\n",
            "[300]\ttraining's rmse: 0.531653\tvalid_1's rmse: 0.543264\n",
            "[400]\ttraining's rmse: 0.494422\tvalid_1's rmse: 0.511836\n",
            "[500]\ttraining's rmse: 0.467072\tvalid_1's rmse: 0.487709\n",
            "[600]\ttraining's rmse: 0.440847\tvalid_1's rmse: 0.465065\n",
            "[700]\ttraining's rmse: 0.417114\tvalid_1's rmse: 0.443879\n",
            "[800]\ttraining's rmse: 0.395849\tvalid_1's rmse: 0.423745\n",
            "[900]\ttraining's rmse: 0.380329\tvalid_1's rmse: 0.408323\n"
          ]
        },
        {
          "output_type": "stream",
          "name": "stderr",
          "text": [
            "[I 2025-01-31 11:00:46,756] Trial 9 finished with value: 0.8440765091542146 and parameters: {'learning_rate': 0.04413960275190546, 'num_leaves': 62, 'max_depth': 3, 'feature_fraction': 0.6058076841798048, 'bagging_fraction': 0.9166271097706845, 'bagging_freq': 3, 'min_data_in_leaf': 83, 'lambda_l1': 2.0165637606953304, 'lambda_l2': 4.04601225954257}. Best is trial 2 with value: 0.947166328860462.\n"
          ]
        },
        {
          "output_type": "stream",
          "name": "stdout",
          "text": [
            "[1000]\ttraining's rmse: 0.368186\tvalid_1's rmse: 0.397155\n",
            "Did not meet early stopping. Best iteration is:\n",
            "[1000]\ttraining's rmse: 0.368186\tvalid_1's rmse: 0.397155\n",
            "Training until validation scores don't improve for 50 rounds\n",
            "[100]\ttraining's rmse: 0.609288\tvalid_1's rmse: 0.617476\n",
            "[200]\ttraining's rmse: 0.464765\tvalid_1's rmse: 0.478702\n",
            "[300]\ttraining's rmse: 0.41062\tvalid_1's rmse: 0.42952\n",
            "[400]\ttraining's rmse: 0.380348\tvalid_1's rmse: 0.402654\n",
            "[500]\ttraining's rmse: 0.35887\tvalid_1's rmse: 0.384013\n",
            "[600]\ttraining's rmse: 0.346301\tvalid_1's rmse: 0.373747\n",
            "[700]\ttraining's rmse: 0.336505\tvalid_1's rmse: 0.365418\n",
            "[800]\ttraining's rmse: 0.330636\tvalid_1's rmse: 0.361042\n",
            "[900]\ttraining's rmse: 0.325686\tvalid_1's rmse: 0.357438\n",
            "[1000]\ttraining's rmse: 0.321764\tvalid_1's rmse: 0.354687\n",
            "Did not meet early stopping. Best iteration is:\n",
            "[1000]\ttraining's rmse: 0.321764\tvalid_1's rmse: 0.354687\n"
          ]
        },
        {
          "output_type": "stream",
          "name": "stderr",
          "text": [
            "[I 2025-01-31 11:00:48,171] Trial 10 finished with value: 0.8756401127525734 and parameters: {'learning_rate': 0.018524148550578025, 'num_leaves': 149, 'max_depth': 7, 'feature_fraction': 0.6555444274828073, 'bagging_fraction': 0.6251384281582887, 'bagging_freq': 1, 'min_data_in_leaf': 10, 'lambda_l1': 9.905532478022131, 'lambda_l2': 8.9002029949217}. Best is trial 2 with value: 0.947166328860462.\n"
          ]
        },
        {
          "output_type": "stream",
          "name": "stdout",
          "text": [
            "Training until validation scores don't improve for 50 rounds\n",
            "[100]\ttraining's rmse: 0.315558\tvalid_1's rmse: 0.321422\n",
            "[200]\ttraining's rmse: 0.250166\tvalid_1's rmse: 0.268777\n",
            "[300]\ttraining's rmse: 0.227045\tvalid_1's rmse: 0.252743\n",
            "[400]\ttraining's rmse: 0.208876\tvalid_1's rmse: 0.243453\n",
            "[500]\ttraining's rmse: 0.200419\tvalid_1's rmse: 0.238126\n",
            "[600]\ttraining's rmse: 0.19344\tvalid_1's rmse: 0.235368\n",
            "[700]\ttraining's rmse: 0.186888\tvalid_1's rmse: 0.231423\n",
            "[800]\ttraining's rmse: 0.182426\tvalid_1's rmse: 0.228527\n",
            "[900]\ttraining's rmse: 0.178794\tvalid_1's rmse: 0.225557\n"
          ]
        },
        {
          "output_type": "stream",
          "name": "stderr",
          "text": [
            "[I 2025-01-31 11:00:49,739] Trial 11 finished with value: 0.9506406719860582 and parameters: {'learning_rate': 0.04037212895625942, 'num_leaves': 23, 'max_depth': 20, 'feature_fraction': 0.9842223132141736, 'bagging_fraction': 0.6755114425740313, 'bagging_freq': 6, 'min_data_in_leaf': 34, 'lambda_l1': 3.2920199280029974, 'lambda_l2': 7.206290354504287}. Best is trial 11 with value: 0.9506406719860582.\n"
          ]
        },
        {
          "output_type": "stream",
          "name": "stdout",
          "text": [
            "[1000]\ttraining's rmse: 0.175471\tvalid_1's rmse: 0.2235\n",
            "Did not meet early stopping. Best iteration is:\n",
            "[997]\ttraining's rmse: 0.175566\tvalid_1's rmse: 0.223455\n",
            "Training until validation scores don't improve for 50 rounds\n",
            "[100]\ttraining's rmse: 0.404057\tvalid_1's rmse: 0.416863\n",
            "[200]\ttraining's rmse: 0.31698\tvalid_1's rmse: 0.34348\n",
            "[300]\ttraining's rmse: 0.273009\tvalid_1's rmse: 0.307059\n",
            "[400]\ttraining's rmse: 0.251281\tvalid_1's rmse: 0.290382\n",
            "[500]\ttraining's rmse: 0.234607\tvalid_1's rmse: 0.276828\n",
            "[600]\ttraining's rmse: 0.223645\tvalid_1's rmse: 0.268613\n",
            "[700]\ttraining's rmse: 0.216571\tvalid_1's rmse: 0.263247\n",
            "[800]\ttraining's rmse: 0.210923\tvalid_1's rmse: 0.259255\n",
            "[900]\ttraining's rmse: 0.204817\tvalid_1's rmse: 0.25516\n"
          ]
        },
        {
          "output_type": "stream",
          "name": "stderr",
          "text": [
            "[I 2025-01-31 11:00:51,642] Trial 12 finished with value: 0.9373912168265655 and parameters: {'learning_rate': 0.03844356771521224, 'num_leaves': 22, 'max_depth': 16, 'feature_fraction': 0.69447426427353, 'bagging_fraction': 0.660140623998383, 'bagging_freq': 5, 'min_data_in_leaf': 32, 'lambda_l1': 3.625326616203848, 'lambda_l2': 7.663353056797505}. Best is trial 11 with value: 0.9506406719860582.\n"
          ]
        },
        {
          "output_type": "stream",
          "name": "stdout",
          "text": [
            "[1000]\ttraining's rmse: 0.200111\tvalid_1's rmse: 0.251665\n",
            "Did not meet early stopping. Best iteration is:\n",
            "[1000]\ttraining's rmse: 0.200111\tvalid_1's rmse: 0.251665\n",
            "Training until validation scores don't improve for 50 rounds\n",
            "[100]\ttraining's rmse: 0.343704\tvalid_1's rmse: 0.351122\n",
            "[200]\ttraining's rmse: 0.263653\tvalid_1's rmse: 0.285725\n",
            "[300]\ttraining's rmse: 0.233391\tvalid_1's rmse: 0.26259\n",
            "[400]\ttraining's rmse: 0.217371\tvalid_1's rmse: 0.252509\n",
            "[500]\ttraining's rmse: 0.207221\tvalid_1's rmse: 0.246691\n",
            "[600]\ttraining's rmse: 0.19969\tvalid_1's rmse: 0.243309\n",
            "[700]\ttraining's rmse: 0.193033\tvalid_1's rmse: 0.239108\n",
            "[800]\ttraining's rmse: 0.18842\tvalid_1's rmse: 0.236616\n",
            "[900]\ttraining's rmse: 0.183649\tvalid_1's rmse: 0.233468\n",
            "[1000]\ttraining's rmse: 0.180627\tvalid_1's rmse: 0.23132\n",
            "Did not meet early stopping. Best iteration is:\n",
            "[998]\ttraining's rmse: 0.180657\tvalid_1's rmse: 0.231319\n"
          ]
        },
        {
          "output_type": "stream",
          "name": "stderr",
          "text": [
            "[I 2025-01-31 11:00:53,534] Trial 13 finished with value: 0.9471050082591354 and parameters: {'learning_rate': 0.026482528593620085, 'num_leaves': 138, 'max_depth': 20, 'feature_fraction': 0.9046360795028305, 'bagging_fraction': 0.6697651985385141, 'bagging_freq': 6, 'min_data_in_leaf': 34, 'lambda_l1': 3.105581328754793, 'lambda_l2': 7.404631973113957}. Best is trial 11 with value: 0.9506406719860582.\n"
          ]
        },
        {
          "output_type": "stream",
          "name": "stdout",
          "text": [
            "Training until validation scores don't improve for 50 rounds\n",
            "[100]\ttraining's rmse: 0.532977\tvalid_1's rmse: 0.5423\n",
            "[200]\ttraining's rmse: 0.406946\tvalid_1's rmse: 0.423235\n",
            "[300]\ttraining's rmse: 0.344352\tvalid_1's rmse: 0.365505\n",
            "[400]\ttraining's rmse: 0.312769\tvalid_1's rmse: 0.338922\n",
            "[500]\ttraining's rmse: 0.288435\tvalid_1's rmse: 0.31637\n",
            "[600]\ttraining's rmse: 0.281072\tvalid_1's rmse: 0.310826\n",
            "[700]\ttraining's rmse: 0.276381\tvalid_1's rmse: 0.307175\n",
            "[800]\ttraining's rmse: 0.271542\tvalid_1's rmse: 0.303197\n",
            "[900]\ttraining's rmse: 0.268236\tvalid_1's rmse: 0.300919\n",
            "[1000]\ttraining's rmse: 0.265606\tvalid_1's rmse: 0.299032\n",
            "Did not meet early stopping. Best iteration is:\n",
            "[1000]\ttraining's rmse: 0.265606\tvalid_1's rmse: 0.299032\n"
          ]
        },
        {
          "output_type": "stream",
          "name": "stderr",
          "text": [
            "[I 2025-01-31 11:00:55,193] Trial 14 finished with value: 0.9116055242225634 and parameters: {'learning_rate': 0.017097806501683202, 'num_leaves': 134, 'max_depth': 9, 'feature_fraction': 0.8328059611485257, 'bagging_fraction': 0.8260962159562302, 'bagging_freq': 10, 'min_data_in_leaf': 35, 'lambda_l1': 8.637272021673123, 'lambda_l2': 6.929316490492186}. Best is trial 11 with value: 0.9506406719860582.\n"
          ]
        },
        {
          "output_type": "stream",
          "name": "stdout",
          "text": [
            "Training until validation scores don't improve for 50 rounds\n",
            "[100]\ttraining's rmse: 0.326034\tvalid_1's rmse: 0.34582\n",
            "[200]\ttraining's rmse: 0.246558\tvalid_1's rmse: 0.281737\n",
            "[300]\ttraining's rmse: 0.21337\tvalid_1's rmse: 0.258452\n",
            "[400]\ttraining's rmse: 0.193674\tvalid_1's rmse: 0.244457\n",
            "[500]\ttraining's rmse: 0.180363\tvalid_1's rmse: 0.235029\n",
            "[600]\ttraining's rmse: 0.17088\tvalid_1's rmse: 0.229976\n",
            "[700]\ttraining's rmse: 0.162703\tvalid_1's rmse: 0.227037\n",
            "[800]\ttraining's rmse: 0.155802\tvalid_1's rmse: 0.222829\n",
            "[900]\ttraining's rmse: 0.150231\tvalid_1's rmse: 0.220458\n",
            "Early stopping, best iteration is:\n",
            "[935]\ttraining's rmse: 0.148673\tvalid_1's rmse: 0.219365\n"
          ]
        },
        {
          "output_type": "stream",
          "name": "stderr",
          "text": [
            "[I 2025-01-31 11:00:57,771] Trial 15 finished with value: 0.9524306826930318 and parameters: {'learning_rate': 0.035790049648810385, 'num_leaves': 119, 'max_depth': 16, 'feature_fraction': 0.7173487455474962, 'bagging_fraction': 0.6963741652901105, 'bagging_freq': 4, 'min_data_in_leaf': 47, 'lambda_l1': 0.6035251699516508, 'lambda_l2': 9.95278060612183}. Best is trial 15 with value: 0.9524306826930318.\n"
          ]
        },
        {
          "output_type": "stream",
          "name": "stdout",
          "text": [
            "Training until validation scores don't improve for 50 rounds\n",
            "[100]\ttraining's rmse: 0.277894\tvalid_1's rmse: 0.299355\n",
            "[200]\ttraining's rmse: 0.216108\tvalid_1's rmse: 0.254258\n",
            "[300]\ttraining's rmse: 0.19132\tvalid_1's rmse: 0.237996\n",
            "[400]\ttraining's rmse: 0.174653\tvalid_1's rmse: 0.229229\n",
            "[500]\ttraining's rmse: 0.16302\tvalid_1's rmse: 0.223632\n",
            "[600]\ttraining's rmse: 0.153758\tvalid_1's rmse: 0.219136\n",
            "[700]\ttraining's rmse: 0.146467\tvalid_1's rmse: 0.21619\n",
            "[800]\ttraining's rmse: 0.139561\tvalid_1's rmse: 0.21345\n",
            "[900]\ttraining's rmse: 0.133932\tvalid_1's rmse: 0.211888\n",
            "[1000]\ttraining's rmse: 0.129201\tvalid_1's rmse: 0.210699\n",
            "Did not meet early stopping. Best iteration is:\n",
            "[965]\ttraining's rmse: 0.130671\tvalid_1's rmse: 0.210348\n"
          ]
        },
        {
          "output_type": "stream",
          "name": "stderr",
          "text": [
            "[I 2025-01-31 11:01:02,286] Trial 16 finished with value: 0.9562610420797476 and parameters: {'learning_rate': 0.0472070024265588, 'num_leaves': 117, 'max_depth': 16, 'feature_fraction': 0.7003331604038651, 'bagging_fraction': 0.7027098233907034, 'bagging_freq': 2, 'min_data_in_leaf': 50, 'lambda_l1': 0.2803336802136407, 'lambda_l2': 9.868002087451668}. Best is trial 16 with value: 0.9562610420797476.\n"
          ]
        },
        {
          "output_type": "stream",
          "name": "stdout",
          "text": [
            "Training until validation scores don't improve for 50 rounds\n",
            "[100]\ttraining's rmse: 0.261799\tvalid_1's rmse: 0.289874\n",
            "[200]\ttraining's rmse: 0.206065\tvalid_1's rmse: 0.251032\n",
            "[300]\ttraining's rmse: 0.181816\tvalid_1's rmse: 0.236059\n",
            "[400]\ttraining's rmse: 0.165932\tvalid_1's rmse: 0.227503\n",
            "[500]\ttraining's rmse: 0.154679\tvalid_1's rmse: 0.222517\n",
            "[600]\ttraining's rmse: 0.145889\tvalid_1's rmse: 0.218567\n",
            "[700]\ttraining's rmse: 0.138902\tvalid_1's rmse: 0.215766\n",
            "[800]\ttraining's rmse: 0.132037\tvalid_1's rmse: 0.213212\n",
            "[900]\ttraining's rmse: 0.126532\tvalid_1's rmse: 0.212042\n",
            "[1000]\ttraining's rmse: 0.121962\tvalid_1's rmse: 0.211432\n",
            "Did not meet early stopping. Best iteration is:\n",
            "[956]\ttraining's rmse: 0.123834\tvalid_1's rmse: 0.211047\n"
          ]
        },
        {
          "output_type": "stream",
          "name": "stderr",
          "text": [
            "[I 2025-01-31 11:01:04,374] Trial 17 finished with value: 0.9559700952384391 and parameters: {'learning_rate': 0.059967674738102335, 'num_leaves': 119, 'max_depth': 12, 'feature_fraction': 0.6969635979826779, 'bagging_fraction': 0.7050414823414493, 'bagging_freq': 2, 'min_data_in_leaf': 54, 'lambda_l1': 0.057291122867604294, 'lambda_l2': 9.952355621408255}. Best is trial 16 with value: 0.9562610420797476.\n"
          ]
        },
        {
          "output_type": "stream",
          "name": "stdout",
          "text": [
            "Training until validation scores don't improve for 50 rounds\n",
            "[100]\ttraining's rmse: 0.24954\tvalid_1's rmse: 0.279734\n",
            "[200]\ttraining's rmse: 0.194454\tvalid_1's rmse: 0.239588\n",
            "[300]\ttraining's rmse: 0.170837\tvalid_1's rmse: 0.225435\n",
            "[400]\ttraining's rmse: 0.158389\tvalid_1's rmse: 0.218824\n",
            "[500]\ttraining's rmse: 0.149109\tvalid_1's rmse: 0.214723\n",
            "[600]\ttraining's rmse: 0.14131\tvalid_1's rmse: 0.211635\n",
            "[700]\ttraining's rmse: 0.134484\tvalid_1's rmse: 0.209429\n",
            "[800]\ttraining's rmse: 0.129311\tvalid_1's rmse: 0.207295\n",
            "[900]\ttraining's rmse: 0.124207\tvalid_1's rmse: 0.206055\n",
            "[1000]\ttraining's rmse: 0.119838\tvalid_1's rmse: 0.204864\n",
            "Did not meet early stopping. Best iteration is:\n",
            "[1000]\ttraining's rmse: 0.119838\tvalid_1's rmse: 0.204864\n"
          ]
        },
        {
          "output_type": "stream",
          "name": "stderr",
          "text": [
            "[I 2025-01-31 11:01:06,065] Trial 18 finished with value: 0.9585121520177029 and parameters: {'learning_rate': 0.05581398776432609, 'num_leaves': 81, 'max_depth': 11, 'feature_fraction': 0.6434387926624211, 'bagging_fraction': 0.9966857431332198, 'bagging_freq': 1, 'min_data_in_leaf': 65, 'lambda_l1': 0.017484799141610274, 'lambda_l2': 9.914135155325804}. Best is trial 18 with value: 0.9585121520177029.\n"
          ]
        },
        {
          "output_type": "stream",
          "name": "stdout",
          "text": [
            "Training until validation scores don't improve for 50 rounds\n",
            "[100]\ttraining's rmse: 0.296676\tvalid_1's rmse: 0.321402\n",
            "[200]\ttraining's rmse: 0.2206\tvalid_1's rmse: 0.259537\n",
            "[300]\ttraining's rmse: 0.199085\tvalid_1's rmse: 0.245355\n",
            "[400]\ttraining's rmse: 0.190894\tvalid_1's rmse: 0.241459\n",
            "[500]\ttraining's rmse: 0.18458\tvalid_1's rmse: 0.238822\n",
            "[600]\ttraining's rmse: 0.179775\tvalid_1's rmse: 0.236613\n",
            "[700]\ttraining's rmse: 0.176542\tvalid_1's rmse: 0.235517\n",
            "[800]\ttraining's rmse: 0.174074\tvalid_1's rmse: 0.234657\n",
            "[900]\ttraining's rmse: 0.17229\tvalid_1's rmse: 0.23391\n",
            "[1000]\ttraining's rmse: 0.170721\tvalid_1's rmse: 0.233201\n",
            "Did not meet early stopping. Best iteration is:\n",
            "[998]\ttraining's rmse: 0.170721\tvalid_1's rmse: 0.233201\n"
          ]
        },
        {
          "output_type": "stream",
          "name": "stderr",
          "text": [
            "[I 2025-01-31 11:01:07,138] Trial 19 finished with value: 0.9462409426428063 and parameters: {'learning_rate': 0.095346319056908, 'num_leaves': 83, 'max_depth': 6, 'feature_fraction': 0.6151649646516956, 'bagging_fraction': 0.9931243316739378, 'bagging_freq': 1, 'min_data_in_leaf': 67, 'lambda_l1': 2.3985957949058134, 'lambda_l2': 8.528675997227712}. Best is trial 18 with value: 0.9585121520177029.\n"
          ]
        },
        {
          "output_type": "stream",
          "name": "stdout",
          "text": [
            "Training until validation scores don't improve for 50 rounds\n",
            "[100]\ttraining's rmse: 0.284444\tvalid_1's rmse: 0.309038\n",
            "[200]\ttraining's rmse: 0.223576\tvalid_1's rmse: 0.26344\n",
            "[300]\ttraining's rmse: 0.198932\tvalid_1's rmse: 0.2493\n",
            "[400]\ttraining's rmse: 0.181178\tvalid_1's rmse: 0.238167\n",
            "[500]\ttraining's rmse: 0.170582\tvalid_1's rmse: 0.232206\n",
            "[600]\ttraining's rmse: 0.161739\tvalid_1's rmse: 0.227178\n",
            "[700]\ttraining's rmse: 0.154319\tvalid_1's rmse: 0.223673\n",
            "[800]\ttraining's rmse: 0.147907\tvalid_1's rmse: 0.220037\n",
            "[900]\ttraining's rmse: 0.142837\tvalid_1's rmse: 0.218768\n",
            "[1000]\ttraining's rmse: 0.138451\tvalid_1's rmse: 0.216971\n",
            "Did not meet early stopping. Best iteration is:\n",
            "[998]\ttraining's rmse: 0.138529\tvalid_1's rmse: 0.216894\n"
          ]
        },
        {
          "output_type": "stream",
          "name": "stderr",
          "text": [
            "[I 2025-01-31 11:01:09,105] Trial 20 finished with value: 0.9534966013021593 and parameters: {'learning_rate': 0.05144129531914227, 'num_leaves': 81, 'max_depth': 11, 'feature_fraction': 0.646673342760589, 'bagging_fraction': 0.6108245552252288, 'bagging_freq': 2, 'min_data_in_leaf': 46, 'lambda_l1': 0.5431273084395374, 'lambda_l2': 8.939153969356418}. Best is trial 18 with value: 0.9585121520177029.\n"
          ]
        },
        {
          "output_type": "stream",
          "name": "stdout",
          "text": [
            "Training until validation scores don't improve for 50 rounds\n",
            "[100]\ttraining's rmse: 0.26563\tvalid_1's rmse: 0.290173\n",
            "[200]\ttraining's rmse: 0.21406\tvalid_1's rmse: 0.256137\n",
            "[300]\ttraining's rmse: 0.187979\tvalid_1's rmse: 0.238959\n",
            "[400]\ttraining's rmse: 0.172077\tvalid_1's rmse: 0.228931\n",
            "[500]\ttraining's rmse: 0.160867\tvalid_1's rmse: 0.223835\n",
            "[600]\ttraining's rmse: 0.15231\tvalid_1's rmse: 0.220502\n",
            "[700]\ttraining's rmse: 0.145257\tvalid_1's rmse: 0.217245\n",
            "[800]\ttraining's rmse: 0.139131\tvalid_1's rmse: 0.214964\n",
            "Early stopping, best iteration is:\n",
            "[834]\ttraining's rmse: 0.137259\tvalid_1's rmse: 0.214443\n"
          ]
        },
        {
          "output_type": "stream",
          "name": "stderr",
          "text": [
            "[I 2025-01-31 11:01:11,272] Trial 21 finished with value: 0.9545414011831853 and parameters: {'learning_rate': 0.06745316920371185, 'num_leaves': 123, 'max_depth': 13, 'feature_fraction': 0.7060267508550733, 'bagging_fraction': 0.6998551539102914, 'bagging_freq': 2, 'min_data_in_leaf': 65, 'lambda_l1': 0.0437944556018082, 'lambda_l2': 9.825916055162617}. Best is trial 18 with value: 0.9585121520177029.\n"
          ]
        },
        {
          "output_type": "stream",
          "name": "stdout",
          "text": [
            "Training until validation scores don't improve for 50 rounds\n",
            "[100]\ttraining's rmse: 0.253235\tvalid_1's rmse: 0.28264\n",
            "[200]\ttraining's rmse: 0.199366\tvalid_1's rmse: 0.245625\n",
            "[300]\ttraining's rmse: 0.174506\tvalid_1's rmse: 0.231368\n",
            "[400]\ttraining's rmse: 0.159753\tvalid_1's rmse: 0.223288\n",
            "[500]\ttraining's rmse: 0.148921\tvalid_1's rmse: 0.219527\n",
            "[600]\ttraining's rmse: 0.139307\tvalid_1's rmse: 0.215487\n",
            "[700]\ttraining's rmse: 0.132377\tvalid_1's rmse: 0.213478\n",
            "[800]\ttraining's rmse: 0.12611\tvalid_1's rmse: 0.211463\n",
            "[900]\ttraining's rmse: 0.120781\tvalid_1's rmse: 0.21005\n",
            "[1000]\ttraining's rmse: 0.116265\tvalid_1's rmse: 0.209302\n",
            "Did not meet early stopping. Best iteration is:\n",
            "[995]\ttraining's rmse: 0.116418\tvalid_1's rmse: 0.209229\n"
          ]
        },
        {
          "output_type": "stream",
          "name": "stderr",
          "text": [
            "[I 2025-01-31 11:01:15,518] Trial 22 finished with value: 0.9567253259110473 and parameters: {'learning_rate': 0.052997290186474214, 'num_leaves': 94, 'max_depth': 10, 'feature_fraction': 0.6621191997902554, 'bagging_fraction': 0.7768557484010494, 'bagging_freq': 2, 'min_data_in_leaf': 47, 'lambda_l1': 0.14403298004087262, 'lambda_l2': 8.486835305574074}. Best is trial 18 with value: 0.9585121520177029.\n"
          ]
        },
        {
          "output_type": "stream",
          "name": "stdout",
          "text": [
            "Training until validation scores don't improve for 50 rounds\n",
            "[100]\ttraining's rmse: 0.239563\tvalid_1's rmse: 0.275997\n",
            "[200]\ttraining's rmse: 0.19449\tvalid_1's rmse: 0.245262\n",
            "[300]\ttraining's rmse: 0.172904\tvalid_1's rmse: 0.23201\n",
            "[400]\ttraining's rmse: 0.161127\tvalid_1's rmse: 0.225972\n",
            "[500]\ttraining's rmse: 0.15283\tvalid_1's rmse: 0.222051\n",
            "[600]\ttraining's rmse: 0.147004\tvalid_1's rmse: 0.21975\n",
            "[700]\ttraining's rmse: 0.141861\tvalid_1's rmse: 0.217092\n",
            "[800]\ttraining's rmse: 0.137806\tvalid_1's rmse: 0.215345\n",
            "[900]\ttraining's rmse: 0.134057\tvalid_1's rmse: 0.214407\n",
            "[1000]\ttraining's rmse: 0.130999\tvalid_1's rmse: 0.213206\n",
            "Did not meet early stopping. Best iteration is:\n",
            "[1000]\ttraining's rmse: 0.130999\tvalid_1's rmse: 0.213206\n"
          ]
        },
        {
          "output_type": "stream",
          "name": "stderr",
          "text": [
            "[I 2025-01-31 11:01:17,284] Trial 23 finished with value: 0.955064447095154 and parameters: {'learning_rate': 0.08125499621879824, 'num_leaves': 92, 'max_depth': 9, 'feature_fraction': 0.6670665402923874, 'bagging_fraction': 0.790536555098705, 'bagging_freq': 3, 'min_data_in_leaf': 45, 'lambda_l1': 1.5974397639485376, 'lambda_l2': 8.422410494498362}. Best is trial 18 with value: 0.9585121520177029.\n"
          ]
        },
        {
          "output_type": "stream",
          "name": "stdout",
          "text": [
            "Training until validation scores don't improve for 50 rounds\n",
            "[100]\ttraining's rmse: 0.308534\tvalid_1's rmse: 0.330877\n",
            "[200]\ttraining's rmse: 0.244717\tvalid_1's rmse: 0.279365\n",
            "[300]\ttraining's rmse: 0.213341\tvalid_1's rmse: 0.254712\n",
            "[400]\ttraining's rmse: 0.197173\tvalid_1's rmse: 0.243554\n",
            "[500]\ttraining's rmse: 0.184104\tvalid_1's rmse: 0.235308\n",
            "[600]\ttraining's rmse: 0.175489\tvalid_1's rmse: 0.231917\n",
            "[700]\ttraining's rmse: 0.168286\tvalid_1's rmse: 0.227724\n",
            "[800]\ttraining's rmse: 0.162452\tvalid_1's rmse: 0.225835\n",
            "[900]\ttraining's rmse: 0.157754\tvalid_1's rmse: 0.223949\n",
            "[1000]\ttraining's rmse: 0.154026\tvalid_1's rmse: 0.222251\n",
            "Did not meet early stopping. Best iteration is:\n",
            "[999]\ttraining's rmse: 0.154063\tvalid_1's rmse: 0.222228\n"
          ]
        },
        {
          "output_type": "stream",
          "name": "stderr",
          "text": [
            "[I 2025-01-31 11:01:18,961] Trial 24 finished with value: 0.9511811734091837 and parameters: {'learning_rate': 0.05019985902709448, 'num_leaves': 73, 'max_depth': 17, 'feature_fraction': 0.738678652702265, 'bagging_fraction': 0.7928259153999463, 'bagging_freq': 1, 'min_data_in_leaf': 70, 'lambda_l1': 1.1857995376857158, 'lambda_l2': 9.067022428820035}. Best is trial 18 with value: 0.9585121520177029.\n"
          ]
        },
        {
          "output_type": "stream",
          "name": "stdout",
          "text": [
            "Training until validation scores don't improve for 50 rounds\n",
            "[100]\ttraining's rmse: 0.402719\tvalid_1's rmse: 0.418614\n",
            "[200]\ttraining's rmse: 0.298206\tvalid_1's rmse: 0.326225\n",
            "[300]\ttraining's rmse: 0.248707\tvalid_1's rmse: 0.282757\n",
            "[400]\ttraining's rmse: 0.222301\tvalid_1's rmse: 0.261174\n",
            "[500]\ttraining's rmse: 0.207649\tvalid_1's rmse: 0.24999\n",
            "[600]\ttraining's rmse: 0.199337\tvalid_1's rmse: 0.24499\n",
            "[700]\ttraining's rmse: 0.193593\tvalid_1's rmse: 0.242302\n",
            "[800]\ttraining's rmse: 0.188436\tvalid_1's rmse: 0.239358\n",
            "[900]\ttraining's rmse: 0.18475\tvalid_1's rmse: 0.237723\n",
            "[1000]\ttraining's rmse: 0.181544\tvalid_1's rmse: 0.236159\n",
            "Did not meet early stopping. Best iteration is:\n",
            "[1000]\ttraining's rmse: 0.181544\tvalid_1's rmse: 0.236159\n"
          ]
        },
        {
          "output_type": "stream",
          "name": "stderr",
          "text": [
            "[I 2025-01-31 11:01:20,677] Trial 25 finished with value: 0.9448682607407123 and parameters: {'learning_rate': 0.03197243181763845, 'num_leaves': 96, 'max_depth': 7, 'feature_fraction': 0.6411471423058357, 'bagging_fraction': 0.9912616189544724, 'bagging_freq': 3, 'min_data_in_leaf': 54, 'lambda_l1': 2.5325128952227045, 'lambda_l2': 8.029303007327957}. Best is trial 18 with value: 0.9585121520177029.\n"
          ]
        },
        {
          "output_type": "stream",
          "name": "stdout",
          "text": [
            "Training until validation scores don't improve for 50 rounds\n",
            "[100]\ttraining's rmse: 0.260892\tvalid_1's rmse: 0.29354\n",
            "[200]\ttraining's rmse: 0.196355\tvalid_1's rmse: 0.2477\n",
            "[300]\ttraining's rmse: 0.170572\tvalid_1's rmse: 0.232093\n",
            "[400]\ttraining's rmse: 0.154823\tvalid_1's rmse: 0.223639\n",
            "[500]\ttraining's rmse: 0.144793\tvalid_1's rmse: 0.219507\n",
            "[600]\ttraining's rmse: 0.137337\tvalid_1's rmse: 0.216013\n",
            "[700]\ttraining's rmse: 0.131428\tvalid_1's rmse: 0.213646\n",
            "[800]\ttraining's rmse: 0.126235\tvalid_1's rmse: 0.211945\n",
            "[900]\ttraining's rmse: 0.122549\tvalid_1's rmse: 0.210771\n",
            "[1000]\ttraining's rmse: 0.118736\tvalid_1's rmse: 0.20995\n",
            "Did not meet early stopping. Best iteration is:\n",
            "[976]\ttraining's rmse: 0.119488\tvalid_1's rmse: 0.209889\n"
          ]
        },
        {
          "output_type": "stream",
          "name": "stderr",
          "text": [
            "[I 2025-01-31 11:01:23,078] Trial 26 finished with value: 0.9564518261011833 and parameters: {'learning_rate': 0.04705403975331841, 'num_leaves': 111, 'max_depth': 14, 'feature_fraction': 0.6669579136337659, 'bagging_fraction': 0.8811125520374903, 'bagging_freq': 2, 'min_data_in_leaf': 42, 'lambda_l1': 0.8299658098581058, 'lambda_l2': 6.142220489213311}. Best is trial 18 with value: 0.9585121520177029.\n"
          ]
        },
        {
          "output_type": "stream",
          "name": "stdout",
          "text": [
            "Training until validation scores don't improve for 50 rounds\n",
            "[100]\ttraining's rmse: 0.188998\tvalid_1's rmse: 0.245346\n",
            "[200]\ttraining's rmse: 0.150823\tvalid_1's rmse: 0.223361\n",
            "[300]\ttraining's rmse: 0.132617\tvalid_1's rmse: 0.217708\n",
            "[400]\ttraining's rmse: 0.121747\tvalid_1's rmse: 0.212804\n",
            "[500]\ttraining's rmse: 0.114341\tvalid_1's rmse: 0.2098\n",
            "[600]\ttraining's rmse: 0.109321\tvalid_1's rmse: 0.207949\n",
            "[700]\ttraining's rmse: 0.104871\tvalid_1's rmse: 0.206891\n",
            "[800]\ttraining's rmse: 0.101353\tvalid_1's rmse: 0.205336\n",
            "[900]\ttraining's rmse: 0.0986188\tvalid_1's rmse: 0.204777\n",
            "[1000]\ttraining's rmse: 0.0962995\tvalid_1's rmse: 0.204421\n",
            "Did not meet early stopping. Best iteration is:\n",
            "[979]\ttraining's rmse: 0.0966747\tvalid_1's rmse: 0.204304\n"
          ]
        },
        {
          "output_type": "stream",
          "name": "stderr",
          "text": [
            "[I 2025-01-31 11:01:27,989] Trial 27 finished with value: 0.9587385481272857 and parameters: {'learning_rate': 0.07700551704079477, 'num_leaves': 76, 'max_depth': 10, 'feature_fraction': 0.6681208879207725, 'bagging_fraction': 0.8723425625312545, 'bagging_freq': 4, 'min_data_in_leaf': 25, 'lambda_l1': 0.905027112964433, 'lambda_l2': 6.309905493891305}. Best is trial 27 with value: 0.9587385481272857.\n"
          ]
        },
        {
          "output_type": "stream",
          "name": "stdout",
          "text": [
            "Training until validation scores don't improve for 50 rounds\n",
            "[100]\ttraining's rmse: 0.22202\tvalid_1's rmse: 0.271882\n",
            "[200]\ttraining's rmse: 0.176697\tvalid_1's rmse: 0.237689\n",
            "[300]\ttraining's rmse: 0.163371\tvalid_1's rmse: 0.231364\n",
            "[400]\ttraining's rmse: 0.156602\tvalid_1's rmse: 0.227276\n",
            "[500]\ttraining's rmse: 0.153204\tvalid_1's rmse: 0.225848\n",
            "[600]\ttraining's rmse: 0.150808\tvalid_1's rmse: 0.224683\n",
            "[700]\ttraining's rmse: 0.148912\tvalid_1's rmse: 0.223643\n",
            "[800]\ttraining's rmse: 0.146944\tvalid_1's rmse: 0.222486\n",
            "[900]\ttraining's rmse: 0.14519\tvalid_1's rmse: 0.221585\n",
            "Early stopping, best iteration is:\n",
            "[919]\ttraining's rmse: 0.145015\tvalid_1's rmse: 0.221419\n"
          ]
        },
        {
          "output_type": "stream",
          "name": "stderr",
          "text": [
            "[I 2025-01-31 11:01:29,468] Trial 28 finished with value: 0.951535761618401 and parameters: {'learning_rate': 0.07716147119419323, 'num_leaves': 73, 'max_depth': 10, 'feature_fraction': 0.6269310573253826, 'bagging_fraction': 0.9563412538411612, 'bagging_freq': 4, 'min_data_in_leaf': 23, 'lambda_l1': 2.5136934444078065, 'lambda_l2': 6.709062664125612}. Best is trial 27 with value: 0.9587385481272857.\n"
          ]
        },
        {
          "output_type": "stream",
          "name": "stdout",
          "text": [
            "Training until validation scores don't improve for 50 rounds\n",
            "[100]\ttraining's rmse: 0.287866\tvalid_1's rmse: 0.315006\n"
          ]
        },
        {
          "output_type": "stream",
          "name": "stderr",
          "text": [
            "[I 2025-01-31 11:01:29,789] Trial 29 finished with value: 0.9229585512409133 and parameters: {'learning_rate': 0.09362234535432776, 'num_leaves': 60, 'max_depth': 6, 'feature_fraction': 0.7377295880236814, 'bagging_fraction': 0.9159023666470081, 'bagging_freq': 5, 'min_data_in_leaf': 28, 'lambda_l1': 6.776721439646853, 'lambda_l2': 5.905847311685621}. Best is trial 27 with value: 0.9587385481272857.\n"
          ]
        },
        {
          "output_type": "stream",
          "name": "stdout",
          "text": [
            "[200]\ttraining's rmse: 0.24592\tvalid_1's rmse: 0.279169\n",
            "Early stopping, best iteration is:\n",
            "[167]\ttraining's rmse: 0.24592\tvalid_1's rmse: 0.279169\n",
            "Training until validation scores don't improve for 50 rounds\n",
            "[100]\ttraining's rmse: 0.292327\tvalid_1's rmse: 0.320799\n",
            "[200]\ttraining's rmse: 0.232165\tvalid_1's rmse: 0.274416\n",
            "[300]\ttraining's rmse: 0.206802\tvalid_1's rmse: 0.256187\n",
            "[400]\ttraining's rmse: 0.190119\tvalid_1's rmse: 0.244548\n",
            "[500]\ttraining's rmse: 0.179678\tvalid_1's rmse: 0.238669\n",
            "[600]\ttraining's rmse: 0.169412\tvalid_1's rmse: 0.232605\n",
            "[700]\ttraining's rmse: 0.161869\tvalid_1's rmse: 0.228742\n",
            "[800]\ttraining's rmse: 0.156048\tvalid_1's rmse: 0.22544\n",
            "[900]\ttraining's rmse: 0.151158\tvalid_1's rmse: 0.223342\n",
            "[1000]\ttraining's rmse: 0.147331\tvalid_1's rmse: 0.221731\n",
            "Did not meet early stopping. Best iteration is:\n",
            "[1000]\ttraining's rmse: 0.147331\tvalid_1's rmse: 0.221731\n"
          ]
        },
        {
          "output_type": "stream",
          "name": "stderr",
          "text": [
            "[I 2025-01-31 11:01:31,518] Trial 30 finished with value: 0.9513990479590374 and parameters: {'learning_rate': 0.07716361890788484, 'num_leaves': 78, 'max_depth': 11, 'feature_fraction': 0.6012367379285627, 'bagging_fraction': 0.9587580790066479, 'bagging_freq': 3, 'min_data_in_leaf': 100, 'lambda_l1': 1.1527105780703233, 'lambda_l2': 4.642775202886865}. Best is trial 27 with value: 0.9587385481272857.\n"
          ]
        },
        {
          "output_type": "stream",
          "name": "stdout",
          "text": [
            "Training until validation scores don't improve for 50 rounds\n",
            "[100]\ttraining's rmse: 0.237131\tvalid_1's rmse: 0.278792\n",
            "[200]\ttraining's rmse: 0.181765\tvalid_1's rmse: 0.239665\n",
            "[300]\ttraining's rmse: 0.159372\tvalid_1's rmse: 0.227752\n",
            "[400]\ttraining's rmse: 0.145457\tvalid_1's rmse: 0.220023\n",
            "[500]\ttraining's rmse: 0.136448\tvalid_1's rmse: 0.215633\n",
            "[600]\ttraining's rmse: 0.130063\tvalid_1's rmse: 0.213098\n",
            "[700]\ttraining's rmse: 0.12466\tvalid_1's rmse: 0.211384\n",
            "[800]\ttraining's rmse: 0.119434\tvalid_1's rmse: 0.209457\n",
            "[900]\ttraining's rmse: 0.115669\tvalid_1's rmse: 0.208512\n",
            "[1000]\ttraining's rmse: 0.112423\tvalid_1's rmse: 0.207297\n",
            "Did not meet early stopping. Best iteration is:\n",
            "[1000]\ttraining's rmse: 0.112423\tvalid_1's rmse: 0.207297\n"
          ]
        },
        {
          "output_type": "stream",
          "name": "stderr",
          "text": [
            "[I 2025-01-31 11:01:33,556] Trial 31 finished with value: 0.9575208619724515 and parameters: {'learning_rate': 0.055560319957876816, 'num_leaves': 67, 'max_depth': 13, 'feature_fraction': 0.6729108239375277, 'bagging_fraction': 0.8645816362278735, 'bagging_freq': 1, 'min_data_in_leaf': 41, 'lambda_l1': 0.8229520357429412, 'lambda_l2': 6.3401290283591525}. Best is trial 27 with value: 0.9587385481272857.\n"
          ]
        },
        {
          "output_type": "stream",
          "name": "stdout",
          "text": [
            "Training until validation scores don't improve for 50 rounds\n",
            "[100]\ttraining's rmse: 0.239336\tvalid_1's rmse: 0.279643\n",
            "[200]\ttraining's rmse: 0.184501\tvalid_1's rmse: 0.238769\n",
            "[300]\ttraining's rmse: 0.162364\tvalid_1's rmse: 0.225458\n",
            "[400]\ttraining's rmse: 0.151318\tvalid_1's rmse: 0.219435\n",
            "[500]\ttraining's rmse: 0.144173\tvalid_1's rmse: 0.21604\n",
            "[600]\ttraining's rmse: 0.139502\tvalid_1's rmse: 0.213714\n",
            "[700]\ttraining's rmse: 0.135623\tvalid_1's rmse: 0.212116\n",
            "[800]\ttraining's rmse: 0.132204\tvalid_1's rmse: 0.210827\n",
            "[900]\ttraining's rmse: 0.129659\tvalid_1's rmse: 0.209978\n",
            "[1000]\ttraining's rmse: 0.127642\tvalid_1's rmse: 0.209039\n",
            "Did not meet early stopping. Best iteration is:\n",
            "[995]\ttraining's rmse: 0.127699\tvalid_1's rmse: 0.208996\n"
          ]
        },
        {
          "output_type": "stream",
          "name": "stderr",
          "text": [
            "[I 2025-01-31 11:01:35,175] Trial 32 finished with value: 0.9568217188480559 and parameters: {'learning_rate': 0.06078627967591534, 'num_leaves': 64, 'max_depth': 8, 'feature_fraction': 0.6761721350886498, 'bagging_fraction': 0.8758162827592989, 'bagging_freq': 1, 'min_data_in_leaf': 25, 'lambda_l1': 1.7900185544992382, 'lambda_l2': 6.070077560254876}. Best is trial 27 with value: 0.9587385481272857.\n"
          ]
        },
        {
          "output_type": "stream",
          "name": "stdout",
          "text": [
            "Training until validation scores don't improve for 50 rounds\n",
            "[100]\ttraining's rmse: 0.240835\tvalid_1's rmse: 0.281402\n",
            "[200]\ttraining's rmse: 0.185101\tvalid_1's rmse: 0.24002\n",
            "[300]\ttraining's rmse: 0.163048\tvalid_1's rmse: 0.227768\n",
            "[400]\ttraining's rmse: 0.151263\tvalid_1's rmse: 0.221195\n",
            "[500]\ttraining's rmse: 0.143737\tvalid_1's rmse: 0.217013\n",
            "[600]\ttraining's rmse: 0.139111\tvalid_1's rmse: 0.214955\n",
            "[700]\ttraining's rmse: 0.135026\tvalid_1's rmse: 0.213396\n",
            "[800]\ttraining's rmse: 0.131475\tvalid_1's rmse: 0.211895\n",
            "[900]\ttraining's rmse: 0.128514\tvalid_1's rmse: 0.210592\n",
            "[1000]\ttraining's rmse: 0.126257\tvalid_1's rmse: 0.209736\n",
            "Did not meet early stopping. Best iteration is:\n",
            "[995]\ttraining's rmse: 0.126354\tvalid_1's rmse: 0.209677\n"
          ]
        },
        {
          "output_type": "stream",
          "name": "stderr",
          "text": [
            "[I 2025-01-31 11:01:36,821] Trial 33 finished with value: 0.9565396203550625 and parameters: {'learning_rate': 0.05887325281842647, 'num_leaves': 52, 'max_depth': 8, 'feature_fraction': 0.678475303847118, 'bagging_fraction': 0.8713889388671037, 'bagging_freq': 1, 'min_data_in_leaf': 25, 'lambda_l1': 1.6886300516234678, 'lambda_l2': 6.336475997494247}. Best is trial 27 with value: 0.9587385481272857.\n"
          ]
        },
        {
          "output_type": "stream",
          "name": "stdout",
          "text": [
            "Training until validation scores don't improve for 50 rounds\n",
            "[100]\ttraining's rmse: 0.321546\tvalid_1's rmse: 0.341148\n",
            "[200]\ttraining's rmse: 0.239806\tvalid_1's rmse: 0.272984\n",
            "[300]\ttraining's rmse: 0.20956\tvalid_1's rmse: 0.250302\n",
            "[400]\ttraining's rmse: 0.191918\tvalid_1's rmse: 0.239251\n",
            "[500]\ttraining's rmse: 0.178702\tvalid_1's rmse: 0.230906\n",
            "[600]\ttraining's rmse: 0.168671\tvalid_1's rmse: 0.225016\n",
            "[700]\ttraining's rmse: 0.159583\tvalid_1's rmse: 0.219568\n",
            "[800]\ttraining's rmse: 0.152904\tvalid_1's rmse: 0.216229\n",
            "[900]\ttraining's rmse: 0.147696\tvalid_1's rmse: 0.213589\n",
            "[1000]\ttraining's rmse: 0.142943\tvalid_1's rmse: 0.211008\n",
            "Did not meet early stopping. Best iteration is:\n",
            "[1000]\ttraining's rmse: 0.142943\tvalid_1's rmse: 0.211008\n"
          ]
        },
        {
          "output_type": "stream",
          "name": "stderr",
          "text": [
            "[I 2025-01-31 11:01:39,790] Trial 34 finished with value: 0.9559863605657758 and parameters: {'learning_rate': 0.0721851832525957, 'num_leaves': 65, 'max_depth': 5, 'feature_fraction': 0.6319951985733071, 'bagging_fraction': 0.9127325022209304, 'bagging_freq': 1, 'min_data_in_leaf': 41, 'lambda_l1': 1.0836332781345703, 'lambda_l2': 5.673868256502877}. Best is trial 27 with value: 0.9587385481272857.\n"
          ]
        },
        {
          "output_type": "stream",
          "name": "stdout",
          "text": [
            "Training until validation scores don't improve for 50 rounds\n",
            "[100]\ttraining's rmse: 0.195555\tvalid_1's rmse: 0.247267\n",
            "[200]\ttraining's rmse: 0.161079\tvalid_1's rmse: 0.227362\n",
            "[300]\ttraining's rmse: 0.146537\tvalid_1's rmse: 0.220385\n",
            "[400]\ttraining's rmse: 0.139249\tvalid_1's rmse: 0.216806\n",
            "[500]\ttraining's rmse: 0.134707\tvalid_1's rmse: 0.215052\n",
            "[600]\ttraining's rmse: 0.131271\tvalid_1's rmse: 0.213359\n",
            "[700]\ttraining's rmse: 0.128044\tvalid_1's rmse: 0.211837\n",
            "[800]\ttraining's rmse: 0.125876\tvalid_1's rmse: 0.210972\n",
            "[900]\ttraining's rmse: 0.123935\tvalid_1's rmse: 0.209936\n",
            "[1000]\ttraining's rmse: 0.122271\tvalid_1's rmse: 0.209433\n",
            "Did not meet early stopping. Best iteration is:\n",
            "[999]\ttraining's rmse: 0.122276\tvalid_1's rmse: 0.209432\n"
          ]
        },
        {
          "output_type": "stream",
          "name": "stderr",
          "text": [
            "[I 2025-01-31 11:01:41,743] Trial 35 finished with value: 0.9566411099121978 and parameters: {'learning_rate': 0.08816935304844413, 'num_leaves': 47, 'max_depth': 12, 'feature_fraction': 0.7271940248325913, 'bagging_fraction': 0.8605451118243403, 'bagging_freq': 1, 'min_data_in_leaf': 19, 'lambda_l1': 2.071224717583088, 'lambda_l2': 4.860140523509221}. Best is trial 27 with value: 0.9587385481272857.\n"
          ]
        },
        {
          "output_type": "stream",
          "name": "stdout",
          "text": [
            "Training until validation scores don't improve for 50 rounds\n",
            "[100]\ttraining's rmse: 0.220971\tvalid_1's rmse: 0.25762\n",
            "[200]\ttraining's rmse: 0.179797\tvalid_1's rmse: 0.229499\n",
            "[300]\ttraining's rmse: 0.165852\tvalid_1's rmse: 0.222475\n",
            "[400]\ttraining's rmse: 0.159401\tvalid_1's rmse: 0.219521\n",
            "[500]\ttraining's rmse: 0.154067\tvalid_1's rmse: 0.216456\n",
            "[600]\ttraining's rmse: 0.150521\tvalid_1's rmse: 0.214944\n",
            "[700]\ttraining's rmse: 0.147416\tvalid_1's rmse: 0.21326\n",
            "[800]\ttraining's rmse: 0.144937\tvalid_1's rmse: 0.21161\n",
            "[900]\ttraining's rmse: 0.142873\tvalid_1's rmse: 0.210649\n",
            "[1000]\ttraining's rmse: 0.141217\tvalid_1's rmse: 0.209622\n",
            "Did not meet early stopping. Best iteration is:\n",
            "[1000]\ttraining's rmse: 0.141217\tvalid_1's rmse: 0.209622\n"
          ]
        },
        {
          "output_type": "stream",
          "name": "stderr",
          "text": [
            "[I 2025-01-31 11:01:43,439] Trial 36 finished with value: 0.956562343616716 and parameters: {'learning_rate': 0.058064989411155725, 'num_leaves': 40, 'max_depth': 13, 'feature_fraction': 0.7735406847086517, 'bagging_fraction': 0.8203847850145736, 'bagging_freq': 3, 'min_data_in_leaf': 14, 'lambda_l1': 2.996013065705728, 'lambda_l2': 0.9250682021847219}. Best is trial 27 with value: 0.9587385481272857.\n"
          ]
        },
        {
          "output_type": "stream",
          "name": "stdout",
          "text": [
            "Training until validation scores don't improve for 50 rounds\n",
            "[100]\ttraining's rmse: 0.211407\tvalid_1's rmse: 0.255804\n",
            "[200]\ttraining's rmse: 0.170771\tvalid_1's rmse: 0.230441\n",
            "[300]\ttraining's rmse: 0.154396\tvalid_1's rmse: 0.222066\n",
            "[400]\ttraining's rmse: 0.143813\tvalid_1's rmse: 0.216602\n",
            "[500]\ttraining's rmse: 0.138758\tvalid_1's rmse: 0.214296\n",
            "[600]\ttraining's rmse: 0.134027\tvalid_1's rmse: 0.211886\n",
            "[700]\ttraining's rmse: 0.131075\tvalid_1's rmse: 0.211242\n",
            "[800]\ttraining's rmse: 0.127517\tvalid_1's rmse: 0.209185\n",
            "[900]\ttraining's rmse: 0.125104\tvalid_1's rmse: 0.208466\n",
            "[1000]\ttraining's rmse: 0.123225\tvalid_1's rmse: 0.207754\n",
            "Did not meet early stopping. Best iteration is:\n",
            "[985]\ttraining's rmse: 0.123453\tvalid_1's rmse: 0.207715\n"
          ]
        },
        {
          "output_type": "stream",
          "name": "stderr",
          "text": [
            "[I 2025-01-31 11:01:45,353] Trial 37 finished with value: 0.9573490795363725 and parameters: {'learning_rate': 0.06981384748767462, 'num_leaves': 65, 'max_depth': 11, 'feature_fraction': 0.6886298344518165, 'bagging_fraction': 0.940747928728524, 'bagging_freq': 4, 'min_data_in_leaf': 38, 'lambda_l1': 1.6204037317295457, 'lambda_l2': 4.406378328400716}. Best is trial 27 with value: 0.9587385481272857.\n"
          ]
        },
        {
          "output_type": "stream",
          "name": "stdout",
          "text": [
            "Training until validation scores don't improve for 50 rounds\n",
            "[100]\ttraining's rmse: 0.264706\tvalid_1's rmse: 0.297524\n",
            "[200]\ttraining's rmse: 0.228523\tvalid_1's rmse: 0.268784\n",
            "[300]\ttraining's rmse: 0.217289\tvalid_1's rmse: 0.260048\n",
            "[400]\ttraining's rmse: 0.212165\tvalid_1's rmse: 0.2566\n",
            "Early stopping, best iteration is:\n",
            "[398]\ttraining's rmse: 0.212198\tvalid_1's rmse: 0.256577\n"
          ]
        },
        {
          "output_type": "stream",
          "name": "stderr",
          "text": [
            "[I 2025-01-31 11:01:45,944] Trial 38 finished with value: 0.9349108627528055 and parameters: {'learning_rate': 0.08473438387428205, 'num_leaves': 56, 'max_depth': 14, 'feature_fraction': 0.7565179119132327, 'bagging_fraction': 0.935619425360502, 'bagging_freq': 5, 'min_data_in_leaf': 61, 'lambda_l1': 5.801538573954627, 'lambda_l2': 2.732981693862127}. Best is trial 27 with value: 0.9587385481272857.\n"
          ]
        },
        {
          "output_type": "stream",
          "name": "stdout",
          "text": [
            "Training until validation scores don't improve for 50 rounds\n",
            "[100]\ttraining's rmse: 0.19589\tvalid_1's rmse: 0.242162\n",
            "[200]\ttraining's rmse: 0.159358\tvalid_1's rmse: 0.222514\n",
            "[300]\ttraining's rmse: 0.143317\tvalid_1's rmse: 0.213945\n",
            "[400]\ttraining's rmse: 0.13242\tvalid_1's rmse: 0.209156\n",
            "[500]\ttraining's rmse: 0.126079\tvalid_1's rmse: 0.206948\n",
            "[600]\ttraining's rmse: 0.12123\tvalid_1's rmse: 0.205009\n",
            "[700]\ttraining's rmse: 0.117307\tvalid_1's rmse: 0.204152\n",
            "[800]\ttraining's rmse: 0.114242\tvalid_1's rmse: 0.203295\n",
            "[900]\ttraining's rmse: 0.111913\tvalid_1's rmse: 0.202625\n",
            "[1000]\ttraining's rmse: 0.10977\tvalid_1's rmse: 0.201968\n",
            "Did not meet early stopping. Best iteration is:\n",
            "[990]\ttraining's rmse: 0.11\tvalid_1's rmse: 0.201926\n"
          ]
        },
        {
          "output_type": "stream",
          "name": "stderr",
          "text": [
            "[I 2025-01-31 11:01:48,174] Trial 39 finished with value: 0.9596933707708408 and parameters: {'learning_rate': 0.06829367065209747, 'num_leaves': 86, 'max_depth': 11, 'feature_fraction': 0.6865891002973246, 'bagging_fraction': 0.9740473185584596, 'bagging_freq': 4, 'min_data_in_leaf': 39, 'lambda_l1': 1.0296768056266907, 'lambda_l2': 4.535255737554255}. Best is trial 39 with value: 0.9596933707708408.\n"
          ]
        },
        {
          "output_type": "stream",
          "name": "stdout",
          "text": [
            "Training until validation scores don't improve for 50 rounds\n",
            "[100]\ttraining's rmse: 0.552147\tvalid_1's rmse: 0.558587\n",
            "[200]\ttraining's rmse: 0.403954\tvalid_1's rmse: 0.41479\n",
            "[300]\ttraining's rmse: 0.350197\tvalid_1's rmse: 0.368209\n",
            "[400]\ttraining's rmse: 0.316802\tvalid_1's rmse: 0.341213\n",
            "[500]\ttraining's rmse: 0.290421\tvalid_1's rmse: 0.319614\n",
            "[600]\ttraining's rmse: 0.266452\tvalid_1's rmse: 0.299208\n",
            "[700]\ttraining's rmse: 0.252422\tvalid_1's rmse: 0.287823\n",
            "[800]\ttraining's rmse: 0.244286\tvalid_1's rmse: 0.282201\n",
            "[900]\ttraining's rmse: 0.237374\tvalid_1's rmse: 0.277123\n",
            "[1000]\ttraining's rmse: 0.232419\tvalid_1's rmse: 0.273522\n",
            "Did not meet early stopping. Best iteration is:\n",
            "[1000]\ttraining's rmse: 0.232419\tvalid_1's rmse: 0.273522\n"
          ]
        },
        {
          "output_type": "stream",
          "name": "stderr",
          "text": [
            "[I 2025-01-31 11:01:50,136] Trial 40 finished with value: 0.9260433981807478 and parameters: {'learning_rate': 0.01324101086684928, 'num_leaves': 87, 'max_depth': 13, 'feature_fraction': 0.7997199837632485, 'bagging_fraction': 0.9738891707206768, 'bagging_freq': 4, 'min_data_in_leaf': 76, 'lambda_l1': 4.296686911552391, 'lambda_l2': 3.207379722602395}. Best is trial 39 with value: 0.9596933707708408.\n"
          ]
        },
        {
          "output_type": "stream",
          "name": "stdout",
          "text": [
            "Training until validation scores don't improve for 50 rounds\n",
            "[100]\ttraining's rmse: 0.205291\tvalid_1's rmse: 0.259252\n",
            "[200]\ttraining's rmse: 0.16254\tvalid_1's rmse: 0.234089\n",
            "[300]\ttraining's rmse: 0.140488\tvalid_1's rmse: 0.221356\n",
            "[400]\ttraining's rmse: 0.12889\tvalid_1's rmse: 0.216458\n",
            "[500]\ttraining's rmse: 0.120812\tvalid_1's rmse: 0.213028\n",
            "[600]\ttraining's rmse: 0.114586\tvalid_1's rmse: 0.210902\n",
            "[700]\ttraining's rmse: 0.109931\tvalid_1's rmse: 0.209644\n",
            "[800]\ttraining's rmse: 0.106006\tvalid_1's rmse: 0.208076\n",
            "[900]\ttraining's rmse: 0.103093\tvalid_1's rmse: 0.207823\n",
            "[1000]\ttraining's rmse: 0.100292\tvalid_1's rmse: 0.206849\n",
            "Did not meet early stopping. Best iteration is:\n",
            "[988]\ttraining's rmse: 0.100576\tvalid_1's rmse: 0.206789\n"
          ]
        },
        {
          "output_type": "stream",
          "name": "stderr",
          "text": [
            "[I 2025-01-31 11:01:55,031] Trial 41 finished with value: 0.9577288423975431 and parameters: {'learning_rate': 0.07508833339115228, 'num_leaves': 71, 'max_depth': 11, 'feature_fraction': 0.6309554258761574, 'bagging_fraction': 0.9410071745298225, 'bagging_freq': 4, 'min_data_in_leaf': 39, 'lambda_l1': 0.7324251966553628, 'lambda_l2': 4.429214975450539}. Best is trial 39 with value: 0.9596933707708408.\n"
          ]
        },
        {
          "output_type": "stream",
          "name": "stdout",
          "text": [
            "Training until validation scores don't improve for 50 rounds\n",
            "[100]\ttraining's rmse: 0.218401\tvalid_1's rmse: 0.273139\n",
            "[200]\ttraining's rmse: 0.16233\tvalid_1's rmse: 0.236431\n",
            "[300]\ttraining's rmse: 0.14077\tvalid_1's rmse: 0.224807\n",
            "[400]\ttraining's rmse: 0.127415\tvalid_1's rmse: 0.218486\n",
            "[500]\ttraining's rmse: 0.118505\tvalid_1's rmse: 0.214757\n",
            "[600]\ttraining's rmse: 0.113281\tvalid_1's rmse: 0.213115\n",
            "[700]\ttraining's rmse: 0.108625\tvalid_1's rmse: 0.211866\n",
            "[800]\ttraining's rmse: 0.104772\tvalid_1's rmse: 0.211053\n",
            "[900]\ttraining's rmse: 0.102616\tvalid_1's rmse: 0.210895\n",
            "Early stopping, best iteration is:\n",
            "[878]\ttraining's rmse: 0.102681\tvalid_1's rmse: 0.210883\n"
          ]
        },
        {
          "output_type": "stream",
          "name": "stderr",
          "text": [
            "[I 2025-01-31 11:01:57,391] Trial 42 finished with value: 0.9560385247414004 and parameters: {'learning_rate': 0.05492192216939006, 'num_leaves': 76, 'max_depth': 12, 'feature_fraction': 0.620352077890081, 'bagging_fraction': 0.9998298830952176, 'bagging_freq': 5, 'min_data_in_leaf': 29, 'lambda_l1': 0.7308865134886502, 'lambda_l2': 3.969911094145866}. Best is trial 39 with value: 0.9596933707708408.\n"
          ]
        },
        {
          "output_type": "stream",
          "name": "stdout",
          "text": [
            "Training until validation scores don't improve for 50 rounds\n",
            "[100]\ttraining's rmse: 0.214662\tvalid_1's rmse: 0.258287\n",
            "[200]\ttraining's rmse: 0.174916\tvalid_1's rmse: 0.231835\n",
            "[300]\ttraining's rmse: 0.155425\tvalid_1's rmse: 0.223219\n",
            "[400]\ttraining's rmse: 0.143467\tvalid_1's rmse: 0.217768\n",
            "[500]\ttraining's rmse: 0.134793\tvalid_1's rmse: 0.213804\n",
            "[600]\ttraining's rmse: 0.129701\tvalid_1's rmse: 0.211905\n",
            "[700]\ttraining's rmse: 0.124869\tvalid_1's rmse: 0.210475\n",
            "[800]\ttraining's rmse: 0.121301\tvalid_1's rmse: 0.209179\n",
            "[900]\ttraining's rmse: 0.117819\tvalid_1's rmse: 0.207776\n",
            "[1000]\ttraining's rmse: 0.11498\tvalid_1's rmse: 0.206678\n",
            "Did not meet early stopping. Best iteration is:\n",
            "[999]\ttraining's rmse: 0.114983\tvalid_1's rmse: 0.20667\n"
          ]
        },
        {
          "output_type": "stream",
          "name": "stderr",
          "text": [
            "[I 2025-01-31 11:01:59,479] Trial 43 finished with value: 0.9577773309163679 and parameters: {'learning_rate': 0.07253255400050822, 'num_leaves': 103, 'max_depth': 10, 'feature_fraction': 0.6473772923711322, 'bagging_fraction': 0.9010458279017989, 'bagging_freq': 7, 'min_data_in_leaf': 39, 'lambda_l1': 1.2014054605585844, 'lambda_l2': 5.093010737060587}. Best is trial 39 with value: 0.9596933707708408.\n"
          ]
        },
        {
          "output_type": "stream",
          "name": "stdout",
          "text": [
            "Training until validation scores don't improve for 50 rounds\n",
            "[100]\ttraining's rmse: 0.20631\tvalid_1's rmse: 0.247113\n",
            "[200]\ttraining's rmse: 0.172868\tvalid_1's rmse: 0.227555\n",
            "[300]\ttraining's rmse: 0.156858\tvalid_1's rmse: 0.221059\n",
            "[400]\ttraining's rmse: 0.146822\tvalid_1's rmse: 0.216606\n",
            "[500]\ttraining's rmse: 0.139504\tvalid_1's rmse: 0.213687\n",
            "[600]\ttraining's rmse: 0.133741\tvalid_1's rmse: 0.212101\n",
            "[700]\ttraining's rmse: 0.129756\tvalid_1's rmse: 0.21085\n",
            "[800]\ttraining's rmse: 0.126173\tvalid_1's rmse: 0.20949\n",
            "[900]\ttraining's rmse: 0.123733\tvalid_1's rmse: 0.208947\n",
            "[1000]\ttraining's rmse: 0.12136\tvalid_1's rmse: 0.20773\n",
            "Did not meet early stopping. Best iteration is:\n",
            "[1000]\ttraining's rmse: 0.12136\tvalid_1's rmse: 0.20773\n"
          ]
        },
        {
          "output_type": "stream",
          "name": "stderr",
          "text": [
            "[I 2025-01-31 11:02:01,490] Trial 44 finished with value: 0.9573431126718034 and parameters: {'learning_rate': 0.09775975552798138, 'num_leaves': 102, 'max_depth': 9, 'feature_fraction': 0.6403534380487356, 'bagging_fraction': 0.9709512001181586, 'bagging_freq': 8, 'min_data_in_leaf': 60, 'lambda_l1': 1.2337150023974295, 'lambda_l2': 5.278938580788317}. Best is trial 39 with value: 0.9596933707708408.\n"
          ]
        },
        {
          "output_type": "stream",
          "name": "stdout",
          "text": [
            "Training until validation scores don't improve for 50 rounds\n",
            "[100]\ttraining's rmse: 0.254307\tvalid_1's rmse: 0.29053\n",
            "[200]\ttraining's rmse: 0.201817\tvalid_1's rmse: 0.249596\n",
            "[300]\ttraining's rmse: 0.179919\tvalid_1's rmse: 0.235062\n",
            "[400]\ttraining's rmse: 0.16984\tvalid_1's rmse: 0.229386\n",
            "[500]\ttraining's rmse: 0.162161\tvalid_1's rmse: 0.225588\n",
            "[600]\ttraining's rmse: 0.155967\tvalid_1's rmse: 0.221851\n",
            "[700]\ttraining's rmse: 0.15204\tvalid_1's rmse: 0.220222\n",
            "[800]\ttraining's rmse: 0.148921\tvalid_1's rmse: 0.218356\n",
            "[900]\ttraining's rmse: 0.145272\tvalid_1's rmse: 0.216326\n",
            "[1000]\ttraining's rmse: 0.1428\tvalid_1's rmse: 0.215294\n",
            "Did not meet early stopping. Best iteration is:\n",
            "[999]\ttraining's rmse: 0.142806\tvalid_1's rmse: 0.215276\n"
          ]
        },
        {
          "output_type": "stream",
          "name": "stderr",
          "text": [
            "[I 2025-01-31 11:02:03,215] Trial 45 finished with value: 0.9541875933346998 and parameters: {'learning_rate': 0.07403182648285361, 'num_leaves': 99, 'max_depth': 10, 'feature_fraction': 0.6517109115842351, 'bagging_fraction': 0.8998264148168189, 'bagging_freq': 7, 'min_data_in_leaf': 51, 'lambda_l1': 2.2110168541912496, 'lambda_l2': 4.342056528292385}. Best is trial 39 with value: 0.9596933707708408.\n"
          ]
        },
        {
          "output_type": "stream",
          "name": "stdout",
          "text": [
            "Training until validation scores don't improve for 50 rounds\n",
            "[100]\ttraining's rmse: 0.239612\tvalid_1's rmse: 0.28187\n",
            "[200]\ttraining's rmse: 0.198078\tvalid_1's rmse: 0.250234\n",
            "[300]\ttraining's rmse: 0.185576\tvalid_1's rmse: 0.241306\n",
            "[400]\ttraining's rmse: 0.181697\tvalid_1's rmse: 0.239102\n",
            "[500]\ttraining's rmse: 0.179352\tvalid_1's rmse: 0.237773\n",
            "[600]\ttraining's rmse: 0.178302\tvalid_1's rmse: 0.237235\n",
            "Early stopping, best iteration is:\n",
            "[555]\ttraining's rmse: 0.178347\tvalid_1's rmse: 0.237223\n"
          ]
        },
        {
          "output_type": "stream",
          "name": "stderr",
          "text": [
            "[I 2025-01-31 11:02:04,588] Trial 46 finished with value: 0.9443650399522293 and parameters: {'learning_rate': 0.08445449731192038, 'num_leaves': 86, 'max_depth': 8, 'feature_fraction': 0.6001966968215082, 'bagging_fraction': 0.932387066238162, 'bagging_freq': 7, 'min_data_in_leaf': 19, 'lambda_l1': 4.110457783141608, 'lambda_l2': 1.9636968920799074}. Best is trial 39 with value: 0.9596933707708408.\n"
          ]
        },
        {
          "output_type": "stream",
          "name": "stdout",
          "text": [
            "Training until validation scores don't improve for 50 rounds\n",
            "[100]\ttraining's rmse: 0.257793\tvalid_1's rmse: 0.29676\n",
            "[200]\ttraining's rmse: 0.201891\tvalid_1's rmse: 0.251857\n",
            "[300]\ttraining's rmse: 0.187584\tvalid_1's rmse: 0.243454\n",
            "[400]\ttraining's rmse: 0.178616\tvalid_1's rmse: 0.238489\n",
            "[500]\ttraining's rmse: 0.172238\tvalid_1's rmse: 0.234559\n",
            "[600]\ttraining's rmse: 0.16719\tvalid_1's rmse: 0.231495\n",
            "[700]\ttraining's rmse: 0.164087\tvalid_1's rmse: 0.229904\n",
            "[800]\ttraining's rmse: 0.1613\tvalid_1's rmse: 0.22845\n",
            "[900]\ttraining's rmse: 0.158653\tvalid_1's rmse: 0.226868\n",
            "[1000]\ttraining's rmse: 0.15643\tvalid_1's rmse: 0.225835\n",
            "Did not meet early stopping. Best iteration is:\n",
            "[984]\ttraining's rmse: 0.15664\tvalid_1's rmse: 0.225732\n"
          ]
        },
        {
          "output_type": "stream",
          "name": "stderr",
          "text": [
            "[I 2025-01-31 11:02:08,419] Trial 47 finished with value: 0.9496131227907465 and parameters: {'learning_rate': 0.06428748029781736, 'num_leaves': 107, 'max_depth': 11, 'feature_fraction': 0.624761299660582, 'bagging_fraction': 0.8991983460926877, 'bagging_freq': 6, 'min_data_in_leaf': 36, 'lambda_l1': 2.796258313103646, 'lambda_l2': 3.5798293680241575}. Best is trial 39 with value: 0.9596933707708408.\n"
          ]
        },
        {
          "output_type": "stream",
          "name": "stdout",
          "text": [
            "Training until validation scores don't improve for 50 rounds\n",
            "[100]\ttraining's rmse: 0.230728\tvalid_1's rmse: 0.265741\n",
            "[200]\ttraining's rmse: 0.174055\tvalid_1's rmse: 0.22892\n",
            "[300]\ttraining's rmse: 0.152182\tvalid_1's rmse: 0.217961\n",
            "[400]\ttraining's rmse: 0.138593\tvalid_1's rmse: 0.211725\n",
            "[500]\ttraining's rmse: 0.128405\tvalid_1's rmse: 0.208141\n",
            "[600]\ttraining's rmse: 0.12055\tvalid_1's rmse: 0.20509\n",
            "[700]\ttraining's rmse: 0.113792\tvalid_1's rmse: 0.203495\n",
            "[800]\ttraining's rmse: 0.108973\tvalid_1's rmse: 0.201999\n",
            "[900]\ttraining's rmse: 0.104998\tvalid_1's rmse: 0.20118\n",
            "[1000]\ttraining's rmse: 0.101328\tvalid_1's rmse: 0.200916\n",
            "Did not meet early stopping. Best iteration is:\n",
            "[980]\ttraining's rmse: 0.101963\tvalid_1's rmse: 0.200682\n"
          ]
        },
        {
          "output_type": "stream",
          "name": "stderr",
          "text": [
            "[I 2025-01-31 11:02:11,403] Trial 48 finished with value: 0.9601885578444332 and parameters: {'learning_rate': 0.04193405221079454, 'num_leaves': 89, 'max_depth': 15, 'feature_fraction': 0.71495522541933, 'bagging_fraction': 0.9745049036185311, 'bagging_freq': 6, 'min_data_in_leaf': 39, 'lambda_l1': 0.4930996491670222, 'lambda_l2': 5.039840625560748}. Best is trial 48 with value: 0.9601885578444332.\n"
          ]
        },
        {
          "output_type": "stream",
          "name": "stdout",
          "text": [
            "Training until validation scores don't improve for 50 rounds\n",
            "[100]\ttraining's rmse: 0.216756\tvalid_1's rmse: 0.256835\n",
            "[200]\ttraining's rmse: 0.160801\tvalid_1's rmse: 0.222608\n",
            "[300]\ttraining's rmse: 0.138756\tvalid_1's rmse: 0.212244\n",
            "[400]\ttraining's rmse: 0.125188\tvalid_1's rmse: 0.207045\n",
            "[500]\ttraining's rmse: 0.115913\tvalid_1's rmse: 0.204311\n",
            "[600]\ttraining's rmse: 0.107936\tvalid_1's rmse: 0.20203\n",
            "[700]\ttraining's rmse: 0.101872\tvalid_1's rmse: 0.201642\n",
            "[800]\ttraining's rmse: 0.0972253\tvalid_1's rmse: 0.200574\n",
            "[900]\ttraining's rmse: 0.0931161\tvalid_1's rmse: 0.200309\n",
            "[1000]\ttraining's rmse: 0.0895612\tvalid_1's rmse: 0.199637\n",
            "Did not meet early stopping. Best iteration is:\n",
            "[996]\ttraining's rmse: 0.0896806\tvalid_1's rmse: 0.199614\n"
          ]
        },
        {
          "output_type": "stream",
          "name": "stderr",
          "text": [
            "[I 2025-01-31 11:02:14,721] Trial 49 finished with value: 0.9606112305048724 and parameters: {'learning_rate': 0.042211219879430564, 'num_leaves': 88, 'max_depth': 18, 'feature_fraction': 0.714669556455697, 'bagging_fraction': 0.9751639215202457, 'bagging_freq': 6, 'min_data_in_leaf': 31, 'lambda_l1': 0.41811842556699697, 'lambda_l2': 5.287159916693378}. Best is trial 49 with value: 0.9606112305048724.\n"
          ]
        },
        {
          "output_type": "stream",
          "name": "stdout",
          "text": [
            "Training until validation scores don't improve for 50 rounds\n",
            "[100]\ttraining's rmse: 0.213925\tvalid_1's rmse: 0.24813\n",
            "[200]\ttraining's rmse: 0.16276\tvalid_1's rmse: 0.220241\n",
            "[300]\ttraining's rmse: 0.139702\tvalid_1's rmse: 0.20946\n",
            "[400]\ttraining's rmse: 0.126506\tvalid_1's rmse: 0.204405\n",
            "[500]\ttraining's rmse: 0.11681\tvalid_1's rmse: 0.201377\n",
            "[600]\ttraining's rmse: 0.109465\tvalid_1's rmse: 0.199844\n",
            "[700]\ttraining's rmse: 0.102827\tvalid_1's rmse: 0.19923\n",
            "[800]\ttraining's rmse: 0.0979196\tvalid_1's rmse: 0.198702\n",
            "[900]\ttraining's rmse: 0.09372\tvalid_1's rmse: 0.198227\n",
            "[1000]\ttraining's rmse: 0.0901743\tvalid_1's rmse: 0.197855\n",
            "Did not meet early stopping. Best iteration is:\n",
            "[999]\ttraining's rmse: 0.0902081\tvalid_1's rmse: 0.197834\n"
          ]
        },
        {
          "output_type": "stream",
          "name": "stderr",
          "text": [
            "[I 2025-01-31 11:02:18,874] Trial 50 finished with value: 0.9613105673855046 and parameters: {'learning_rate': 0.042421245794083545, 'num_leaves': 89, 'max_depth': 18, 'feature_fraction': 0.8282046789137618, 'bagging_fraction': 0.9772206862929013, 'bagging_freq': 6, 'min_data_in_leaf': 33, 'lambda_l1': 0.37621873504057046, 'lambda_l2': 6.8236438799523675}. Best is trial 50 with value: 0.9613105673855046.\n"
          ]
        },
        {
          "output_type": "stream",
          "name": "stdout",
          "text": [
            "Training until validation scores don't improve for 50 rounds\n",
            "[100]\ttraining's rmse: 0.205868\tvalid_1's rmse: 0.237102\n",
            "[200]\ttraining's rmse: 0.157042\tvalid_1's rmse: 0.210801\n",
            "[300]\ttraining's rmse: 0.136918\tvalid_1's rmse: 0.202468\n",
            "[400]\ttraining's rmse: 0.124047\tvalid_1's rmse: 0.19799\n",
            "[500]\ttraining's rmse: 0.115015\tvalid_1's rmse: 0.196337\n",
            "[600]\ttraining's rmse: 0.107814\tvalid_1's rmse: 0.195185\n",
            "[700]\ttraining's rmse: 0.101914\tvalid_1's rmse: 0.194657\n",
            "Early stopping, best iteration is:\n",
            "[696]\ttraining's rmse: 0.102135\tvalid_1's rmse: 0.1945\n"
          ]
        },
        {
          "output_type": "stream",
          "name": "stderr",
          "text": [
            "[I 2025-01-31 11:02:23,015] Trial 51 finished with value: 0.9626034436014598 and parameters: {'learning_rate': 0.03932670275198695, 'num_leaves': 81, 'max_depth': 18, 'feature_fraction': 0.8385699128505884, 'bagging_fraction': 0.9744980538335748, 'bagging_freq': 6, 'min_data_in_leaf': 32, 'lambda_l1': 0.3687635126985307, 'lambda_l2': 5.595650399695893}. Best is trial 51 with value: 0.9626034436014598.\n"
          ]
        },
        {
          "output_type": "stream",
          "name": "stdout",
          "text": [
            "Training until validation scores don't improve for 50 rounds\n",
            "[100]\ttraining's rmse: 0.246455\tvalid_1's rmse: 0.270338\n",
            "[200]\ttraining's rmse: 0.177589\tvalid_1's rmse: 0.223146\n",
            "[300]\ttraining's rmse: 0.152843\tvalid_1's rmse: 0.212757\n",
            "[400]\ttraining's rmse: 0.138294\tvalid_1's rmse: 0.206006\n",
            "[500]\ttraining's rmse: 0.127976\tvalid_1's rmse: 0.202976\n",
            "[600]\ttraining's rmse: 0.119691\tvalid_1's rmse: 0.200404\n",
            "[700]\ttraining's rmse: 0.113386\tvalid_1's rmse: 0.199245\n",
            "[800]\ttraining's rmse: 0.108194\tvalid_1's rmse: 0.198364\n",
            "[900]\ttraining's rmse: 0.103878\tvalid_1's rmse: 0.197798\n",
            "[1000]\ttraining's rmse: 0.0998604\tvalid_1's rmse: 0.196982\n",
            "Did not meet early stopping. Best iteration is:\n",
            "[995]\ttraining's rmse: 0.100058\tvalid_1's rmse: 0.196905\n"
          ]
        },
        {
          "output_type": "stream",
          "name": "stderr",
          "text": [
            "[I 2025-01-31 11:02:26,534] Trial 52 finished with value: 0.9616730818687811 and parameters: {'learning_rate': 0.02831688722514959, 'num_leaves': 88, 'max_depth': 18, 'feature_fraction': 0.8341423179529974, 'bagging_fraction': 0.9771085645147567, 'bagging_freq': 6, 'min_data_in_leaf': 32, 'lambda_l1': 0.3882322406163703, 'lambda_l2': 5.623019029160822}. Best is trial 51 with value: 0.9626034436014598.\n"
          ]
        },
        {
          "output_type": "stream",
          "name": "stdout",
          "text": [
            "Training until validation scores don't improve for 50 rounds\n",
            "[100]\ttraining's rmse: 0.245542\tvalid_1's rmse: 0.269969\n",
            "[200]\ttraining's rmse: 0.176832\tvalid_1's rmse: 0.222273\n",
            "[300]\ttraining's rmse: 0.153533\tvalid_1's rmse: 0.212334\n",
            "[400]\ttraining's rmse: 0.138862\tvalid_1's rmse: 0.205587\n",
            "[500]\ttraining's rmse: 0.12852\tvalid_1's rmse: 0.201337\n",
            "[600]\ttraining's rmse: 0.120866\tvalid_1's rmse: 0.199723\n",
            "[700]\ttraining's rmse: 0.114637\tvalid_1's rmse: 0.198548\n",
            "[800]\ttraining's rmse: 0.1097\tvalid_1's rmse: 0.197173\n",
            "[900]\ttraining's rmse: 0.105589\tvalid_1's rmse: 0.196465\n",
            "[1000]\ttraining's rmse: 0.101773\tvalid_1's rmse: 0.195892\n",
            "Did not meet early stopping. Best iteration is:\n",
            "[972]\ttraining's rmse: 0.102863\tvalid_1's rmse: 0.19585\n"
          ]
        },
        {
          "output_type": "stream",
          "name": "stderr",
          "text": [
            "[I 2025-01-31 11:02:30,224] Trial 53 finished with value: 0.9620825862656972 and parameters: {'learning_rate': 0.028054804201734656, 'num_leaves': 89, 'max_depth': 18, 'feature_fraction': 0.8477295168416431, 'bagging_fraction': 0.9750448833462799, 'bagging_freq': 6, 'min_data_in_leaf': 31, 'lambda_l1': 0.44939764646212776, 'lambda_l2': 5.726032844128412}. Best is trial 51 with value: 0.9626034436014598.\n"
          ]
        },
        {
          "output_type": "stream",
          "name": "stdout",
          "text": [
            "Training until validation scores don't improve for 50 rounds\n",
            "[100]\ttraining's rmse: 0.266212\tvalid_1's rmse: 0.288046\n",
            "[200]\ttraining's rmse: 0.183487\tvalid_1's rmse: 0.224633\n",
            "[300]\ttraining's rmse: 0.158264\tvalid_1's rmse: 0.214516\n",
            "[400]\ttraining's rmse: 0.143546\tvalid_1's rmse: 0.208285\n",
            "[500]\ttraining's rmse: 0.132905\tvalid_1's rmse: 0.203988\n",
            "[600]\ttraining's rmse: 0.124426\tvalid_1's rmse: 0.200685\n",
            "[700]\ttraining's rmse: 0.118049\tvalid_1's rmse: 0.199235\n",
            "[800]\ttraining's rmse: 0.112393\tvalid_1's rmse: 0.197771\n",
            "[900]\ttraining's rmse: 0.108015\tvalid_1's rmse: 0.197131\n",
            "[1000]\ttraining's rmse: 0.103838\tvalid_1's rmse: 0.19629\n",
            "Did not meet early stopping. Best iteration is:\n",
            "[996]\ttraining's rmse: 0.104013\tvalid_1's rmse: 0.196236\n"
          ]
        },
        {
          "output_type": "stream",
          "name": "stderr",
          "text": [
            "[I 2025-01-31 11:02:36,438] Trial 54 finished with value: 0.9619330119681558 and parameters: {'learning_rate': 0.02460971415871609, 'num_leaves': 89, 'max_depth': 19, 'feature_fraction': 0.8535331605304853, 'bagging_fraction': 0.9797428612235335, 'bagging_freq': 6, 'min_data_in_leaf': 31, 'lambda_l1': 0.41362470176320815, 'lambda_l2': 5.559136240291422}. Best is trial 51 with value: 0.9626034436014598.\n"
          ]
        },
        {
          "output_type": "stream",
          "name": "stdout",
          "text": [
            "Training until validation scores don't improve for 50 rounds\n",
            "[100]\ttraining's rmse: 0.258914\tvalid_1's rmse: 0.282235\n",
            "[200]\ttraining's rmse: 0.182284\tvalid_1's rmse: 0.227382\n",
            "[300]\ttraining's rmse: 0.158453\tvalid_1's rmse: 0.216359\n",
            "[400]\ttraining's rmse: 0.142928\tvalid_1's rmse: 0.208872\n",
            "[500]\ttraining's rmse: 0.132085\tvalid_1's rmse: 0.20407\n",
            "[600]\ttraining's rmse: 0.124335\tvalid_1's rmse: 0.200992\n",
            "[700]\ttraining's rmse: 0.117899\tvalid_1's rmse: 0.199928\n",
            "[800]\ttraining's rmse: 0.112741\tvalid_1's rmse: 0.19873\n",
            "Early stopping, best iteration is:\n",
            "[845]\ttraining's rmse: 0.110627\tvalid_1's rmse: 0.197907\n"
          ]
        },
        {
          "output_type": "stream",
          "name": "stderr",
          "text": [
            "[I 2025-01-31 11:02:39,717] Trial 55 finished with value: 0.9612821500271492 and parameters: {'learning_rate': 0.026803342221346435, 'num_leaves': 95, 'max_depth': 18, 'feature_fraction': 0.8346909118887769, 'bagging_fraction': 0.9605493611654212, 'bagging_freq': 6, 'min_data_in_leaf': 31, 'lambda_l1': 0.4870766749212829, 'lambda_l2': 5.647026651420769}. Best is trial 51 with value: 0.9626034436014598.\n"
          ]
        },
        {
          "output_type": "stream",
          "name": "stdout",
          "text": [
            "Training until validation scores don't improve for 50 rounds\n",
            "[100]\ttraining's rmse: 0.267891\tvalid_1's rmse: 0.287437\n",
            "[200]\ttraining's rmse: 0.186437\tvalid_1's rmse: 0.227237\n",
            "[300]\ttraining's rmse: 0.161178\tvalid_1's rmse: 0.217032\n",
            "[400]\ttraining's rmse: 0.145122\tvalid_1's rmse: 0.209365\n",
            "[500]\ttraining's rmse: 0.133956\tvalid_1's rmse: 0.204743\n",
            "[600]\ttraining's rmse: 0.125399\tvalid_1's rmse: 0.201386\n",
            "[700]\ttraining's rmse: 0.118759\tvalid_1's rmse: 0.199644\n",
            "[800]\ttraining's rmse: 0.113228\tvalid_1's rmse: 0.197754\n",
            "[900]\ttraining's rmse: 0.108954\tvalid_1's rmse: 0.196682\n",
            "[1000]\ttraining's rmse: 0.105087\tvalid_1's rmse: 0.196498\n",
            "Did not meet early stopping. Best iteration is:\n",
            "[988]\ttraining's rmse: 0.105469\tvalid_1's rmse: 0.196377\n"
          ]
        },
        {
          "output_type": "stream",
          "name": "stderr",
          "text": [
            "[I 2025-01-31 11:02:43,375] Trial 56 finished with value: 0.961878163141504 and parameters: {'learning_rate': 0.025086536639076697, 'num_leaves': 96, 'max_depth': 19, 'feature_fraction': 0.847204413310487, 'bagging_fraction': 0.9616395831306955, 'bagging_freq': 6, 'min_data_in_leaf': 30, 'lambda_l1': 0.4464183300211539, 'lambda_l2': 6.814623554491487}. Best is trial 51 with value: 0.9626034436014598.\n"
          ]
        },
        {
          "output_type": "stream",
          "name": "stdout",
          "text": [
            "Training until validation scores don't improve for 50 rounds\n",
            "[100]\ttraining's rmse: 0.431102\tvalid_1's rmse: 0.443174\n",
            "[200]\ttraining's rmse: 0.305708\tvalid_1's rmse: 0.330404\n",
            "[300]\ttraining's rmse: 0.26027\tvalid_1's rmse: 0.292939\n",
            "[400]\ttraining's rmse: 0.241597\tvalid_1's rmse: 0.277322\n",
            "[500]\ttraining's rmse: 0.234366\tvalid_1's rmse: 0.27218\n",
            "[600]\ttraining's rmse: 0.231358\tvalid_1's rmse: 0.269961\n",
            "Early stopping, best iteration is:\n",
            "[618]\ttraining's rmse: 0.230729\tvalid_1's rmse: 0.269441\n"
          ]
        },
        {
          "output_type": "stream",
          "name": "stderr",
          "text": [
            "[I 2025-01-31 11:02:46,390] Trial 57 finished with value: 0.9282339632083377 and parameters: {'learning_rate': 0.0214671448263834, 'num_leaves': 107, 'max_depth': 19, 'feature_fraction': 0.8663877036869034, 'bagging_fraction': 0.9266004564390867, 'bagging_freq': 8, 'min_data_in_leaf': 13, 'lambda_l1': 7.96151723410897, 'lambda_l2': 6.734394779776016}. Best is trial 51 with value: 0.9626034436014598.\n"
          ]
        },
        {
          "output_type": "stream",
          "name": "stdout",
          "text": [
            "Training until validation scores don't improve for 50 rounds\n",
            "[100]\ttraining's rmse: 0.249546\tvalid_1's rmse: 0.273582\n",
            "[200]\ttraining's rmse: 0.180425\tvalid_1's rmse: 0.225483\n",
            "[300]\ttraining's rmse: 0.157395\tvalid_1's rmse: 0.215329\n",
            "[400]\ttraining's rmse: 0.146308\tvalid_1's rmse: 0.211348\n",
            "[500]\ttraining's rmse: 0.138691\tvalid_1's rmse: 0.208331\n",
            "[600]\ttraining's rmse: 0.134031\tvalid_1's rmse: 0.206616\n",
            "[700]\ttraining's rmse: 0.130166\tvalid_1's rmse: 0.205631\n",
            "[800]\ttraining's rmse: 0.127458\tvalid_1's rmse: 0.205105\n",
            "[900]\ttraining's rmse: 0.125056\tvalid_1's rmse: 0.204054\n",
            "[1000]\ttraining's rmse: 0.12329\tvalid_1's rmse: 0.203308\n",
            "Did not meet early stopping. Best iteration is:\n",
            "[1000]\ttraining's rmse: 0.12329\tvalid_1's rmse: 0.203308\n"
          ]
        },
        {
          "output_type": "stream",
          "name": "stderr",
          "text": [
            "[I 2025-01-31 11:02:50,174] Trial 58 finished with value: 0.9591399357850686 and parameters: {'learning_rate': 0.030679537474990207, 'num_leaves': 99, 'max_depth': 20, 'feature_fraction': 0.8499906811735524, 'bagging_fraction': 0.9864585779423773, 'bagging_freq': 7, 'min_data_in_leaf': 21, 'lambda_l1': 1.5051552078572947, 'lambda_l2': 7.223133502311178}. Best is trial 51 with value: 0.9626034436014598.\n"
          ]
        },
        {
          "output_type": "stream",
          "name": "stdout",
          "text": [
            "Training until validation scores don't improve for 50 rounds\n",
            "[100]\ttraining's rmse: 0.26459\tvalid_1's rmse: 0.280234\n",
            "[200]\ttraining's rmse: 0.184067\tvalid_1's rmse: 0.219232\n",
            "[300]\ttraining's rmse: 0.155287\tvalid_1's rmse: 0.205512\n",
            "[400]\ttraining's rmse: 0.139407\tvalid_1's rmse: 0.199019\n",
            "[500]\ttraining's rmse: 0.128264\tvalid_1's rmse: 0.195934\n",
            "[600]\ttraining's rmse: 0.119091\tvalid_1's rmse: 0.193617\n",
            "[700]\ttraining's rmse: 0.111514\tvalid_1's rmse: 0.191984\n",
            "[800]\ttraining's rmse: 0.105428\tvalid_1's rmse: 0.190269\n",
            "[900]\ttraining's rmse: 0.100336\tvalid_1's rmse: 0.190207\n",
            "Early stopping, best iteration is:\n",
            "[851]\ttraining's rmse: 0.10267\tvalid_1's rmse: 0.190144\n"
          ]
        },
        {
          "output_type": "stream",
          "name": "stderr",
          "text": [
            "[I 2025-01-31 11:02:53,333] Trial 59 finished with value: 0.9642599696611921 and parameters: {'learning_rate': 0.023751064617775187, 'num_leaves': 81, 'max_depth': 18, 'feature_fraction': 0.9035755357564105, 'bagging_fraction': 0.9479805266219467, 'bagging_freq': 5, 'min_data_in_leaf': 28, 'lambda_l1': 0.007016286117805526, 'lambda_l2': 7.679038227436915}. Best is trial 59 with value: 0.9642599696611921.\n"
          ]
        },
        {
          "output_type": "stream",
          "name": "stdout",
          "text": [
            "Training until validation scores don't improve for 50 rounds\n",
            "[100]\ttraining's rmse: 0.27832\tvalid_1's rmse: 0.293352\n",
            "[200]\ttraining's rmse: 0.194192\tvalid_1's rmse: 0.228118\n",
            "[300]\ttraining's rmse: 0.163265\tvalid_1's rmse: 0.212598\n",
            "[400]\ttraining's rmse: 0.146298\tvalid_1's rmse: 0.206022\n",
            "[500]\ttraining's rmse: 0.13474\tvalid_1's rmse: 0.201801\n",
            "[600]\ttraining's rmse: 0.125199\tvalid_1's rmse: 0.199283\n",
            "[700]\ttraining's rmse: 0.117757\tvalid_1's rmse: 0.197288\n",
            "[800]\ttraining's rmse: 0.11197\tvalid_1's rmse: 0.195554\n",
            "[900]\ttraining's rmse: 0.106797\tvalid_1's rmse: 0.195155\n",
            "Early stopping, best iteration is:\n",
            "[939]\ttraining's rmse: 0.105051\tvalid_1's rmse: 0.194814\n"
          ]
        },
        {
          "output_type": "stream",
          "name": "stderr",
          "text": [
            "[I 2025-01-31 11:02:56,916] Trial 60 finished with value: 0.9624827641958758 and parameters: {'learning_rate': 0.022257521774112277, 'num_leaves': 82, 'max_depth': 17, 'feature_fraction': 0.9114155541278341, 'bagging_fraction': 0.9495621366987094, 'bagging_freq': 5, 'min_data_in_leaf': 28, 'lambda_l1': 0.1449015487120741, 'lambda_l2': 7.652653010476262}. Best is trial 59 with value: 0.9642599696611921.\n"
          ]
        },
        {
          "output_type": "stream",
          "name": "stdout",
          "text": [
            "Training until validation scores don't improve for 50 rounds\n",
            "[100]\ttraining's rmse: 0.27064\tvalid_1's rmse: 0.285859\n",
            "[200]\ttraining's rmse: 0.189565\tvalid_1's rmse: 0.22374\n",
            "[300]\ttraining's rmse: 0.158969\tvalid_1's rmse: 0.208023\n",
            "[400]\ttraining's rmse: 0.142573\tvalid_1's rmse: 0.202593\n",
            "[500]\ttraining's rmse: 0.131209\tvalid_1's rmse: 0.19832\n",
            "[600]\ttraining's rmse: 0.122254\tvalid_1's rmse: 0.195306\n",
            "[700]\ttraining's rmse: 0.115166\tvalid_1's rmse: 0.193306\n",
            "[800]\ttraining's rmse: 0.109208\tvalid_1's rmse: 0.192376\n",
            "Early stopping, best iteration is:\n",
            "[817]\ttraining's rmse: 0.108229\tvalid_1's rmse: 0.192286\n"
          ]
        },
        {
          "output_type": "stream",
          "name": "stderr",
          "text": [
            "[I 2025-01-31 11:03:02,683] Trial 61 finished with value: 0.9634501613531624 and parameters: {'learning_rate': 0.022785407007904847, 'num_leaves': 81, 'max_depth': 17, 'feature_fraction': 0.907894113907067, 'bagging_fraction': 0.9529360838486568, 'bagging_freq': 5, 'min_data_in_leaf': 28, 'lambda_l1': 0.028205566553347827, 'lambda_l2': 7.709543502527752}. Best is trial 59 with value: 0.9642599696611921.\n"
          ]
        },
        {
          "output_type": "stream",
          "name": "stdout",
          "text": [
            "Training until validation scores don't improve for 50 rounds\n",
            "[100]\ttraining's rmse: 0.268337\tvalid_1's rmse: 0.284139\n",
            "[200]\ttraining's rmse: 0.187271\tvalid_1's rmse: 0.225057\n",
            "[300]\ttraining's rmse: 0.158864\tvalid_1's rmse: 0.211102\n",
            "[400]\ttraining's rmse: 0.141842\tvalid_1's rmse: 0.203755\n",
            "[500]\ttraining's rmse: 0.130221\tvalid_1's rmse: 0.200001\n",
            "[600]\ttraining's rmse: 0.120692\tvalid_1's rmse: 0.196735\n",
            "[700]\ttraining's rmse: 0.113353\tvalid_1's rmse: 0.194495\n",
            "[800]\ttraining's rmse: 0.107589\tvalid_1's rmse: 0.193385\n",
            "[900]\ttraining's rmse: 0.102249\tvalid_1's rmse: 0.192774\n",
            "[1000]\ttraining's rmse: 0.0975018\tvalid_1's rmse: 0.192222\n",
            "Did not meet early stopping. Best iteration is:\n",
            "[995]\ttraining's rmse: 0.0977264\tvalid_1's rmse: 0.192125\n"
          ]
        },
        {
          "output_type": "stream",
          "name": "stderr",
          "text": [
            "[I 2025-01-31 11:03:06,335] Trial 62 finished with value: 0.9635112834976716 and parameters: {'learning_rate': 0.02325011278112275, 'num_leaves': 81, 'max_depth': 17, 'feature_fraction': 0.9138156956408803, 'bagging_fraction': 0.9478185594970084, 'bagging_freq': 5, 'min_data_in_leaf': 27, 'lambda_l1': 0.0476350467756505, 'lambda_l2': 7.816551818909077}. Best is trial 59 with value: 0.9642599696611921.\n"
          ]
        },
        {
          "output_type": "stream",
          "name": "stdout",
          "text": [
            "Training until validation scores don't improve for 50 rounds\n",
            "[100]\ttraining's rmse: 0.284127\tvalid_1's rmse: 0.297778\n",
            "[200]\ttraining's rmse: 0.195336\tvalid_1's rmse: 0.22794\n",
            "[300]\ttraining's rmse: 0.164902\tvalid_1's rmse: 0.21247\n",
            "[400]\ttraining's rmse: 0.147799\tvalid_1's rmse: 0.206103\n",
            "[500]\ttraining's rmse: 0.13591\tvalid_1's rmse: 0.202434\n",
            "[600]\ttraining's rmse: 0.126403\tvalid_1's rmse: 0.199167\n",
            "[700]\ttraining's rmse: 0.119361\tvalid_1's rmse: 0.19667\n",
            "[800]\ttraining's rmse: 0.113486\tvalid_1's rmse: 0.195089\n",
            "[900]\ttraining's rmse: 0.108215\tvalid_1's rmse: 0.194498\n",
            "[1000]\ttraining's rmse: 0.103503\tvalid_1's rmse: 0.193706\n",
            "Did not meet early stopping. Best iteration is:\n",
            "[997]\ttraining's rmse: 0.103622\tvalid_1's rmse: 0.193665\n"
          ]
        },
        {
          "output_type": "stream",
          "name": "stderr",
          "text": [
            "[I 2025-01-31 11:03:09,789] Trial 63 finished with value: 0.9629240159898795 and parameters: {'learning_rate': 0.021405274655845845, 'num_leaves': 77, 'max_depth': 17, 'feature_fraction': 0.9161702122609116, 'bagging_fraction': 0.9502815300741124, 'bagging_freq': 5, 'min_data_in_leaf': 27, 'lambda_l1': 0.13333514518316808, 'lambda_l2': 7.618756514449539}. Best is trial 59 with value: 0.9642599696611921.\n"
          ]
        },
        {
          "output_type": "stream",
          "name": "stdout",
          "text": [
            "Training until validation scores don't improve for 50 rounds\n",
            "[100]\ttraining's rmse: 0.284906\tvalid_1's rmse: 0.298933\n",
            "[200]\ttraining's rmse: 0.192866\tvalid_1's rmse: 0.225321\n",
            "[300]\ttraining's rmse: 0.161648\tvalid_1's rmse: 0.20837\n",
            "[400]\ttraining's rmse: 0.143728\tvalid_1's rmse: 0.202152\n",
            "[500]\ttraining's rmse: 0.132023\tvalid_1's rmse: 0.197969\n",
            "[600]\ttraining's rmse: 0.122429\tvalid_1's rmse: 0.195527\n",
            "[700]\ttraining's rmse: 0.114682\tvalid_1's rmse: 0.192969\n",
            "[800]\ttraining's rmse: 0.108589\tvalid_1's rmse: 0.191582\n",
            "[900]\ttraining's rmse: 0.103418\tvalid_1's rmse: 0.191111\n",
            "[1000]\ttraining's rmse: 0.0986364\tvalid_1's rmse: 0.190339\n",
            "Did not meet early stopping. Best iteration is:\n",
            "[996]\ttraining's rmse: 0.0988036\tvalid_1's rmse: 0.190265\n"
          ]
        },
        {
          "output_type": "stream",
          "name": "stderr",
          "text": [
            "[I 2025-01-31 11:03:15,991] Trial 64 finished with value: 0.9642142046658969 and parameters: {'learning_rate': 0.02113756957308881, 'num_leaves': 81, 'max_depth': 17, 'feature_fraction': 0.9133124037539614, 'bagging_fraction': 0.9474258309438028, 'bagging_freq': 5, 'min_data_in_leaf': 26, 'lambda_l1': 0.008502479090374354, 'lambda_l2': 7.784859202844221}. Best is trial 59 with value: 0.9642599696611921.\n"
          ]
        },
        {
          "output_type": "stream",
          "name": "stdout",
          "text": [
            "Training until validation scores don't improve for 50 rounds\n",
            "[100]\ttraining's rmse: 0.346865\tvalid_1's rmse: 0.357886\n",
            "[200]\ttraining's rmse: 0.206574\tvalid_1's rmse: 0.238455\n",
            "[300]\ttraining's rmse: 0.162577\tvalid_1's rmse: 0.212216\n",
            "[400]\ttraining's rmse: 0.140686\tvalid_1's rmse: 0.203183\n",
            "[500]\ttraining's rmse: 0.126598\tvalid_1's rmse: 0.197442\n",
            "[600]\ttraining's rmse: 0.115789\tvalid_1's rmse: 0.193811\n",
            "[700]\ttraining's rmse: 0.107892\tvalid_1's rmse: 0.191225\n",
            "[800]\ttraining's rmse: 0.101313\tvalid_1's rmse: 0.189448\n",
            "[900]\ttraining's rmse: 0.0958763\tvalid_1's rmse: 0.188165\n",
            "[1000]\ttraining's rmse: 0.0909287\tvalid_1's rmse: 0.187123\n",
            "Did not meet early stopping. Best iteration is:\n",
            "[1000]\ttraining's rmse: 0.0909287\tvalid_1's rmse: 0.187123\n"
          ]
        },
        {
          "output_type": "stream",
          "name": "stderr",
          "text": [
            "[I 2025-01-31 11:03:19,583] Trial 65 finished with value: 0.9653866724209536 and parameters: {'learning_rate': 0.015767770686043577, 'num_leaves': 80, 'max_depth': 17, 'feature_fraction': 0.918097833303564, 'bagging_fraction': 0.949210054419505, 'bagging_freq': 5, 'min_data_in_leaf': 10, 'lambda_l1': 0.05616121366982581, 'lambda_l2': 7.769888885359655}. Best is trial 65 with value: 0.9653866724209536.\n"
          ]
        },
        {
          "output_type": "stream",
          "name": "stdout",
          "text": [
            "Training until validation scores don't improve for 50 rounds\n",
            "[100]\ttraining's rmse: 0.344288\tvalid_1's rmse: 0.356135\n",
            "[200]\ttraining's rmse: 0.205483\tvalid_1's rmse: 0.236984\n",
            "[300]\ttraining's rmse: 0.162036\tvalid_1's rmse: 0.212552\n",
            "[400]\ttraining's rmse: 0.140392\tvalid_1's rmse: 0.202644\n",
            "[500]\ttraining's rmse: 0.126306\tvalid_1's rmse: 0.197598\n",
            "[600]\ttraining's rmse: 0.116238\tvalid_1's rmse: 0.194217\n",
            "[700]\ttraining's rmse: 0.108212\tvalid_1's rmse: 0.191464\n",
            "[800]\ttraining's rmse: 0.101567\tvalid_1's rmse: 0.189215\n",
            "[900]\ttraining's rmse: 0.0959264\tvalid_1's rmse: 0.188111\n",
            "[1000]\ttraining's rmse: 0.0909486\tvalid_1's rmse: 0.187051\n",
            "Did not meet early stopping. Best iteration is:\n",
            "[1000]\ttraining's rmse: 0.0909486\tvalid_1's rmse: 0.187051\n"
          ]
        },
        {
          "output_type": "stream",
          "name": "stderr",
          "text": [
            "[I 2025-01-31 11:03:23,153] Trial 66 finished with value: 0.965413199516225 and parameters: {'learning_rate': 0.01605864586535972, 'num_leaves': 79, 'max_depth': 17, 'feature_fraction': 0.9293625875717283, 'bagging_fraction': 0.9474072838351055, 'bagging_freq': 5, 'min_data_in_leaf': 11, 'lambda_l1': 0.005943621026755386, 'lambda_l2': 8.083047012824286}. Best is trial 66 with value: 0.965413199516225.\n"
          ]
        },
        {
          "output_type": "stream",
          "name": "stdout",
          "text": [
            "Training until validation scores don't improve for 50 rounds\n",
            "[100]\ttraining's rmse: 0.360915\tvalid_1's rmse: 0.371267\n",
            "[200]\ttraining's rmse: 0.218614\tvalid_1's rmse: 0.248838\n",
            "[300]\ttraining's rmse: 0.172761\tvalid_1's rmse: 0.219634\n",
            "[400]\ttraining's rmse: 0.149657\tvalid_1's rmse: 0.209144\n",
            "[500]\ttraining's rmse: 0.134868\tvalid_1's rmse: 0.202866\n",
            "[600]\ttraining's rmse: 0.124171\tvalid_1's rmse: 0.199157\n",
            "[700]\ttraining's rmse: 0.115818\tvalid_1's rmse: 0.19601\n",
            "[800]\ttraining's rmse: 0.109008\tvalid_1's rmse: 0.193637\n",
            "[900]\ttraining's rmse: 0.103386\tvalid_1's rmse: 0.192547\n",
            "[1000]\ttraining's rmse: 0.0987564\tvalid_1's rmse: 0.191352\n",
            "Did not meet early stopping. Best iteration is:\n",
            "[995]\ttraining's rmse: 0.098959\tvalid_1's rmse: 0.191322\n"
          ]
        },
        {
          "output_type": "stream",
          "name": "stderr",
          "text": [
            "[I 2025-01-31 11:03:28,876] Trial 67 finished with value: 0.9638155898213016 and parameters: {'learning_rate': 0.015189800283425049, 'num_leaves': 77, 'max_depth': 15, 'feature_fraction': 0.9361090974404311, 'bagging_fraction': 0.9282942043079486, 'bagging_freq': 5, 'min_data_in_leaf': 12, 'lambda_l1': 0.11552201337045917, 'lambda_l2': 8.083541654232413}. Best is trial 66 with value: 0.965413199516225.\n"
          ]
        },
        {
          "output_type": "stream",
          "name": "stdout",
          "text": [
            "Training until validation scores don't improve for 50 rounds\n",
            "[100]\ttraining's rmse: 0.3595\tvalid_1's rmse: 0.369587\n",
            "[200]\ttraining's rmse: 0.216222\tvalid_1's rmse: 0.245258\n",
            "[300]\ttraining's rmse: 0.170959\tvalid_1's rmse: 0.216799\n",
            "[400]\ttraining's rmse: 0.147375\tvalid_1's rmse: 0.205059\n",
            "[500]\ttraining's rmse: 0.132428\tvalid_1's rmse: 0.198389\n",
            "[600]\ttraining's rmse: 0.121967\tvalid_1's rmse: 0.194196\n",
            "[700]\ttraining's rmse: 0.11403\tvalid_1's rmse: 0.19163\n",
            "[800]\ttraining's rmse: 0.107509\tvalid_1's rmse: 0.189778\n",
            "[900]\ttraining's rmse: 0.102117\tvalid_1's rmse: 0.188788\n",
            "[1000]\ttraining's rmse: 0.0971614\tvalid_1's rmse: 0.18786\n",
            "Did not meet early stopping. Best iteration is:\n",
            "[999]\ttraining's rmse: 0.0972028\tvalid_1's rmse: 0.187854\n"
          ]
        },
        {
          "output_type": "stream",
          "name": "stderr",
          "text": [
            "[I 2025-01-31 11:03:32,135] Trial 68 finished with value: 0.9651156396141746 and parameters: {'learning_rate': 0.015188575840170915, 'num_leaves': 69, 'max_depth': 15, 'feature_fraction': 0.9356564886859705, 'bagging_fraction': 0.9245871249156449, 'bagging_freq': 5, 'min_data_in_leaf': 10, 'lambda_l1': 0.010211235526202428, 'lambda_l2': 8.074047458841026}. Best is trial 66 with value: 0.965413199516225.\n"
          ]
        },
        {
          "output_type": "stream",
          "name": "stdout",
          "text": [
            "Training until validation scores don't improve for 50 rounds\n",
            "[100]\ttraining's rmse: 0.382948\tvalid_1's rmse: 0.392052\n",
            "[200]\ttraining's rmse: 0.242201\tvalid_1's rmse: 0.268762\n",
            "[300]\ttraining's rmse: 0.196558\tvalid_1's rmse: 0.235998\n",
            "[400]\ttraining's rmse: 0.174148\tvalid_1's rmse: 0.223557\n",
            "[500]\ttraining's rmse: 0.160195\tvalid_1's rmse: 0.217191\n",
            "[600]\ttraining's rmse: 0.150475\tvalid_1's rmse: 0.213387\n",
            "[700]\ttraining's rmse: 0.143673\tvalid_1's rmse: 0.210965\n",
            "[800]\ttraining's rmse: 0.137884\tvalid_1's rmse: 0.208583\n",
            "[900]\ttraining's rmse: 0.132841\tvalid_1's rmse: 0.20622\n",
            "[1000]\ttraining's rmse: 0.129249\tvalid_1's rmse: 0.204586\n",
            "Did not meet early stopping. Best iteration is:\n",
            "[1000]\ttraining's rmse: 0.129249\tvalid_1's rmse: 0.204586\n"
          ]
        },
        {
          "output_type": "stream",
          "name": "stderr",
          "text": [
            "[I 2025-01-31 11:03:35,449] Trial 69 finished with value: 0.9586244846698466 and parameters: {'learning_rate': 0.01573341443163458, 'num_leaves': 69, 'max_depth': 15, 'feature_fraction': 0.9420918206759511, 'bagging_fraction': 0.9240426143316721, 'bagging_freq': 5, 'min_data_in_leaf': 11, 'lambda_l1': 1.3649760800023434, 'lambda_l2': 9.294229333089078}. Best is trial 66 with value: 0.965413199516225.\n"
          ]
        },
        {
          "output_type": "stream",
          "name": "stdout",
          "text": [
            "Training until validation scores don't improve for 50 rounds\n",
            "[100]\ttraining's rmse: 0.380881\tvalid_1's rmse: 0.389373\n",
            "[200]\ttraining's rmse: 0.231851\tvalid_1's rmse: 0.256708\n",
            "[300]\ttraining's rmse: 0.184827\tvalid_1's rmse: 0.225316\n",
            "[400]\ttraining's rmse: 0.161667\tvalid_1's rmse: 0.21313\n",
            "[500]\ttraining's rmse: 0.146283\tvalid_1's rmse: 0.205907\n",
            "[600]\ttraining's rmse: 0.1353\tvalid_1's rmse: 0.20137\n",
            "[700]\ttraining's rmse: 0.126172\tvalid_1's rmse: 0.197489\n",
            "[800]\ttraining's rmse: 0.119135\tvalid_1's rmse: 0.195449\n",
            "[900]\ttraining's rmse: 0.11336\tvalid_1's rmse: 0.193447\n",
            "[1000]\ttraining's rmse: 0.108329\tvalid_1's rmse: 0.191925\n",
            "Did not meet early stopping. Best iteration is:\n",
            "[1000]\ttraining's rmse: 0.108329\tvalid_1's rmse: 0.191925\n"
          ]
        },
        {
          "output_type": "stream",
          "name": "stderr",
          "text": [
            "[I 2025-01-31 11:03:41,560] Trial 70 finished with value: 0.9635871112221569 and parameters: {'learning_rate': 0.014481189426167834, 'num_leaves': 73, 'max_depth': 16, 'feature_fraction': 0.9631588666213785, 'bagging_fraction': 0.8885702469703308, 'bagging_freq': 5, 'min_data_in_leaf': 17, 'lambda_l1': 0.010475594338790157, 'lambda_l2': 8.31095168179402}. Best is trial 66 with value: 0.965413199516225.\n"
          ]
        },
        {
          "output_type": "stream",
          "name": "stdout",
          "text": [
            "Training until validation scores don't improve for 50 rounds\n",
            "[100]\ttraining's rmse: 0.388098\tvalid_1's rmse: 0.396333\n",
            "[200]\ttraining's rmse: 0.243193\tvalid_1's rmse: 0.267809\n",
            "[300]\ttraining's rmse: 0.194215\tvalid_1's rmse: 0.23307\n",
            "[400]\ttraining's rmse: 0.171032\tvalid_1's rmse: 0.220331\n",
            "[500]\ttraining's rmse: 0.155145\tvalid_1's rmse: 0.212673\n",
            "[600]\ttraining's rmse: 0.144588\tvalid_1's rmse: 0.207933\n",
            "[700]\ttraining's rmse: 0.136415\tvalid_1's rmse: 0.204361\n",
            "[800]\ttraining's rmse: 0.130085\tvalid_1's rmse: 0.201739\n",
            "[900]\ttraining's rmse: 0.124626\tvalid_1's rmse: 0.199624\n",
            "[1000]\ttraining's rmse: 0.12046\tvalid_1's rmse: 0.198217\n",
            "Did not meet early stopping. Best iteration is:\n",
            "[1000]\ttraining's rmse: 0.12046\tvalid_1's rmse: 0.198217\n"
          ]
        },
        {
          "output_type": "stream",
          "name": "stderr",
          "text": [
            "[I 2025-01-31 11:03:44,588] Trial 71 finished with value: 0.9611605262535778 and parameters: {'learning_rate': 0.014731125310737291, 'num_leaves': 60, 'max_depth': 16, 'feature_fraction': 0.9625533711924843, 'bagging_fraction': 0.9151072256506187, 'bagging_freq': 5, 'min_data_in_leaf': 10, 'lambda_l1': 0.7865900402064054, 'lambda_l2': 8.176047370720804}. Best is trial 66 with value: 0.965413199516225.\n"
          ]
        },
        {
          "output_type": "stream",
          "name": "stdout",
          "text": [
            "Training until validation scores don't improve for 50 rounds\n",
            "[100]\ttraining's rmse: 0.332579\tvalid_1's rmse: 0.347539\n",
            "[200]\ttraining's rmse: 0.216417\tvalid_1's rmse: 0.250915\n",
            "[300]\ttraining's rmse: 0.179263\tvalid_1's rmse: 0.228986\n",
            "[400]\ttraining's rmse: 0.159798\tvalid_1's rmse: 0.219257\n",
            "[500]\ttraining's rmse: 0.146966\tvalid_1's rmse: 0.213358\n",
            "[600]\ttraining's rmse: 0.138075\tvalid_1's rmse: 0.208955\n",
            "[700]\ttraining's rmse: 0.131032\tvalid_1's rmse: 0.205764\n",
            "[800]\ttraining's rmse: 0.125768\tvalid_1's rmse: 0.204181\n",
            "[900]\ttraining's rmse: 0.120739\tvalid_1's rmse: 0.202589\n",
            "[1000]\ttraining's rmse: 0.117245\tvalid_1's rmse: 0.201256\n",
            "Did not meet early stopping. Best iteration is:\n",
            "[991]\ttraining's rmse: 0.117537\tvalid_1's rmse: 0.20125\n"
          ]
        },
        {
          "output_type": "stream",
          "name": "stderr",
          "text": [
            "[I 2025-01-31 11:03:47,885] Trial 72 finished with value: 0.9599628447898103 and parameters: {'learning_rate': 0.01890105742719978, 'num_leaves': 72, 'max_depth': 15, 'feature_fraction': 0.9288980776004284, 'bagging_fraction': 0.8926892622966399, 'bagging_freq': 5, 'min_data_in_leaf': 16, 'lambda_l1': 0.9427938927285159, 'lambda_l2': 8.01851907093527}. Best is trial 66 with value: 0.965413199516225.\n"
          ]
        },
        {
          "output_type": "stream",
          "name": "stdout",
          "text": [
            "Training until validation scores don't improve for 50 rounds\n",
            "[100]\ttraining's rmse: 0.460651\tvalid_1's rmse: 0.469778\n",
            "[200]\ttraining's rmse: 0.277028\tvalid_1's rmse: 0.297636\n",
            "[300]\ttraining's rmse: 0.211804\tvalid_1's rmse: 0.245059\n",
            "[400]\ttraining's rmse: 0.181978\tvalid_1's rmse: 0.225552\n",
            "[500]\ttraining's rmse: 0.163789\tvalid_1's rmse: 0.215951\n",
            "[600]\ttraining's rmse: 0.15061\tvalid_1's rmse: 0.209963\n",
            "[700]\ttraining's rmse: 0.141049\tvalid_1's rmse: 0.206653\n",
            "[800]\ttraining's rmse: 0.132617\tvalid_1's rmse: 0.203044\n",
            "[900]\ttraining's rmse: 0.125929\tvalid_1's rmse: 0.200441\n",
            "[1000]\ttraining's rmse: 0.120364\tvalid_1's rmse: 0.198344\n",
            "Did not meet early stopping. Best iteration is:\n",
            "[997]\ttraining's rmse: 0.120492\tvalid_1's rmse: 0.198312\n"
          ]
        },
        {
          "output_type": "stream",
          "name": "stderr",
          "text": [
            "[I 2025-01-31 11:03:51,632] Trial 73 finished with value: 0.9611232013491297 and parameters: {'learning_rate': 0.011801588569453814, 'num_leaves': 78, 'max_depth': 16, 'feature_fraction': 0.8924215635396828, 'bagging_fraction': 0.90796890112977, 'bagging_freq': 4, 'min_data_in_leaf': 18, 'lambda_l1': 0.016190408326276565, 'lambda_l2': 8.619910201589532}. Best is trial 66 with value: 0.965413199516225.\n"
          ]
        },
        {
          "output_type": "stream",
          "name": "stdout",
          "text": [
            "Training until validation scores don't improve for 50 rounds\n",
            "[100]\ttraining's rmse: 0.315378\tvalid_1's rmse: 0.32632\n",
            "[200]\ttraining's rmse: 0.195833\tvalid_1's rmse: 0.22945\n",
            "[300]\ttraining's rmse: 0.158202\tvalid_1's rmse: 0.20951\n",
            "[400]\ttraining's rmse: 0.138615\tvalid_1's rmse: 0.202125\n",
            "[500]\ttraining's rmse: 0.126197\tvalid_1's rmse: 0.196558\n",
            "[600]\ttraining's rmse: 0.116769\tvalid_1's rmse: 0.193162\n",
            "[700]\ttraining's rmse: 0.108922\tvalid_1's rmse: 0.190351\n",
            "[800]\ttraining's rmse: 0.102655\tvalid_1's rmse: 0.188874\n",
            "[900]\ttraining's rmse: 0.0973208\tvalid_1's rmse: 0.188045\n",
            "[1000]\ttraining's rmse: 0.0927863\tvalid_1's rmse: 0.18693\n",
            "Did not meet early stopping. Best iteration is:\n",
            "[995]\ttraining's rmse: 0.0930415\tvalid_1's rmse: 0.186918\n"
          ]
        },
        {
          "output_type": "stream",
          "name": "stderr",
          "text": [
            "[I 2025-01-31 11:03:57,260] Trial 74 finished with value: 0.9654621980263614 and parameters: {'learning_rate': 0.017642721192508683, 'num_leaves': 74, 'max_depth': 15, 'feature_fraction': 0.9829255444351148, 'bagging_fraction': 0.9277083460449651, 'bagging_freq': 5, 'min_data_in_leaf': 14, 'lambda_l1': 0.01254863852155864, 'lambda_l2': 8.150528543544082}. Best is trial 74 with value: 0.9654621980263614.\n"
          ]
        },
        {
          "output_type": "stream",
          "name": "stdout",
          "text": [
            "Training until validation scores don't improve for 50 rounds\n",
            "[100]\ttraining's rmse: 0.345193\tvalid_1's rmse: 0.354011\n",
            "[200]\ttraining's rmse: 0.221512\tvalid_1's rmse: 0.25029\n",
            "[300]\ttraining's rmse: 0.182208\tvalid_1's rmse: 0.227096\n",
            "[400]\ttraining's rmse: 0.160734\tvalid_1's rmse: 0.217041\n",
            "[500]\ttraining's rmse: 0.147614\tvalid_1's rmse: 0.211367\n",
            "[600]\ttraining's rmse: 0.137572\tvalid_1's rmse: 0.206695\n",
            "[700]\ttraining's rmse: 0.129835\tvalid_1's rmse: 0.203828\n",
            "[800]\ttraining's rmse: 0.123502\tvalid_1's rmse: 0.201222\n",
            "[900]\ttraining's rmse: 0.118616\tvalid_1's rmse: 0.199591\n",
            "[1000]\ttraining's rmse: 0.114343\tvalid_1's rmse: 0.198469\n",
            "Did not meet early stopping. Best iteration is:\n",
            "[992]\ttraining's rmse: 0.114653\tvalid_1's rmse: 0.198395\n"
          ]
        },
        {
          "output_type": "stream",
          "name": "stderr",
          "text": [
            "[I 2025-01-31 11:04:00,767] Trial 75 finished with value: 0.9610907397252817 and parameters: {'learning_rate': 0.01675828457261302, 'num_leaves': 74, 'max_depth': -1, 'feature_fraction': 0.997240089783362, 'bagging_fraction': 0.923744637830317, 'bagging_freq': 4, 'min_data_in_leaf': 16, 'lambda_l1': 0.6956700622358163, 'lambda_l2': 9.269951648135066}. Best is trial 74 with value: 0.9654621980263614.\n"
          ]
        },
        {
          "output_type": "stream",
          "name": "stdout",
          "text": [
            "Training until validation scores don't improve for 50 rounds\n",
            "[100]\ttraining's rmse: 0.406907\tvalid_1's rmse: 0.411366\n",
            "[200]\ttraining's rmse: 0.260966\tvalid_1's rmse: 0.282115\n",
            "[300]\ttraining's rmse: 0.211894\tvalid_1's rmse: 0.244066\n",
            "[400]\ttraining's rmse: 0.187676\tvalid_1's rmse: 0.228898\n",
            "[500]\ttraining's rmse: 0.171328\tvalid_1's rmse: 0.219904\n",
            "[600]\ttraining's rmse: 0.16172\tvalid_1's rmse: 0.215755\n",
            "[700]\ttraining's rmse: 0.154831\tvalid_1's rmse: 0.212797\n",
            "[800]\ttraining's rmse: 0.149398\tvalid_1's rmse: 0.210233\n",
            "[900]\ttraining's rmse: 0.144551\tvalid_1's rmse: 0.207985\n",
            "[1000]\ttraining's rmse: 0.141042\tvalid_1's rmse: 0.206222\n",
            "Did not meet early stopping. Best iteration is:\n",
            "[1000]\ttraining's rmse: 0.141042\tvalid_1's rmse: 0.206222\n"
          ]
        },
        {
          "output_type": "stream",
          "name": "stderr",
          "text": [
            "[I 2025-01-31 11:04:04,011] Trial 76 finished with value: 0.9579603020757335 and parameters: {'learning_rate': 0.013677300599430106, 'num_leaves': 68, 'max_depth': 14, 'feature_fraction': 0.9714872279586761, 'bagging_fraction': 0.9344371365650648, 'bagging_freq': 5, 'min_data_in_leaf': 12, 'lambda_l1': 1.8577341177115236, 'lambda_l2': 8.294774856915009}. Best is trial 74 with value: 0.9654621980263614.\n"
          ]
        },
        {
          "output_type": "stream",
          "name": "stdout",
          "text": [
            "Training until validation scores don't improve for 50 rounds\n",
            "[100]\ttraining's rmse: 0.353312\tvalid_1's rmse: 0.365001\n",
            "[200]\ttraining's rmse: 0.231072\tvalid_1's rmse: 0.257858\n",
            "[300]\ttraining's rmse: 0.190624\tvalid_1's rmse: 0.231502\n",
            "[400]\ttraining's rmse: 0.171048\tvalid_1's rmse: 0.221878\n",
            "[500]\ttraining's rmse: 0.15759\tvalid_1's rmse: 0.214778\n",
            "[600]\ttraining's rmse: 0.14807\tvalid_1's rmse: 0.211043\n",
            "[700]\ttraining's rmse: 0.140838\tvalid_1's rmse: 0.207584\n",
            "[800]\ttraining's rmse: 0.134819\tvalid_1's rmse: 0.20536\n",
            "[900]\ttraining's rmse: 0.129689\tvalid_1's rmse: 0.20324\n",
            "[1000]\ttraining's rmse: 0.125583\tvalid_1's rmse: 0.201767\n",
            "Did not meet early stopping. Best iteration is:\n",
            "[999]\ttraining's rmse: 0.12561\tvalid_1's rmse: 0.201761\n"
          ]
        },
        {
          "output_type": "stream",
          "name": "stderr",
          "text": [
            "[I 2025-01-31 11:04:09,477] Trial 77 finished with value: 0.959759480741578 and parameters: {'learning_rate': 0.017431380428117572, 'num_leaves': 61, 'max_depth': 16, 'feature_fraction': 0.9425616605631693, 'bagging_fraction': 0.8852003781438578, 'bagging_freq': 5, 'min_data_in_leaf': 21, 'lambda_l1': 0.7388940428434317, 'lambda_l2': 8.791843062437735}. Best is trial 74 with value: 0.9654621980263614.\n"
          ]
        },
        {
          "output_type": "stream",
          "name": "stdout",
          "text": [
            "Training until validation scores don't improve for 50 rounds\n",
            "[100]\ttraining's rmse: 0.384973\tvalid_1's rmse: 0.396111\n",
            "[200]\ttraining's rmse: 0.274645\tvalid_1's rmse: 0.299006\n",
            "[300]\ttraining's rmse: 0.237358\tvalid_1's rmse: 0.270933\n",
            "[400]\ttraining's rmse: 0.221903\tvalid_1's rmse: 0.261583\n",
            "[500]\ttraining's rmse: 0.211829\tvalid_1's rmse: 0.254642\n",
            "[600]\ttraining's rmse: 0.206021\tvalid_1's rmse: 0.250675\n",
            "[700]\ttraining's rmse: 0.201819\tvalid_1's rmse: 0.248738\n",
            "[800]\ttraining's rmse: 0.197866\tvalid_1's rmse: 0.246214\n",
            "[900]\ttraining's rmse: 0.195359\tvalid_1's rmse: 0.245644\n",
            "[1000]\ttraining's rmse: 0.193421\tvalid_1's rmse: 0.244556\n",
            "Did not meet early stopping. Best iteration is:\n",
            "[980]\ttraining's rmse: 0.193811\tvalid_1's rmse: 0.244521\n"
          ]
        },
        {
          "output_type": "stream",
          "name": "stderr",
          "text": [
            "[I 2025-01-31 11:04:11,645] Trial 78 finished with value: 0.9408950069571238 and parameters: {'learning_rate': 0.020211912692655275, 'num_leaves': 51, 'max_depth': 14, 'feature_fraction': 0.9762265943839303, 'bagging_fraction': 0.8523494176331798, 'bagging_freq': 9, 'min_data_in_leaf': 14, 'lambda_l1': 5.142210818362779, 'lambda_l2': 7.413079088543531}. Best is trial 74 with value: 0.9654621980263614.\n"
          ]
        },
        {
          "output_type": "stream",
          "name": "stdout",
          "text": [
            "Training until validation scores don't improve for 50 rounds\n",
            "[100]\ttraining's rmse: 0.449563\tvalid_1's rmse: 0.454862\n",
            "[200]\ttraining's rmse: 0.285486\tvalid_1's rmse: 0.302512\n",
            "[300]\ttraining's rmse: 0.227984\tvalid_1's rmse: 0.256007\n",
            "[400]\ttraining's rmse: 0.201619\tvalid_1's rmse: 0.238237\n",
            "[500]\ttraining's rmse: 0.182818\tvalid_1's rmse: 0.226372\n",
            "[600]\ttraining's rmse: 0.170008\tvalid_1's rmse: 0.219383\n",
            "[700]\ttraining's rmse: 0.161646\tvalid_1's rmse: 0.215691\n",
            "[800]\ttraining's rmse: 0.155344\tvalid_1's rmse: 0.213422\n",
            "[900]\ttraining's rmse: 0.149724\tvalid_1's rmse: 0.21085\n",
            "[1000]\ttraining's rmse: 0.14519\tvalid_1's rmse: 0.208713\n",
            "Did not meet early stopping. Best iteration is:\n",
            "[1000]\ttraining's rmse: 0.14519\tvalid_1's rmse: 0.208713\n"
          ]
        },
        {
          "output_type": "stream",
          "name": "stderr",
          "text": [
            "[I 2025-01-31 11:04:14,604] Trial 79 finished with value: 0.9569385707330588 and parameters: {'learning_rate': 0.012524255182985975, 'num_leaves': 58, 'max_depth': 15, 'feature_fraction': 0.9508546695874762, 'bagging_fraction': 0.9430333315038684, 'bagging_freq': 5, 'min_data_in_leaf': 17, 'lambda_l1': 1.3930220818096786, 'lambda_l2': 9.598374448397438}. Best is trial 74 with value: 0.9654621980263614.\n"
          ]
        },
        {
          "output_type": "stream",
          "name": "stdout",
          "text": [
            "Training until validation scores don't improve for 50 rounds\n",
            "[100]\ttraining's rmse: 0.383585\tvalid_1's rmse: 0.391162\n",
            "[200]\ttraining's rmse: 0.246932\tvalid_1's rmse: 0.268777\n",
            "[300]\ttraining's rmse: 0.201278\tvalid_1's rmse: 0.236393\n",
            "[400]\ttraining's rmse: 0.1797\tvalid_1's rmse: 0.224304\n",
            "[500]\ttraining's rmse: 0.165207\tvalid_1's rmse: 0.216795\n",
            "[600]\ttraining's rmse: 0.155284\tvalid_1's rmse: 0.212434\n",
            "[700]\ttraining's rmse: 0.14795\tvalid_1's rmse: 0.20966\n",
            "[800]\ttraining's rmse: 0.141817\tvalid_1's rmse: 0.20687\n",
            "[900]\ttraining's rmse: 0.136571\tvalid_1's rmse: 0.204618\n",
            "[1000]\ttraining's rmse: 0.132337\tvalid_1's rmse: 0.203222\n",
            "Did not meet early stopping. Best iteration is:\n",
            "[992]\ttraining's rmse: 0.132595\tvalid_1's rmse: 0.203091\n"
          ]
        },
        {
          "output_type": "stream",
          "name": "stderr",
          "text": [
            "[I 2025-01-31 11:04:17,870] Trial 80 finished with value: 0.9592269693154647 and parameters: {'learning_rate': 0.015091776912783971, 'num_leaves': 70, 'max_depth': 16, 'feature_fraction': 0.9285810057229481, 'bagging_fraction': 0.9258623768526327, 'bagging_freq': 4, 'min_data_in_leaf': 22, 'lambda_l1': 1.012441799002347, 'lambda_l2': 7.932531487921727}. Best is trial 74 with value: 0.9654621980263614.\n"
          ]
        },
        {
          "output_type": "stream",
          "name": "stdout",
          "text": [
            "Training until validation scores don't improve for 50 rounds\n",
            "[100]\ttraining's rmse: 0.467064\tvalid_1's rmse: 0.475718\n",
            "[200]\ttraining's rmse: 0.277556\tvalid_1's rmse: 0.299582\n",
            "[300]\ttraining's rmse: 0.205213\tvalid_1's rmse: 0.241143\n",
            "[400]\ttraining's rmse: 0.172288\tvalid_1's rmse: 0.219592\n",
            "[500]\ttraining's rmse: 0.153142\tvalid_1's rmse: 0.210341\n",
            "[600]\ttraining's rmse: 0.139808\tvalid_1's rmse: 0.205542\n",
            "[700]\ttraining's rmse: 0.129178\tvalid_1's rmse: 0.201318\n",
            "[800]\ttraining's rmse: 0.121285\tvalid_1's rmse: 0.198125\n",
            "[900]\ttraining's rmse: 0.11458\tvalid_1's rmse: 0.195869\n",
            "[1000]\ttraining's rmse: 0.108813\tvalid_1's rmse: 0.193688\n",
            "Did not meet early stopping. Best iteration is:\n",
            "[1000]\ttraining's rmse: 0.108813\tvalid_1's rmse: 0.193688\n"
          ]
        },
        {
          "output_type": "stream",
          "name": "stderr",
          "text": [
            "[I 2025-01-31 11:04:23,665] Trial 81 finished with value: 0.9629153424182902 and parameters: {'learning_rate': 0.010773898920890626, 'num_leaves': 79, 'max_depth': 17, 'feature_fraction': 0.8934673503736894, 'bagging_fraction': 0.962123353694097, 'bagging_freq': 5, 'min_data_in_leaf': 10, 'lambda_l1': 0.0011853438744228624, 'lambda_l2': 7.094016306884576}. Best is trial 74 with value: 0.9654621980263614.\n"
          ]
        },
        {
          "output_type": "stream",
          "name": "stdout",
          "text": [
            "Training until validation scores don't improve for 50 rounds\n",
            "[100]\ttraining's rmse: 0.321332\tvalid_1's rmse: 0.333201\n",
            "[200]\ttraining's rmse: 0.201122\tvalid_1's rmse: 0.23876\n",
            "[300]\ttraining's rmse: 0.160172\tvalid_1's rmse: 0.214047\n",
            "[400]\ttraining's rmse: 0.138975\tvalid_1's rmse: 0.204259\n",
            "[500]\ttraining's rmse: 0.1252\tvalid_1's rmse: 0.198539\n",
            "[600]\ttraining's rmse: 0.114836\tvalid_1's rmse: 0.194117\n",
            "[700]\ttraining's rmse: 0.106797\tvalid_1's rmse: 0.190917\n",
            "[800]\ttraining's rmse: 0.100019\tvalid_1's rmse: 0.188973\n",
            "[900]\ttraining's rmse: 0.09472\tvalid_1's rmse: 0.188174\n",
            "[1000]\ttraining's rmse: 0.0898226\tvalid_1's rmse: 0.187177\n",
            "Did not meet early stopping. Best iteration is:\n",
            "[1000]\ttraining's rmse: 0.0898226\tvalid_1's rmse: 0.187177\n"
          ]
        },
        {
          "output_type": "stream",
          "name": "stderr",
          "text": [
            "[I 2025-01-31 11:04:27,344] Trial 82 finished with value: 0.9653666002721393 and parameters: {'learning_rate': 0.017535836582572434, 'num_leaves': 83, 'max_depth': 17, 'feature_fraction': 0.9338095920460809, 'bagging_fraction': 0.9424946972108388, 'bagging_freq': 5, 'min_data_in_leaf': 15, 'lambda_l1': 0.0015179196795387893, 'lambda_l2': 7.868960990743884}. Best is trial 74 with value: 0.9654621980263614.\n"
          ]
        },
        {
          "output_type": "stream",
          "name": "stdout",
          "text": [
            "Training until validation scores don't improve for 50 rounds\n",
            "[100]\ttraining's rmse: 0.321206\tvalid_1's rmse: 0.33297\n",
            "[200]\ttraining's rmse: 0.202094\tvalid_1's rmse: 0.235364\n",
            "[300]\ttraining's rmse: 0.164812\tvalid_1's rmse: 0.215673\n",
            "[400]\ttraining's rmse: 0.144612\tvalid_1's rmse: 0.206709\n",
            "[500]\ttraining's rmse: 0.131533\tvalid_1's rmse: 0.202135\n",
            "[600]\ttraining's rmse: 0.122284\tvalid_1's rmse: 0.198481\n",
            "[700]\ttraining's rmse: 0.114217\tvalid_1's rmse: 0.195479\n",
            "[800]\ttraining's rmse: 0.108317\tvalid_1's rmse: 0.193553\n",
            "[900]\ttraining's rmse: 0.102852\tvalid_1's rmse: 0.19222\n",
            "[1000]\ttraining's rmse: 0.0984857\tvalid_1's rmse: 0.191061\n",
            "Did not meet early stopping. Best iteration is:\n",
            "[996]\ttraining's rmse: 0.0986263\tvalid_1's rmse: 0.191035\n"
          ]
        },
        {
          "output_type": "stream",
          "name": "stderr",
          "text": [
            "[I 2025-01-31 11:04:31,232] Trial 83 finished with value: 0.9639239874227511 and parameters: {'learning_rate': 0.017722224085034377, 'num_leaves': 84, 'max_depth': 16, 'feature_fraction': 0.9827091163204831, 'bagging_fraction': 0.907005495194052, 'bagging_freq': 5, 'min_data_in_leaf': 15, 'lambda_l1': 0.287218818655719, 'lambda_l2': 8.308434098140747}. Best is trial 74 with value: 0.9654621980263614.\n"
          ]
        },
        {
          "output_type": "stream",
          "name": "stdout",
          "text": [
            "Training until validation scores don't improve for 50 rounds\n",
            "[100]\ttraining's rmse: 0.322713\tvalid_1's rmse: 0.335035\n",
            "[200]\ttraining's rmse: 0.203996\tvalid_1's rmse: 0.238413\n",
            "[300]\ttraining's rmse: 0.165752\tvalid_1's rmse: 0.218407\n",
            "[400]\ttraining's rmse: 0.144755\tvalid_1's rmse: 0.208471\n",
            "[500]\ttraining's rmse: 0.131383\tvalid_1's rmse: 0.20319\n",
            "[600]\ttraining's rmse: 0.120967\tvalid_1's rmse: 0.199779\n",
            "[700]\ttraining's rmse: 0.113327\tvalid_1's rmse: 0.196862\n",
            "[800]\ttraining's rmse: 0.106947\tvalid_1's rmse: 0.194931\n",
            "[900]\ttraining's rmse: 0.101722\tvalid_1's rmse: 0.193987\n",
            "[1000]\ttraining's rmse: 0.0973415\tvalid_1's rmse: 0.192708\n",
            "Did not meet early stopping. Best iteration is:\n",
            "[999]\ttraining's rmse: 0.0973755\tvalid_1's rmse: 0.192703\n"
          ]
        },
        {
          "output_type": "stream",
          "name": "stderr",
          "text": [
            "[I 2025-01-31 11:04:37,423] Trial 84 finished with value: 0.9632913374095387 and parameters: {'learning_rate': 0.01779025721417911, 'num_leaves': 84, 'max_depth': 20, 'feature_fraction': 0.9815251148143377, 'bagging_fraction': 0.9099546236614342, 'bagging_freq': 4, 'min_data_in_leaf': 14, 'lambda_l1': 0.2858937755604239, 'lambda_l2': 8.789778879932763}. Best is trial 74 with value: 0.9654621980263614.\n"
          ]
        },
        {
          "output_type": "stream",
          "name": "stdout",
          "text": [
            "Training until validation scores don't improve for 50 rounds\n",
            "[100]\ttraining's rmse: 0.395836\tvalid_1's rmse: 0.396473\n",
            "[200]\ttraining's rmse: 0.267895\tvalid_1's rmse: 0.278861\n",
            "[300]\ttraining's rmse: 0.216776\tvalid_1's rmse: 0.240669\n",
            "[400]\ttraining's rmse: 0.190063\tvalid_1's rmse: 0.223676\n",
            "[500]\ttraining's rmse: 0.173776\tvalid_1's rmse: 0.213808\n",
            "[600]\ttraining's rmse: 0.162495\tvalid_1's rmse: 0.207753\n",
            "[700]\ttraining's rmse: 0.154573\tvalid_1's rmse: 0.20387\n",
            "[800]\ttraining's rmse: 0.147774\tvalid_1's rmse: 0.200648\n",
            "[900]\ttraining's rmse: 0.141713\tvalid_1's rmse: 0.198164\n",
            "[1000]\ttraining's rmse: 0.136802\tvalid_1's rmse: 0.196351\n",
            "Did not meet early stopping. Best iteration is:\n",
            "[1000]\ttraining's rmse: 0.136802\tvalid_1's rmse: 0.196351\n"
          ]
        },
        {
          "output_type": "stream",
          "name": "stderr",
          "text": [
            "[I 2025-01-31 11:04:39,358] Trial 85 finished with value: 0.9618883923245881 and parameters: {'learning_rate': 0.015922838040436666, 'num_leaves': 30, 'max_depth': 19, 'feature_fraction': 0.9285157847329438, 'bagging_fraction': 0.9350503647238673, 'bagging_freq': 5, 'min_data_in_leaf': 12, 'lambda_l1': 0.24753375955298818, 'lambda_l2': 7.390508866700578}. Best is trial 74 with value: 0.9654621980263614.\n"
          ]
        },
        {
          "output_type": "stream",
          "name": "stdout",
          "text": [
            "Training until validation scores don't improve for 50 rounds\n",
            "[100]\ttraining's rmse: 0.30165\tvalid_1's rmse: 0.313982\n",
            "[200]\ttraining's rmse: 0.206897\tvalid_1's rmse: 0.238099\n",
            "[300]\ttraining's rmse: 0.172162\tvalid_1's rmse: 0.219755\n",
            "[400]\ttraining's rmse: 0.154499\tvalid_1's rmse: 0.213181\n",
            "[500]\ttraining's rmse: 0.141911\tvalid_1's rmse: 0.207847\n",
            "[600]\ttraining's rmse: 0.132884\tvalid_1's rmse: 0.20402\n",
            "[700]\ttraining's rmse: 0.125823\tvalid_1's rmse: 0.20171\n",
            "[800]\ttraining's rmse: 0.120094\tvalid_1's rmse: 0.199746\n",
            "[900]\ttraining's rmse: 0.115567\tvalid_1's rmse: 0.199194\n",
            "[1000]\ttraining's rmse: 0.111362\tvalid_1's rmse: 0.198304\n",
            "Did not meet early stopping. Best iteration is:\n",
            "[992]\ttraining's rmse: 0.111594\tvalid_1's rmse: 0.198219\n"
          ]
        },
        {
          "output_type": "stream",
          "name": "stderr",
          "text": [
            "[I 2025-01-31 11:04:43,077] Trial 86 finished with value: 0.9611596267685188 and parameters: {'learning_rate': 0.020221290083563877, 'num_leaves': 93, 'max_depth': 15, 'feature_fraction': 0.9886057709224528, 'bagging_fraction': 0.9222391151806304, 'bagging_freq': 4, 'min_data_in_leaf': 24, 'lambda_l1': 0.5830942174150824, 'lambda_l2': 8.579870742072533}. Best is trial 74 with value: 0.9654621980263614.\n"
          ]
        },
        {
          "output_type": "stream",
          "name": "stdout",
          "text": [
            "Training until validation scores don't improve for 50 rounds\n",
            "[100]\ttraining's rmse: 0.323583\tvalid_1's rmse: 0.338919\n",
            "[200]\ttraining's rmse: 0.211714\tvalid_1's rmse: 0.245388\n",
            "[300]\ttraining's rmse: 0.175756\tvalid_1's rmse: 0.223124\n",
            "[400]\ttraining's rmse: 0.158065\tvalid_1's rmse: 0.215609\n",
            "[500]\ttraining's rmse: 0.145932\tvalid_1's rmse: 0.210686\n",
            "[600]\ttraining's rmse: 0.137391\tvalid_1's rmse: 0.208067\n",
            "[700]\ttraining's rmse: 0.130549\tvalid_1's rmse: 0.204345\n",
            "[800]\ttraining's rmse: 0.12529\tvalid_1's rmse: 0.20227\n",
            "[900]\ttraining's rmse: 0.120694\tvalid_1's rmse: 0.201003\n",
            "[1000]\ttraining's rmse: 0.116908\tvalid_1's rmse: 0.199722\n",
            "Did not meet early stopping. Best iteration is:\n",
            "[1000]\ttraining's rmse: 0.116908\tvalid_1's rmse: 0.199722\n"
          ]
        },
        {
          "output_type": "stream",
          "name": "stderr",
          "text": [
            "[I 2025-01-31 11:04:48,854] Trial 87 finished with value: 0.9605687490783608 and parameters: {'learning_rate': 0.01983578752940231, 'num_leaves': 75, 'max_depth': 17, 'feature_fraction': 0.8802116659869358, 'bagging_fraction': 0.9647195112239009, 'bagging_freq': 5, 'min_data_in_leaf': 20, 'lambda_l1': 0.8760884202631452, 'lambda_l2': 8.148941081431014}. Best is trial 74 with value: 0.9654621980263614.\n"
          ]
        },
        {
          "output_type": "stream",
          "name": "stdout",
          "text": [
            "Training until validation scores don't improve for 50 rounds\n",
            "[100]\ttraining's rmse: 0.374148\tvalid_1's rmse: 0.384975\n",
            "[200]\ttraining's rmse: 0.24234\tvalid_1's rmse: 0.270896\n",
            "[300]\ttraining's rmse: 0.197781\tvalid_1's rmse: 0.240613\n",
            "[400]\ttraining's rmse: 0.175696\tvalid_1's rmse: 0.228985\n",
            "[500]\ttraining's rmse: 0.161596\tvalid_1's rmse: 0.22219\n",
            "[600]\ttraining's rmse: 0.150872\tvalid_1's rmse: 0.21614\n",
            "[700]\ttraining's rmse: 0.142436\tvalid_1's rmse: 0.213068\n",
            "[800]\ttraining's rmse: 0.135748\tvalid_1's rmse: 0.210413\n",
            "[900]\ttraining's rmse: 0.130375\tvalid_1's rmse: 0.208423\n",
            "[1000]\ttraining's rmse: 0.12541\tvalid_1's rmse: 0.207048\n",
            "Did not meet early stopping. Best iteration is:\n",
            "[998]\ttraining's rmse: 0.125501\tvalid_1's rmse: 0.207045\n"
          ]
        },
        {
          "output_type": "stream",
          "name": "stderr",
          "text": [
            "[I 2025-01-31 11:04:52,262] Trial 88 finished with value: 0.9576237793792899 and parameters: {'learning_rate': 0.01659559029230473, 'num_leaves': 84, 'max_depth': 14, 'feature_fraction': 0.9376315432849854, 'bagging_fraction': 0.7199125850012006, 'bagging_freq': 4, 'min_data_in_leaf': 15, 'lambda_l1': 0.6320955549981588, 'lambda_l2': 9.209747091869819}. Best is trial 74 with value: 0.9654621980263614.\n"
          ]
        },
        {
          "output_type": "stream",
          "name": "stdout",
          "text": [
            "Training until validation scores don't improve for 50 rounds\n",
            "[100]\ttraining's rmse: 0.351387\tvalid_1's rmse: 0.3656\n",
            "[200]\ttraining's rmse: 0.224219\tvalid_1's rmse: 0.257584\n",
            "[300]\ttraining's rmse: 0.182595\tvalid_1's rmse: 0.230784\n",
            "[400]\ttraining's rmse: 0.16246\tvalid_1's rmse: 0.220209\n",
            "[500]\ttraining's rmse: 0.149126\tvalid_1's rmse: 0.212864\n",
            "[600]\ttraining's rmse: 0.139743\tvalid_1's rmse: 0.208451\n",
            "[700]\ttraining's rmse: 0.133139\tvalid_1's rmse: 0.205429\n",
            "[800]\ttraining's rmse: 0.127908\tvalid_1's rmse: 0.202978\n",
            "[900]\ttraining's rmse: 0.123224\tvalid_1's rmse: 0.200862\n",
            "[1000]\ttraining's rmse: 0.119814\tvalid_1's rmse: 0.199588\n",
            "Did not meet early stopping. Best iteration is:\n",
            "[1000]\ttraining's rmse: 0.119814\tvalid_1's rmse: 0.199588\n"
          ]
        },
        {
          "output_type": "stream",
          "name": "stderr",
          "text": [
            "[I 2025-01-31 11:04:55,281] Trial 89 finished with value: 0.9606216161910396 and parameters: {'learning_rate': 0.01822347815602365, 'num_leaves': 67, 'max_depth': 16, 'feature_fraction': 0.899340972315533, 'bagging_fraction': 0.9060253412290105, 'bagging_freq': 5, 'min_data_in_leaf': 10, 'lambda_l1': 1.17738031045743, 'lambda_l2': 7.4379733872709135}. Best is trial 74 with value: 0.9654621980263614.\n"
          ]
        },
        {
          "output_type": "stream",
          "name": "stdout",
          "text": [
            "Training until validation scores don't improve for 50 rounds\n",
            "[100]\ttraining's rmse: 0.392453\tvalid_1's rmse: 0.401694\n",
            "[200]\ttraining's rmse: 0.2334\tvalid_1's rmse: 0.261214\n",
            "[300]\ttraining's rmse: 0.182287\tvalid_1's rmse: 0.226108\n",
            "[400]\ttraining's rmse: 0.156474\tvalid_1's rmse: 0.21392\n",
            "[500]\ttraining's rmse: 0.141095\tvalid_1's rmse: 0.208118\n",
            "[600]\ttraining's rmse: 0.129631\tvalid_1's rmse: 0.203344\n",
            "[700]\ttraining's rmse: 0.121502\tvalid_1's rmse: 0.200715\n",
            "[800]\ttraining's rmse: 0.114381\tvalid_1's rmse: 0.197713\n",
            "[900]\ttraining's rmse: 0.108489\tvalid_1's rmse: 0.195936\n",
            "[1000]\ttraining's rmse: 0.103585\tvalid_1's rmse: 0.194471\n",
            "Did not meet early stopping. Best iteration is:\n",
            "[1000]\ttraining's rmse: 0.103585\tvalid_1's rmse: 0.194471\n"
          ]
        },
        {
          "output_type": "stream",
          "name": "stderr",
          "text": [
            "[I 2025-01-31 11:05:01,581] Trial 90 finished with value: 0.9626148550210786 and parameters: {'learning_rate': 0.013554941256588484, 'num_leaves': 92, 'max_depth': 15, 'feature_fraction': 0.9556682853452191, 'bagging_fraction': 0.9410179052417658, 'bagging_freq': 6, 'min_data_in_leaf': 13, 'lambda_l1': 0.28134417133142203, 'lambda_l2': 7.094529609585811}. Best is trial 74 with value: 0.9654621980263614.\n"
          ]
        },
        {
          "output_type": "stream",
          "name": "stdout",
          "text": [
            "Training until validation scores don't improve for 50 rounds\n",
            "[100]\ttraining's rmse: 0.372321\tvalid_1's rmse: 0.380328\n",
            "[200]\ttraining's rmse: 0.231694\tvalid_1's rmse: 0.256713\n",
            "[300]\ttraining's rmse: 0.186265\tvalid_1's rmse: 0.22687\n",
            "[400]\ttraining's rmse: 0.163514\tvalid_1's rmse: 0.215278\n",
            "[500]\ttraining's rmse: 0.149041\tvalid_1's rmse: 0.208905\n",
            "[600]\ttraining's rmse: 0.138026\tvalid_1's rmse: 0.204182\n",
            "[700]\ttraining's rmse: 0.129687\tvalid_1's rmse: 0.200951\n",
            "[800]\ttraining's rmse: 0.122484\tvalid_1's rmse: 0.197736\n",
            "[900]\ttraining's rmse: 0.116529\tvalid_1's rmse: 0.19556\n",
            "[1000]\ttraining's rmse: 0.111669\tvalid_1's rmse: 0.193886\n",
            "Did not meet early stopping. Best iteration is:\n",
            "[1000]\ttraining's rmse: 0.111669\tvalid_1's rmse: 0.193886\n"
          ]
        },
        {
          "output_type": "stream",
          "name": "stderr",
          "text": [
            "[I 2025-01-31 11:05:05,145] Trial 91 finished with value: 0.9628392957863012 and parameters: {'learning_rate': 0.014522360791834488, 'num_leaves': 73, 'max_depth': 16, 'feature_fraction': 0.9673996170621116, 'bagging_fraction': 0.8926680303833606, 'bagging_freq': 5, 'min_data_in_leaf': 17, 'lambda_l1': 0.22330391960757023, 'lambda_l2': 8.274656906472217}. Best is trial 74 with value: 0.9654621980263614.\n"
          ]
        },
        {
          "output_type": "stream",
          "name": "stdout",
          "text": [
            "Training until validation scores don't improve for 50 rounds\n",
            "[100]\ttraining's rmse: 0.367759\tvalid_1's rmse: 0.377388\n",
            "[200]\ttraining's rmse: 0.224842\tvalid_1's rmse: 0.251221\n",
            "[300]\ttraining's rmse: 0.182841\tvalid_1's rmse: 0.223566\n",
            "[400]\ttraining's rmse: 0.16213\tvalid_1's rmse: 0.214495\n",
            "[500]\ttraining's rmse: 0.148265\tvalid_1's rmse: 0.209367\n",
            "[600]\ttraining's rmse: 0.137416\tvalid_1's rmse: 0.204788\n",
            "[700]\ttraining's rmse: 0.128579\tvalid_1's rmse: 0.20116\n",
            "[800]\ttraining's rmse: 0.121698\tvalid_1's rmse: 0.198867\n",
            "[900]\ttraining's rmse: 0.115621\tvalid_1's rmse: 0.197135\n",
            "[1000]\ttraining's rmse: 0.110636\tvalid_1's rmse: 0.195769\n",
            "Did not meet early stopping. Best iteration is:\n",
            "[995]\ttraining's rmse: 0.110869\tvalid_1's rmse: 0.195725\n"
          ]
        },
        {
          "output_type": "stream",
          "name": "stderr",
          "text": [
            "[I 2025-01-31 11:05:08,591] Trial 92 finished with value: 0.9621308788926488 and parameters: {'learning_rate': 0.015546291699612953, 'num_leaves': 78, 'max_depth': 16, 'feature_fraction': 0.921476438352324, 'bagging_fraction': 0.8143921069041229, 'bagging_freq': 5, 'min_data_in_leaf': 19, 'lambda_l1': 0.007411516362580605, 'lambda_l2': 8.343370187493134}. Best is trial 74 with value: 0.9654621980263614.\n"
          ]
        },
        {
          "output_type": "stream",
          "name": "stdout",
          "text": [
            "Training until validation scores don't improve for 50 rounds\n",
            "[100]\ttraining's rmse: 0.391363\tvalid_1's rmse: 0.399427\n",
            "[200]\ttraining's rmse: 0.245856\tvalid_1's rmse: 0.270563\n",
            "[300]\ttraining's rmse: 0.196748\tvalid_1's rmse: 0.235879\n",
            "[400]\ttraining's rmse: 0.17257\tvalid_1's rmse: 0.223113\n",
            "[500]\ttraining's rmse: 0.157014\tvalid_1's rmse: 0.215563\n",
            "[600]\ttraining's rmse: 0.146157\tvalid_1's rmse: 0.211087\n",
            "[700]\ttraining's rmse: 0.137699\tvalid_1's rmse: 0.20676\n",
            "[800]\ttraining's rmse: 0.130858\tvalid_1's rmse: 0.203906\n",
            "[900]\ttraining's rmse: 0.125373\tvalid_1's rmse: 0.201598\n",
            "[1000]\ttraining's rmse: 0.12089\tvalid_1's rmse: 0.199426\n",
            "Did not meet early stopping. Best iteration is:\n",
            "[995]\ttraining's rmse: 0.121076\tvalid_1's rmse: 0.199407\n"
          ]
        },
        {
          "output_type": "stream",
          "name": "stderr",
          "text": [
            "[I 2025-01-31 11:05:11,715] Trial 93 finished with value: 0.9606928242654852 and parameters: {'learning_rate': 0.014373522137466064, 'num_leaves': 63, 'max_depth': 17, 'feature_fraction': 0.951952279950657, 'bagging_fraction': 0.9165984563613344, 'bagging_freq': 5, 'min_data_in_leaf': 15, 'lambda_l1': 0.6328237581737632, 'lambda_l2': 7.976576899809457}. Best is trial 74 with value: 0.9654621980263614.\n"
          ]
        },
        {
          "output_type": "stream",
          "name": "stdout",
          "text": [
            "Training until validation scores don't improve for 50 rounds\n",
            "[100]\ttraining's rmse: 0.509556\tvalid_1's rmse: 0.513421\n",
            "[200]\ttraining's rmse: 0.371253\tvalid_1's rmse: 0.38282\n",
            "[300]\ttraining's rmse: 0.313908\tvalid_1's rmse: 0.33206\n",
            "[400]\ttraining's rmse: 0.278512\tvalid_1's rmse: 0.301355\n",
            "[500]\ttraining's rmse: 0.257214\tvalid_1's rmse: 0.283878\n",
            "[600]\ttraining's rmse: 0.243153\tvalid_1's rmse: 0.27281\n",
            "[700]\ttraining's rmse: 0.235434\tvalid_1's rmse: 0.267236\n",
            "[800]\ttraining's rmse: 0.230194\tvalid_1's rmse: 0.263411\n",
            "[900]\ttraining's rmse: 0.226474\tvalid_1's rmse: 0.260755\n",
            "[1000]\ttraining's rmse: 0.224156\tvalid_1's rmse: 0.25917\n",
            "Did not meet early stopping. Best iteration is:\n",
            "[1000]\ttraining's rmse: 0.224156\tvalid_1's rmse: 0.25917\n"
          ]
        },
        {
          "output_type": "stream",
          "name": "stderr",
          "text": [
            "[I 2025-01-31 11:05:16,319] Trial 94 finished with value: 0.933601158560078 and parameters: {'learning_rate': 0.012774330579158222, 'num_leaves': 85, 'max_depth': 18, 'feature_fraction': 0.96157062573804, 'bagging_fraction': 0.9307062354562662, 'bagging_freq': 4, 'min_data_in_leaf': 23, 'lambda_l1': 7.228748672254431, 'lambda_l2': 8.614454038081053}. Best is trial 74 with value: 0.9654621980263614.\n"
          ]
        },
        {
          "output_type": "stream",
          "name": "stdout",
          "text": [
            "Training until validation scores don't improve for 50 rounds\n",
            "[100]\ttraining's rmse: 0.360566\tvalid_1's rmse: 0.371836\n",
            "[200]\ttraining's rmse: 0.227134\tvalid_1's rmse: 0.257685\n",
            "[300]\ttraining's rmse: 0.184626\tvalid_1's rmse: 0.230128\n",
            "[400]\ttraining's rmse: 0.16213\tvalid_1's rmse: 0.218204\n",
            "[500]\ttraining's rmse: 0.147623\tvalid_1's rmse: 0.212519\n",
            "[600]\ttraining's rmse: 0.137071\tvalid_1's rmse: 0.208024\n",
            "[700]\ttraining's rmse: 0.12881\tvalid_1's rmse: 0.204671\n",
            "[800]\ttraining's rmse: 0.12186\tvalid_1's rmse: 0.2023\n",
            "[900]\ttraining's rmse: 0.115661\tvalid_1's rmse: 0.201199\n",
            "[1000]\ttraining's rmse: 0.110505\tvalid_1's rmse: 0.199866\n",
            "Did not meet early stopping. Best iteration is:\n",
            "[1000]\ttraining's rmse: 0.110505\tvalid_1's rmse: 0.199866\n"
          ]
        },
        {
          "output_type": "stream",
          "name": "stderr",
          "text": [
            "[I 2025-01-31 11:05:19,715] Trial 95 finished with value: 0.9605115273874536 and parameters: {'learning_rate': 0.01603903024154861, 'num_leaves': 75, 'max_depth': 15, 'feature_fraction': 0.9911702349935233, 'bagging_fraction': 0.7485505060385345, 'bagging_freq': 5, 'min_data_in_leaf': 12, 'lambda_l1': 0.2568758452682264, 'lambda_l2': 8.930011419652265}. Best is trial 74 with value: 0.9654621980263614.\n"
          ]
        },
        {
          "output_type": "stream",
          "name": "stdout",
          "text": [
            "Training until validation scores don't improve for 50 rounds\n",
            "[100]\ttraining's rmse: 0.325246\tvalid_1's rmse: 0.337579\n",
            "[200]\ttraining's rmse: 0.211877\tvalid_1's rmse: 0.244223\n",
            "[300]\ttraining's rmse: 0.175923\tvalid_1's rmse: 0.221145\n",
            "[400]\ttraining's rmse: 0.157939\tvalid_1's rmse: 0.213611\n",
            "[500]\ttraining's rmse: 0.145535\tvalid_1's rmse: 0.208341\n",
            "[600]\ttraining's rmse: 0.13718\tvalid_1's rmse: 0.205093\n",
            "[700]\ttraining's rmse: 0.130739\tvalid_1's rmse: 0.202542\n",
            "[800]\ttraining's rmse: 0.125783\tvalid_1's rmse: 0.200853\n",
            "[900]\ttraining's rmse: 0.121708\tvalid_1's rmse: 0.199263\n",
            "[1000]\ttraining's rmse: 0.118165\tvalid_1's rmse: 0.1985\n",
            "Did not meet early stopping. Best iteration is:\n",
            "[1000]\ttraining's rmse: 0.118165\tvalid_1's rmse: 0.1985\n"
          ]
        },
        {
          "output_type": "stream",
          "name": "stderr",
          "text": [
            "[I 2025-01-31 11:05:22,930] Trial 96 finished with value: 0.9610494078023584 and parameters: {'learning_rate': 0.018722633050322058, 'num_leaves': 71, 'max_depth': 19, 'feature_fraction': 0.9360846724008421, 'bagging_fraction': 0.988037759073722, 'bagging_freq': 6, 'min_data_in_leaf': 18, 'lambda_l1': 1.0043128235192191, 'lambda_l2': 7.727013344996361}. Best is trial 74 with value: 0.9654621980263614.\n"
          ]
        },
        {
          "output_type": "stream",
          "name": "stdout",
          "text": [
            "Training until validation scores don't improve for 50 rounds\n",
            "[100]\ttraining's rmse: 0.858503\tvalid_1's rmse: 0.854223\n",
            "[200]\ttraining's rmse: 0.808578\tvalid_1's rmse: 0.802976\n",
            "[300]\ttraining's rmse: 0.776577\tvalid_1's rmse: 0.770464\n",
            "[400]\ttraining's rmse: 0.751735\tvalid_1's rmse: 0.745614\n",
            "[500]\ttraining's rmse: 0.733863\tvalid_1's rmse: 0.726754\n",
            "[600]\ttraining's rmse: 0.7184\tvalid_1's rmse: 0.712067\n",
            "[700]\ttraining's rmse: 0.705008\tvalid_1's rmse: 0.698939\n",
            "[800]\ttraining's rmse: 0.688183\tvalid_1's rmse: 0.683784\n"
          ]
        },
        {
          "output_type": "stream",
          "name": "stderr",
          "text": [
            "[I 2025-01-31 11:05:23,638] Trial 97 finished with value: 0.5718699361394403 and parameters: {'learning_rate': 0.017394888520323934, 'num_leaves': 79, 'max_depth': 2, 'feature_fraction': 0.9795448115152565, 'bagging_fraction': 0.9451747247563911, 'bagging_freq': 5, 'min_data_in_leaf': 16, 'lambda_l1': 0.4961130439780502, 'lambda_l2': 9.593644637842555}. Best is trial 74 with value: 0.9654621980263614.\n"
          ]
        },
        {
          "output_type": "stream",
          "name": "stdout",
          "text": [
            "[900]\ttraining's rmse: 0.673216\tvalid_1's rmse: 0.670334\n",
            "[1000]\ttraining's rmse: 0.659896\tvalid_1's rmse: 0.658101\n",
            "Did not meet early stopping. Best iteration is:\n",
            "[1000]\ttraining's rmse: 0.659896\tvalid_1's rmse: 0.658101\n",
            "Training until validation scores don't improve for 50 rounds\n",
            "[100]\ttraining's rmse: 0.52382\tvalid_1's rmse: 0.533544\n",
            "[200]\ttraining's rmse: 0.387784\tvalid_1's rmse: 0.405064\n",
            "[300]\ttraining's rmse: 0.319751\tvalid_1's rmse: 0.34453\n",
            "[400]\ttraining's rmse: 0.286591\tvalid_1's rmse: 0.315501\n",
            "[500]\ttraining's rmse: 0.267747\tvalid_1's rmse: 0.299936\n",
            "[600]\ttraining's rmse: 0.256778\tvalid_1's rmse: 0.290944\n",
            "[700]\ttraining's rmse: 0.249989\tvalid_1's rmse: 0.285824\n",
            "[800]\ttraining's rmse: 0.246267\tvalid_1's rmse: 0.282911\n",
            "[900]\ttraining's rmse: 0.243866\tvalid_1's rmse: 0.281325\n",
            "[1000]\ttraining's rmse: 0.242554\tvalid_1's rmse: 0.280365\n",
            "Did not meet early stopping. Best iteration is:\n",
            "[994]\ttraining's rmse: 0.242608\tvalid_1's rmse: 0.280347\n"
          ]
        },
        {
          "output_type": "stream",
          "name": "stderr",
          "text": [
            "[I 2025-01-31 11:05:26,805] Trial 98 finished with value: 0.9223055377541315 and parameters: {'learning_rate': 0.01406913143595875, 'num_leaves': 66, 'max_depth': 14, 'feature_fraction': 0.9227758798623903, 'bagging_fraction': 0.8874211338299635, 'bagging_freq': 4, 'min_data_in_leaf': 10, 'lambda_l1': 9.179697060568131, 'lambda_l2': 6.493736726365084}. Best is trial 74 with value: 0.9654621980263614.\n"
          ]
        },
        {
          "output_type": "stream",
          "name": "stdout",
          "text": [
            "Training until validation scores don't improve for 50 rounds\n",
            "[100]\ttraining's rmse: 0.299876\tvalid_1's rmse: 0.316407\n",
            "[200]\ttraining's rmse: 0.18978\tvalid_1's rmse: 0.229432\n",
            "[300]\ttraining's rmse: 0.155151\tvalid_1's rmse: 0.212184\n",
            "[400]\ttraining's rmse: 0.136103\tvalid_1's rmse: 0.205915\n",
            "[500]\ttraining's rmse: 0.12313\tvalid_1's rmse: 0.200242\n",
            "[600]\ttraining's rmse: 0.113515\tvalid_1's rmse: 0.197175\n",
            "[700]\ttraining's rmse: 0.105963\tvalid_1's rmse: 0.195177\n",
            "[800]\ttraining's rmse: 0.0998763\tvalid_1's rmse: 0.193171\n",
            "[900]\ttraining's rmse: 0.094853\tvalid_1's rmse: 0.192321\n",
            "[1000]\ttraining's rmse: 0.0905261\tvalid_1's rmse: 0.191467\n",
            "Did not meet early stopping. Best iteration is:\n",
            "[984]\ttraining's rmse: 0.0910681\tvalid_1's rmse: 0.191383\n"
          ]
        },
        {
          "output_type": "stream",
          "name": "stderr",
          "text": [
            "[I 2025-01-31 11:05:31,436] Trial 99 finished with value: 0.9637926857490675 and parameters: {'learning_rate': 0.019555646448923557, 'num_leaves': 83, 'max_depth': 17, 'feature_fraction': 0.9483887818650532, 'bagging_fraction': 0.9561174554154281, 'bagging_freq': 6, 'min_data_in_leaf': 13, 'lambda_l1': 0.2415900743114014, 'lambda_l2': 8.466280115110148}. Best is trial 74 with value: 0.9654621980263614.\n"
          ]
        },
        {
          "output_type": "stream",
          "name": "stdout",
          "text": [
            "Best parameters found by Optuna: {'learning_rate': 0.017642721192508683, 'num_leaves': 74, 'max_depth': 15, 'feature_fraction': 0.9829255444351148, 'bagging_fraction': 0.9277083460449651, 'bagging_freq': 5, 'min_data_in_leaf': 14, 'lambda_l1': 0.01254863852155864, 'lambda_l2': 8.150528543544082}\n",
            "Training until validation scores don't improve for 50 rounds\n",
            "[100]\tvalid_0's rmse: 0.32632\n",
            "[200]\tvalid_0's rmse: 0.22945\n",
            "[300]\tvalid_0's rmse: 0.20951\n",
            "[400]\tvalid_0's rmse: 0.202125\n",
            "[500]\tvalid_0's rmse: 0.196558\n",
            "[600]\tvalid_0's rmse: 0.193162\n",
            "[700]\tvalid_0's rmse: 0.190351\n",
            "[800]\tvalid_0's rmse: 0.188874\n",
            "[900]\tvalid_0's rmse: 0.188045\n",
            "[1000]\tvalid_0's rmse: 0.18693\n",
            "Did not meet early stopping. Best iteration is:\n",
            "[995]\tvalid_0's rmse: 0.186918\n",
            "Final Test R2 Score: 0.9654621980263614\n",
            "Mean Squared Error (MSE): 0.03493846637751377\n",
            "Root Mean Squared Error (RMSE): 0.18691834146897884\n",
            "Mean Absolute Error (MAE): 0.10724851939126356\n"
          ]
        }
      ]
    }
  ]
}