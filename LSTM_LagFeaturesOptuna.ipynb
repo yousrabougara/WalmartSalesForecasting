{
  "cells": [
    {
      "cell_type": "markdown",
      "metadata": {
        "id": "view-in-github",
        "colab_type": "text"
      },
      "source": [
        "<a href=\"https://colab.research.google.com/github/yousrabougara/WalmartSalesForecasting/blob/main/LSTM_LagFeaturesOptuna.ipynb\" target=\"_parent\"><img src=\"https://colab.research.google.com/assets/colab-badge.svg\" alt=\"Open In Colab\"/></a>"
      ]
    },
    {
      "cell_type": "code",
      "execution_count": null,
      "metadata": {
        "colab": {
          "base_uri": "https://localhost:8080/"
        },
        "id": "mUkZJWeT7SVR",
        "outputId": "6ac4d2bc-d618-4852-9dd7-c9e6a6d93044"
      },
      "outputs": [
        {
          "output_type": "stream",
          "name": "stdout",
          "text": [
            "Collecting category_encoders\n",
            "  Downloading category_encoders-2.8.0-py3-none-any.whl.metadata (7.9 kB)\n",
            "Requirement already satisfied: numpy>=1.14.0 in /usr/local/lib/python3.11/dist-packages (from category_encoders) (1.26.4)\n",
            "Requirement already satisfied: pandas>=1.0.5 in /usr/local/lib/python3.11/dist-packages (from category_encoders) (2.2.2)\n",
            "Requirement already satisfied: patsy>=0.5.1 in /usr/local/lib/python3.11/dist-packages (from category_encoders) (1.0.1)\n",
            "Requirement already satisfied: scikit-learn>=1.6.0 in /usr/local/lib/python3.11/dist-packages (from category_encoders) (1.6.1)\n",
            "Requirement already satisfied: scipy>=1.0.0 in /usr/local/lib/python3.11/dist-packages (from category_encoders) (1.13.1)\n",
            "Requirement already satisfied: statsmodels>=0.9.0 in /usr/local/lib/python3.11/dist-packages (from category_encoders) (0.14.4)\n",
            "Requirement already satisfied: python-dateutil>=2.8.2 in /usr/local/lib/python3.11/dist-packages (from pandas>=1.0.5->category_encoders) (2.8.2)\n",
            "Requirement already satisfied: pytz>=2020.1 in /usr/local/lib/python3.11/dist-packages (from pandas>=1.0.5->category_encoders) (2025.1)\n",
            "Requirement already satisfied: tzdata>=2022.7 in /usr/local/lib/python3.11/dist-packages (from pandas>=1.0.5->category_encoders) (2025.1)\n",
            "Requirement already satisfied: joblib>=1.2.0 in /usr/local/lib/python3.11/dist-packages (from scikit-learn>=1.6.0->category_encoders) (1.4.2)\n",
            "Requirement already satisfied: threadpoolctl>=3.1.0 in /usr/local/lib/python3.11/dist-packages (from scikit-learn>=1.6.0->category_encoders) (3.5.0)\n",
            "Requirement already satisfied: packaging>=21.3 in /usr/local/lib/python3.11/dist-packages (from statsmodels>=0.9.0->category_encoders) (24.2)\n",
            "Requirement already satisfied: six>=1.5 in /usr/local/lib/python3.11/dist-packages (from python-dateutil>=2.8.2->pandas>=1.0.5->category_encoders) (1.17.0)\n",
            "Downloading category_encoders-2.8.0-py3-none-any.whl (85 kB)\n",
            "\u001b[2K   \u001b[90m━━━━━━━━━━━━━━━━━━━━━━━━━━━━━━━━━━━━━━━━\u001b[0m \u001b[32m85.7/85.7 kB\u001b[0m \u001b[31m1.9 MB/s\u001b[0m eta \u001b[36m0:00:00\u001b[0m\n",
            "\u001b[?25hInstalling collected packages: category_encoders\n",
            "Successfully installed category_encoders-2.8.0\n"
          ]
        }
      ],
      "source": [
        "!pip install category_encoders"
      ]
    },
    {
      "cell_type": "code",
      "execution_count": null,
      "metadata": {
        "id": "e5gHCICC7Qb4"
      },
      "outputs": [],
      "source": [
        "import numpy as np\n",
        "import pandas as pd\n",
        "import matplotlib.pyplot as plt\n",
        "import plotly.express as px\n",
        "import seaborn as sns\n",
        "sns.set()\n",
        "\n",
        "from sklearn.model_selection import train_test_split , GridSearchCV\n",
        "from sklearn.preprocessing import StandardScaler ,PolynomialFeatures\n",
        "from sklearn.pipeline import make_pipeline\n",
        "from sklearn.linear_model import LinearRegression , Ridge\n",
        "from sklearn.neighbors import KNeighborsRegressor\n",
        "from sklearn.ensemble import RandomForestRegressor\n",
        "from sklearn.tree import DecisionTreeRegressor, plot_tree\n",
        "from xgboost import XGBRegressor\n",
        "from category_encoders import BinaryEncoder\n",
        "import pickle\n",
        "# Ignore warnings\n",
        "import warnings\n",
        "warnings.filterwarnings('ignore')"
      ]
    },
    {
      "cell_type": "code",
      "execution_count": null,
      "metadata": {
        "id": "ouSBaRns7SYa"
      },
      "outputs": [],
      "source": [
        "df=pd.read_csv('clean_Walmart.csv')"
      ]
    },
    {
      "cell_type": "code",
      "source": [
        "df.head()"
      ],
      "metadata": {
        "id": "IeEt2SnShkD6",
        "outputId": "f19396cc-0f5b-472c-e7bc-01b68f6116f5",
        "colab": {
          "base_uri": "https://localhost:8080/",
          "height": 236
        }
      },
      "execution_count": null,
      "outputs": [
        {
          "output_type": "execute_result",
          "data": {
            "text/plain": [
              "   Store_0  Store_1  Store_2  Store_3  Store_4  Store_5        Date  \\\n",
              "0        0        0        0        0        0        1  2010-02-05   \n",
              "1        0        0        0        0        0        1  2010-02-12   \n",
              "2        0        0        0        0        0        1  2010-02-19   \n",
              "3        0        0        0        0        0        1  2010-02-26   \n",
              "4        0        0        0        0        0        1  2010-03-05   \n",
              "\n",
              "   Weekly_Sales  Holiday_Flag  Temperature  ...  Unemployment  Month  Year  \\\n",
              "0      1.057420             0    -0.995136  ...      0.056964      2  2010   \n",
              "1      1.054348             1    -1.201170  ...      0.056964      2  2010   \n",
              "2      1.001206             0    -1.124178  ...      0.056964      2  2010   \n",
              "3      0.642828             0    -0.760907  ...      0.056964      2  2010   \n",
              "4      0.899914             0    -0.767955  ...      0.056964      3  2010   \n",
              "\n",
              "   Season_0  Season_1  Season_2     Lag_1     Lag_2     Lag_3     Lag_4  \n",
              "0         0         0         1 -1.826402 -1.798349 -1.771203 -1.744944  \n",
              "1         0         0         1  1.060488 -1.798349 -1.771203 -1.744944  \n",
              "2         0         0         1  1.057444  1.063497 -1.771203 -1.744944  \n",
              "3         0         0         1  1.004772  1.060478  1.067142 -1.744944  \n",
              "4         0         1         0  0.649568  1.008264  1.064149  1.071619  \n",
              "\n",
              "[5 rows x 22 columns]"
            ],
            "text/html": [
              "\n",
              "  <div id=\"df-56efe514-17f1-4a84-8452-874a4cc77e54\" class=\"colab-df-container\">\n",
              "    <div>\n",
              "<style scoped>\n",
              "    .dataframe tbody tr th:only-of-type {\n",
              "        vertical-align: middle;\n",
              "    }\n",
              "\n",
              "    .dataframe tbody tr th {\n",
              "        vertical-align: top;\n",
              "    }\n",
              "\n",
              "    .dataframe thead th {\n",
              "        text-align: right;\n",
              "    }\n",
              "</style>\n",
              "<table border=\"1\" class=\"dataframe\">\n",
              "  <thead>\n",
              "    <tr style=\"text-align: right;\">\n",
              "      <th></th>\n",
              "      <th>Store_0</th>\n",
              "      <th>Store_1</th>\n",
              "      <th>Store_2</th>\n",
              "      <th>Store_3</th>\n",
              "      <th>Store_4</th>\n",
              "      <th>Store_5</th>\n",
              "      <th>Date</th>\n",
              "      <th>Weekly_Sales</th>\n",
              "      <th>Holiday_Flag</th>\n",
              "      <th>Temperature</th>\n",
              "      <th>...</th>\n",
              "      <th>Unemployment</th>\n",
              "      <th>Month</th>\n",
              "      <th>Year</th>\n",
              "      <th>Season_0</th>\n",
              "      <th>Season_1</th>\n",
              "      <th>Season_2</th>\n",
              "      <th>Lag_1</th>\n",
              "      <th>Lag_2</th>\n",
              "      <th>Lag_3</th>\n",
              "      <th>Lag_4</th>\n",
              "    </tr>\n",
              "  </thead>\n",
              "  <tbody>\n",
              "    <tr>\n",
              "      <th>0</th>\n",
              "      <td>0</td>\n",
              "      <td>0</td>\n",
              "      <td>0</td>\n",
              "      <td>0</td>\n",
              "      <td>0</td>\n",
              "      <td>1</td>\n",
              "      <td>2010-02-05</td>\n",
              "      <td>1.057420</td>\n",
              "      <td>0</td>\n",
              "      <td>-0.995136</td>\n",
              "      <td>...</td>\n",
              "      <td>0.056964</td>\n",
              "      <td>2</td>\n",
              "      <td>2010</td>\n",
              "      <td>0</td>\n",
              "      <td>0</td>\n",
              "      <td>1</td>\n",
              "      <td>-1.826402</td>\n",
              "      <td>-1.798349</td>\n",
              "      <td>-1.771203</td>\n",
              "      <td>-1.744944</td>\n",
              "    </tr>\n",
              "    <tr>\n",
              "      <th>1</th>\n",
              "      <td>0</td>\n",
              "      <td>0</td>\n",
              "      <td>0</td>\n",
              "      <td>0</td>\n",
              "      <td>0</td>\n",
              "      <td>1</td>\n",
              "      <td>2010-02-12</td>\n",
              "      <td>1.054348</td>\n",
              "      <td>1</td>\n",
              "      <td>-1.201170</td>\n",
              "      <td>...</td>\n",
              "      <td>0.056964</td>\n",
              "      <td>2</td>\n",
              "      <td>2010</td>\n",
              "      <td>0</td>\n",
              "      <td>0</td>\n",
              "      <td>1</td>\n",
              "      <td>1.060488</td>\n",
              "      <td>-1.798349</td>\n",
              "      <td>-1.771203</td>\n",
              "      <td>-1.744944</td>\n",
              "    </tr>\n",
              "    <tr>\n",
              "      <th>2</th>\n",
              "      <td>0</td>\n",
              "      <td>0</td>\n",
              "      <td>0</td>\n",
              "      <td>0</td>\n",
              "      <td>0</td>\n",
              "      <td>1</td>\n",
              "      <td>2010-02-19</td>\n",
              "      <td>1.001206</td>\n",
              "      <td>0</td>\n",
              "      <td>-1.124178</td>\n",
              "      <td>...</td>\n",
              "      <td>0.056964</td>\n",
              "      <td>2</td>\n",
              "      <td>2010</td>\n",
              "      <td>0</td>\n",
              "      <td>0</td>\n",
              "      <td>1</td>\n",
              "      <td>1.057444</td>\n",
              "      <td>1.063497</td>\n",
              "      <td>-1.771203</td>\n",
              "      <td>-1.744944</td>\n",
              "    </tr>\n",
              "    <tr>\n",
              "      <th>3</th>\n",
              "      <td>0</td>\n",
              "      <td>0</td>\n",
              "      <td>0</td>\n",
              "      <td>0</td>\n",
              "      <td>0</td>\n",
              "      <td>1</td>\n",
              "      <td>2010-02-26</td>\n",
              "      <td>0.642828</td>\n",
              "      <td>0</td>\n",
              "      <td>-0.760907</td>\n",
              "      <td>...</td>\n",
              "      <td>0.056964</td>\n",
              "      <td>2</td>\n",
              "      <td>2010</td>\n",
              "      <td>0</td>\n",
              "      <td>0</td>\n",
              "      <td>1</td>\n",
              "      <td>1.004772</td>\n",
              "      <td>1.060478</td>\n",
              "      <td>1.067142</td>\n",
              "      <td>-1.744944</td>\n",
              "    </tr>\n",
              "    <tr>\n",
              "      <th>4</th>\n",
              "      <td>0</td>\n",
              "      <td>0</td>\n",
              "      <td>0</td>\n",
              "      <td>0</td>\n",
              "      <td>0</td>\n",
              "      <td>1</td>\n",
              "      <td>2010-03-05</td>\n",
              "      <td>0.899914</td>\n",
              "      <td>0</td>\n",
              "      <td>-0.767955</td>\n",
              "      <td>...</td>\n",
              "      <td>0.056964</td>\n",
              "      <td>3</td>\n",
              "      <td>2010</td>\n",
              "      <td>0</td>\n",
              "      <td>1</td>\n",
              "      <td>0</td>\n",
              "      <td>0.649568</td>\n",
              "      <td>1.008264</td>\n",
              "      <td>1.064149</td>\n",
              "      <td>1.071619</td>\n",
              "    </tr>\n",
              "  </tbody>\n",
              "</table>\n",
              "<p>5 rows × 22 columns</p>\n",
              "</div>\n",
              "    <div class=\"colab-df-buttons\">\n",
              "\n",
              "  <div class=\"colab-df-container\">\n",
              "    <button class=\"colab-df-convert\" onclick=\"convertToInteractive('df-56efe514-17f1-4a84-8452-874a4cc77e54')\"\n",
              "            title=\"Convert this dataframe to an interactive table.\"\n",
              "            style=\"display:none;\">\n",
              "\n",
              "  <svg xmlns=\"http://www.w3.org/2000/svg\" height=\"24px\" viewBox=\"0 -960 960 960\">\n",
              "    <path d=\"M120-120v-720h720v720H120Zm60-500h600v-160H180v160Zm220 220h160v-160H400v160Zm0 220h160v-160H400v160ZM180-400h160v-160H180v160Zm440 0h160v-160H620v160ZM180-180h160v-160H180v160Zm440 0h160v-160H620v160Z\"/>\n",
              "  </svg>\n",
              "    </button>\n",
              "\n",
              "  <style>\n",
              "    .colab-df-container {\n",
              "      display:flex;\n",
              "      gap: 12px;\n",
              "    }\n",
              "\n",
              "    .colab-df-convert {\n",
              "      background-color: #E8F0FE;\n",
              "      border: none;\n",
              "      border-radius: 50%;\n",
              "      cursor: pointer;\n",
              "      display: none;\n",
              "      fill: #1967D2;\n",
              "      height: 32px;\n",
              "      padding: 0 0 0 0;\n",
              "      width: 32px;\n",
              "    }\n",
              "\n",
              "    .colab-df-convert:hover {\n",
              "      background-color: #E2EBFA;\n",
              "      box-shadow: 0px 1px 2px rgba(60, 64, 67, 0.3), 0px 1px 3px 1px rgba(60, 64, 67, 0.15);\n",
              "      fill: #174EA6;\n",
              "    }\n",
              "\n",
              "    .colab-df-buttons div {\n",
              "      margin-bottom: 4px;\n",
              "    }\n",
              "\n",
              "    [theme=dark] .colab-df-convert {\n",
              "      background-color: #3B4455;\n",
              "      fill: #D2E3FC;\n",
              "    }\n",
              "\n",
              "    [theme=dark] .colab-df-convert:hover {\n",
              "      background-color: #434B5C;\n",
              "      box-shadow: 0px 1px 3px 1px rgba(0, 0, 0, 0.15);\n",
              "      filter: drop-shadow(0px 1px 2px rgba(0, 0, 0, 0.3));\n",
              "      fill: #FFFFFF;\n",
              "    }\n",
              "  </style>\n",
              "\n",
              "    <script>\n",
              "      const buttonEl =\n",
              "        document.querySelector('#df-56efe514-17f1-4a84-8452-874a4cc77e54 button.colab-df-convert');\n",
              "      buttonEl.style.display =\n",
              "        google.colab.kernel.accessAllowed ? 'block' : 'none';\n",
              "\n",
              "      async function convertToInteractive(key) {\n",
              "        const element = document.querySelector('#df-56efe514-17f1-4a84-8452-874a4cc77e54');\n",
              "        const dataTable =\n",
              "          await google.colab.kernel.invokeFunction('convertToInteractive',\n",
              "                                                    [key], {});\n",
              "        if (!dataTable) return;\n",
              "\n",
              "        const docLinkHtml = 'Like what you see? Visit the ' +\n",
              "          '<a target=\"_blank\" href=https://colab.research.google.com/notebooks/data_table.ipynb>data table notebook</a>'\n",
              "          + ' to learn more about interactive tables.';\n",
              "        element.innerHTML = '';\n",
              "        dataTable['output_type'] = 'display_data';\n",
              "        await google.colab.output.renderOutput(dataTable, element);\n",
              "        const docLink = document.createElement('div');\n",
              "        docLink.innerHTML = docLinkHtml;\n",
              "        element.appendChild(docLink);\n",
              "      }\n",
              "    </script>\n",
              "  </div>\n",
              "\n",
              "\n",
              "<div id=\"df-77e00d6a-b356-4f63-abb1-255866675f41\">\n",
              "  <button class=\"colab-df-quickchart\" onclick=\"quickchart('df-77e00d6a-b356-4f63-abb1-255866675f41')\"\n",
              "            title=\"Suggest charts\"\n",
              "            style=\"display:none;\">\n",
              "\n",
              "<svg xmlns=\"http://www.w3.org/2000/svg\" height=\"24px\"viewBox=\"0 0 24 24\"\n",
              "     width=\"24px\">\n",
              "    <g>\n",
              "        <path d=\"M19 3H5c-1.1 0-2 .9-2 2v14c0 1.1.9 2 2 2h14c1.1 0 2-.9 2-2V5c0-1.1-.9-2-2-2zM9 17H7v-7h2v7zm4 0h-2V7h2v10zm4 0h-2v-4h2v4z\"/>\n",
              "    </g>\n",
              "</svg>\n",
              "  </button>\n",
              "\n",
              "<style>\n",
              "  .colab-df-quickchart {\n",
              "      --bg-color: #E8F0FE;\n",
              "      --fill-color: #1967D2;\n",
              "      --hover-bg-color: #E2EBFA;\n",
              "      --hover-fill-color: #174EA6;\n",
              "      --disabled-fill-color: #AAA;\n",
              "      --disabled-bg-color: #DDD;\n",
              "  }\n",
              "\n",
              "  [theme=dark] .colab-df-quickchart {\n",
              "      --bg-color: #3B4455;\n",
              "      --fill-color: #D2E3FC;\n",
              "      --hover-bg-color: #434B5C;\n",
              "      --hover-fill-color: #FFFFFF;\n",
              "      --disabled-bg-color: #3B4455;\n",
              "      --disabled-fill-color: #666;\n",
              "  }\n",
              "\n",
              "  .colab-df-quickchart {\n",
              "    background-color: var(--bg-color);\n",
              "    border: none;\n",
              "    border-radius: 50%;\n",
              "    cursor: pointer;\n",
              "    display: none;\n",
              "    fill: var(--fill-color);\n",
              "    height: 32px;\n",
              "    padding: 0;\n",
              "    width: 32px;\n",
              "  }\n",
              "\n",
              "  .colab-df-quickchart:hover {\n",
              "    background-color: var(--hover-bg-color);\n",
              "    box-shadow: 0 1px 2px rgba(60, 64, 67, 0.3), 0 1px 3px 1px rgba(60, 64, 67, 0.15);\n",
              "    fill: var(--button-hover-fill-color);\n",
              "  }\n",
              "\n",
              "  .colab-df-quickchart-complete:disabled,\n",
              "  .colab-df-quickchart-complete:disabled:hover {\n",
              "    background-color: var(--disabled-bg-color);\n",
              "    fill: var(--disabled-fill-color);\n",
              "    box-shadow: none;\n",
              "  }\n",
              "\n",
              "  .colab-df-spinner {\n",
              "    border: 2px solid var(--fill-color);\n",
              "    border-color: transparent;\n",
              "    border-bottom-color: var(--fill-color);\n",
              "    animation:\n",
              "      spin 1s steps(1) infinite;\n",
              "  }\n",
              "\n",
              "  @keyframes spin {\n",
              "    0% {\n",
              "      border-color: transparent;\n",
              "      border-bottom-color: var(--fill-color);\n",
              "      border-left-color: var(--fill-color);\n",
              "    }\n",
              "    20% {\n",
              "      border-color: transparent;\n",
              "      border-left-color: var(--fill-color);\n",
              "      border-top-color: var(--fill-color);\n",
              "    }\n",
              "    30% {\n",
              "      border-color: transparent;\n",
              "      border-left-color: var(--fill-color);\n",
              "      border-top-color: var(--fill-color);\n",
              "      border-right-color: var(--fill-color);\n",
              "    }\n",
              "    40% {\n",
              "      border-color: transparent;\n",
              "      border-right-color: var(--fill-color);\n",
              "      border-top-color: var(--fill-color);\n",
              "    }\n",
              "    60% {\n",
              "      border-color: transparent;\n",
              "      border-right-color: var(--fill-color);\n",
              "    }\n",
              "    80% {\n",
              "      border-color: transparent;\n",
              "      border-right-color: var(--fill-color);\n",
              "      border-bottom-color: var(--fill-color);\n",
              "    }\n",
              "    90% {\n",
              "      border-color: transparent;\n",
              "      border-bottom-color: var(--fill-color);\n",
              "    }\n",
              "  }\n",
              "</style>\n",
              "\n",
              "  <script>\n",
              "    async function quickchart(key) {\n",
              "      const quickchartButtonEl =\n",
              "        document.querySelector('#' + key + ' button');\n",
              "      quickchartButtonEl.disabled = true;  // To prevent multiple clicks.\n",
              "      quickchartButtonEl.classList.add('colab-df-spinner');\n",
              "      try {\n",
              "        const charts = await google.colab.kernel.invokeFunction(\n",
              "            'suggestCharts', [key], {});\n",
              "      } catch (error) {\n",
              "        console.error('Error during call to suggestCharts:', error);\n",
              "      }\n",
              "      quickchartButtonEl.classList.remove('colab-df-spinner');\n",
              "      quickchartButtonEl.classList.add('colab-df-quickchart-complete');\n",
              "    }\n",
              "    (() => {\n",
              "      let quickchartButtonEl =\n",
              "        document.querySelector('#df-77e00d6a-b356-4f63-abb1-255866675f41 button');\n",
              "      quickchartButtonEl.style.display =\n",
              "        google.colab.kernel.accessAllowed ? 'block' : 'none';\n",
              "    })();\n",
              "  </script>\n",
              "</div>\n",
              "\n",
              "    </div>\n",
              "  </div>\n"
            ],
            "application/vnd.google.colaboratory.intrinsic+json": {
              "type": "dataframe",
              "variable_name": "df"
            }
          },
          "metadata": {},
          "execution_count": 15
        }
      ]
    },
    {
      "cell_type": "code",
      "execution_count": null,
      "metadata": {
        "id": "FrUaayYV-DX7"
      },
      "outputs": [],
      "source": [
        "features = df.columns.drop(['Weekly_Sales','Date','Year'])\n",
        "target = 'Weekly_Sales'\n",
        "\n",
        "\n",
        "X = df[features]\n",
        "y = df[target]\n",
        " #Scale the features and target\n",
        "scaler_X = MinMaxScaler()\n",
        "X_scaled = scaler_X.fit_transform(X)\n",
        "\n",
        "scaler_y = MinMaxScaler()\n",
        "y_scaled = scaler_y.fit_transform(y.values.reshape(-1, 1))\n",
        "\n",
        "# Reshape input for LSTM: (samples, time steps, features)\n",
        "X_lstm = X_scaled.reshape(X_scaled.shape[0], 1, X_scaled.shape[1])\n",
        "\n",
        "# Split into train and test sets\n",
        "X_train, X_test, y_train, y_test = train_test_split(X_lstm, y_scaled, random_state=42, test_size=0.2)\n"
      ]
    },
    {
      "cell_type": "code",
      "source": [
        "import numpy as np\n",
        "import pandas as pd\n",
        "from sklearn.preprocessing import MinMaxScaler\n",
        "from sklearn.metrics import mean_squared_error, r2_score, mean_absolute_error\n",
        "from sklearn.model_selection import train_test_split\n",
        "import tensorflow as tf\n",
        "from tensorflow.keras.models import Sequential\n",
        "from tensorflow.keras.layers import LSTM, Dense\n",
        "import matplotlib.pyplot as plt\n",
        "\n",
        "\n",
        "\n",
        "# Define LSTM Model\n",
        "model = Sequential([\n",
        "    LSTM(50, activation='relu', input_shape=(X_train.shape[1], X_train.shape[2])),\n",
        "    Dense(1)\n",
        "])\n",
        "\n",
        "model.compile(optimizer='adam', loss='mse')\n",
        "\n",
        "# Train the model\n",
        "history = model.fit(X_train, y_train, epochs=50, batch_size=32, validation_data=(X_test, y_test), verbose=1)\n",
        "\n",
        "# Evaluate the model\n",
        "loss = model.evaluate(X_test, y_test)\n",
        "print(f'Test Loss (MSE): {loss:.3f}')\n",
        "\n",
        "# Predictions from the model\n",
        "predictions = model.predict(X_test)\n",
        "\n",
        "# Inverse transform predictions and true values to original scale\n",
        "predictions_rescaled = scaler_y.inverse_transform(predictions)\n",
        "y_test_rescaled = scaler_y.inverse_transform(y_test)\n",
        "\n",
        "# Metrics computation\n",
        "r2 = r2_score(y_test_rescaled, predictions_rescaled)\n",
        "mse = mean_squared_error(y_test_rescaled, predictions_rescaled)\n",
        "rmse = np.sqrt(mse)\n",
        "mae = mean_absolute_error(y_test_rescaled, predictions_rescaled)\n",
        "\n",
        "# MAPE computation\n",
        "def mean_absolute_percentage_error(y_true, y_pred):\n",
        "    \"\"\"Calculate MAPE while avoiding division by zero.\"\"\"\n",
        "    y_true, y_pred = np.array(y_true), np.array(y_pred)\n",
        "    return np.mean(np.abs((y_true - y_pred) / np.maximum(y_true, 1e-10))) * 100\n",
        "\n",
        "mape = mean_absolute_percentage_error(y_test_rescaled, predictions_rescaled)\n",
        "\n",
        "# Print the metrics\n",
        "print(f\"R² Score: {r2:.3f}\")\n",
        "print(f\"Mean Absolute Error (MAE): {mae:.3f}\")\n",
        "print(f\"Mean Squared Error (MSE): {mse:.3f}\")\n",
        "print(f\"Root Mean Squared Error (RMSE): {rmse:.3f}\")\n",
        "print(f\"Mean Absolute Percentage Error (MAPE): {mape:.3f}%\")\n",
        "\n",
        "# Visualization of predictions vs actual values\n",
        "plt.figure(figsize=(12, 6))\n",
        "plt.plot(y_test_rescaled, label='Actual')\n",
        "plt.plot(predictions_rescaled, label='Predicted')\n",
        "plt.legend()\n",
        "plt.title('Actual vs Predicted Weekly Sales')\n",
        "plt.show()\n"
      ],
      "metadata": {
        "colab": {
          "base_uri": "https://localhost:8080/",
          "height": 1000
        },
        "id": "pGAS00W-tv13",
        "outputId": "3d1317c6-3943-4ba7-8c1f-7332ca19de1f"
      },
      "execution_count": null,
      "outputs": [
        {
          "output_type": "stream",
          "name": "stdout",
          "text": [
            "Epoch 1/50\n",
            "\u001b[1m161/161\u001b[0m \u001b[32m━━━━━━━━━━━━━━━━━━━━\u001b[0m\u001b[37m\u001b[0m \u001b[1m4s\u001b[0m 7ms/step - loss: 0.0219 - val_loss: 0.0028\n",
            "Epoch 2/50\n",
            "\u001b[1m161/161\u001b[0m \u001b[32m━━━━━━━━━━━━━━━━━━━━\u001b[0m\u001b[37m\u001b[0m \u001b[1m1s\u001b[0m 5ms/step - loss: 0.0032 - val_loss: 0.0025\n",
            "Epoch 3/50\n",
            "\u001b[1m161/161\u001b[0m \u001b[32m━━━━━━━━━━━━━━━━━━━━\u001b[0m\u001b[37m\u001b[0m \u001b[1m1s\u001b[0m 4ms/step - loss: 0.0027 - val_loss: 0.0023\n",
            "Epoch 4/50\n",
            "\u001b[1m161/161\u001b[0m \u001b[32m━━━━━━━━━━━━━━━━━━━━\u001b[0m\u001b[37m\u001b[0m \u001b[1m1s\u001b[0m 5ms/step - loss: 0.0026 - val_loss: 0.0021\n",
            "Epoch 5/50\n",
            "\u001b[1m161/161\u001b[0m \u001b[32m━━━━━━━━━━━━━━━━━━━━\u001b[0m\u001b[37m\u001b[0m \u001b[1m1s\u001b[0m 4ms/step - loss: 0.0021 - val_loss: 0.0020\n",
            "Epoch 6/50\n",
            "\u001b[1m161/161\u001b[0m \u001b[32m━━━━━━━━━━━━━━━━━━━━\u001b[0m\u001b[37m\u001b[0m \u001b[1m1s\u001b[0m 4ms/step - loss: 0.0021 - val_loss: 0.0020\n",
            "Epoch 7/50\n",
            "\u001b[1m161/161\u001b[0m \u001b[32m━━━━━━━━━━━━━━━━━━━━\u001b[0m\u001b[37m\u001b[0m \u001b[1m1s\u001b[0m 5ms/step - loss: 0.0018 - val_loss: 0.0017\n",
            "Epoch 8/50\n",
            "\u001b[1m161/161\u001b[0m \u001b[32m━━━━━━━━━━━━━━━━━━━━\u001b[0m\u001b[37m\u001b[0m \u001b[1m1s\u001b[0m 4ms/step - loss: 0.0017 - val_loss: 0.0018\n",
            "Epoch 9/50\n",
            "\u001b[1m161/161\u001b[0m \u001b[32m━━━━━━━━━━━━━━━━━━━━\u001b[0m\u001b[37m\u001b[0m \u001b[1m1s\u001b[0m 3ms/step - loss: 0.0019 - val_loss: 0.0016\n",
            "Epoch 10/50\n",
            "\u001b[1m161/161\u001b[0m \u001b[32m━━━━━━━━━━━━━━━━━━━━\u001b[0m\u001b[37m\u001b[0m \u001b[1m1s\u001b[0m 4ms/step - loss: 0.0015 - val_loss: 0.0016\n",
            "Epoch 11/50\n",
            "\u001b[1m161/161\u001b[0m \u001b[32m━━━━━━━━━━━━━━━━━━━━\u001b[0m\u001b[37m\u001b[0m \u001b[1m1s\u001b[0m 6ms/step - loss: 0.0020 - val_loss: 0.0016\n",
            "Epoch 12/50\n",
            "\u001b[1m161/161\u001b[0m \u001b[32m━━━━━━━━━━━━━━━━━━━━\u001b[0m\u001b[37m\u001b[0m \u001b[1m1s\u001b[0m 8ms/step - loss: 0.0016 - val_loss: 0.0015\n",
            "Epoch 13/50\n",
            "\u001b[1m161/161\u001b[0m \u001b[32m━━━━━━━━━━━━━━━━━━━━\u001b[0m\u001b[37m\u001b[0m \u001b[1m1s\u001b[0m 8ms/step - loss: 0.0013 - val_loss: 0.0015\n",
            "Epoch 14/50\n",
            "\u001b[1m161/161\u001b[0m \u001b[32m━━━━━━━━━━━━━━━━━━━━\u001b[0m\u001b[37m\u001b[0m \u001b[1m2s\u001b[0m 5ms/step - loss: 0.0016 - val_loss: 0.0014\n",
            "Epoch 15/50\n",
            "\u001b[1m161/161\u001b[0m \u001b[32m━━━━━━━━━━━━━━━━━━━━\u001b[0m\u001b[37m\u001b[0m \u001b[1m1s\u001b[0m 4ms/step - loss: 0.0014 - val_loss: 0.0014\n",
            "Epoch 16/50\n",
            "\u001b[1m161/161\u001b[0m \u001b[32m━━━━━━━━━━━━━━━━━━━━\u001b[0m\u001b[37m\u001b[0m \u001b[1m1s\u001b[0m 4ms/step - loss: 0.0013 - val_loss: 0.0014\n",
            "Epoch 17/50\n",
            "\u001b[1m161/161\u001b[0m \u001b[32m━━━━━━━━━━━━━━━━━━━━\u001b[0m\u001b[37m\u001b[0m \u001b[1m1s\u001b[0m 4ms/step - loss: 0.0012 - val_loss: 0.0014\n",
            "Epoch 18/50\n",
            "\u001b[1m161/161\u001b[0m \u001b[32m━━━━━━━━━━━━━━━━━━━━\u001b[0m\u001b[37m\u001b[0m \u001b[1m1s\u001b[0m 5ms/step - loss: 0.0013 - val_loss: 0.0013\n",
            "Epoch 19/50\n",
            "\u001b[1m161/161\u001b[0m \u001b[32m━━━━━━━━━━━━━━━━━━━━\u001b[0m\u001b[37m\u001b[0m \u001b[1m1s\u001b[0m 4ms/step - loss: 0.0010 - val_loss: 0.0013\n",
            "Epoch 20/50\n",
            "\u001b[1m161/161\u001b[0m \u001b[32m━━━━━━━━━━━━━━━━━━━━\u001b[0m\u001b[37m\u001b[0m \u001b[1m1s\u001b[0m 5ms/step - loss: 0.0013 - val_loss: 0.0013\n",
            "Epoch 21/50\n",
            "\u001b[1m161/161\u001b[0m \u001b[32m━━━━━━━━━━━━━━━━━━━━\u001b[0m\u001b[37m\u001b[0m \u001b[1m1s\u001b[0m 4ms/step - loss: 0.0011 - val_loss: 0.0012\n",
            "Epoch 22/50\n",
            "\u001b[1m161/161\u001b[0m \u001b[32m━━━━━━━━━━━━━━━━━━━━\u001b[0m\u001b[37m\u001b[0m \u001b[1m1s\u001b[0m 6ms/step - loss: 0.0011 - val_loss: 0.0013\n",
            "Epoch 23/50\n",
            "\u001b[1m161/161\u001b[0m \u001b[32m━━━━━━━━━━━━━━━━━━━━\u001b[0m\u001b[37m\u001b[0m \u001b[1m1s\u001b[0m 7ms/step - loss: 0.0011 - val_loss: 0.0012\n",
            "Epoch 24/50\n",
            "\u001b[1m161/161\u001b[0m \u001b[32m━━━━━━━━━━━━━━━━━━━━\u001b[0m\u001b[37m\u001b[0m \u001b[1m1s\u001b[0m 8ms/step - loss: 9.3216e-04 - val_loss: 0.0012\n",
            "Epoch 25/50\n",
            "\u001b[1m161/161\u001b[0m \u001b[32m━━━━━━━━━━━━━━━━━━━━\u001b[0m\u001b[37m\u001b[0m \u001b[1m1s\u001b[0m 6ms/step - loss: 9.7643e-04 - val_loss: 0.0013\n",
            "Epoch 26/50\n",
            "\u001b[1m161/161\u001b[0m \u001b[32m━━━━━━━━━━━━━━━━━━━━\u001b[0m\u001b[37m\u001b[0m \u001b[1m1s\u001b[0m 5ms/step - loss: 0.0011 - val_loss: 0.0013\n",
            "Epoch 27/50\n",
            "\u001b[1m161/161\u001b[0m \u001b[32m━━━━━━━━━━━━━━━━━━━━\u001b[0m\u001b[37m\u001b[0m \u001b[1m1s\u001b[0m 4ms/step - loss: 9.1749e-04 - val_loss: 0.0013\n",
            "Epoch 28/50\n",
            "\u001b[1m161/161\u001b[0m \u001b[32m━━━━━━━━━━━━━━━━━━━━\u001b[0m\u001b[37m\u001b[0m \u001b[1m1s\u001b[0m 4ms/step - loss: 9.5447e-04 - val_loss: 0.0013\n",
            "Epoch 29/50\n",
            "\u001b[1m161/161\u001b[0m \u001b[32m━━━━━━━━━━━━━━━━━━━━\u001b[0m\u001b[37m\u001b[0m \u001b[1m1s\u001b[0m 3ms/step - loss: 9.3290e-04 - val_loss: 0.0012\n",
            "Epoch 30/50\n",
            "\u001b[1m161/161\u001b[0m \u001b[32m━━━━━━━━━━━━━━━━━━━━\u001b[0m\u001b[37m\u001b[0m \u001b[1m1s\u001b[0m 4ms/step - loss: 9.2262e-04 - val_loss: 0.0012\n",
            "Epoch 31/50\n",
            "\u001b[1m161/161\u001b[0m \u001b[32m━━━━━━━━━━━━━━━━━━━━\u001b[0m\u001b[37m\u001b[0m \u001b[1m1s\u001b[0m 5ms/step - loss: 9.4763e-04 - val_loss: 0.0011\n",
            "Epoch 32/50\n",
            "\u001b[1m161/161\u001b[0m \u001b[32m━━━━━━━━━━━━━━━━━━━━\u001b[0m\u001b[37m\u001b[0m \u001b[1m1s\u001b[0m 5ms/step - loss: 8.9598e-04 - val_loss: 0.0011\n",
            "Epoch 33/50\n",
            "\u001b[1m161/161\u001b[0m \u001b[32m━━━━━━━━━━━━━━━━━━━━\u001b[0m\u001b[37m\u001b[0m \u001b[1m1s\u001b[0m 5ms/step - loss: 8.3485e-04 - val_loss: 0.0011\n",
            "Epoch 34/50\n",
            "\u001b[1m161/161\u001b[0m \u001b[32m━━━━━━━━━━━━━━━━━━━━\u001b[0m\u001b[37m\u001b[0m \u001b[1m1s\u001b[0m 5ms/step - loss: 9.2458e-04 - val_loss: 0.0010\n",
            "Epoch 35/50\n",
            "\u001b[1m161/161\u001b[0m \u001b[32m━━━━━━━━━━━━━━━━━━━━\u001b[0m\u001b[37m\u001b[0m \u001b[1m1s\u001b[0m 5ms/step - loss: 8.5949e-04 - val_loss: 0.0010\n",
            "Epoch 36/50\n",
            "\u001b[1m161/161\u001b[0m \u001b[32m━━━━━━━━━━━━━━━━━━━━\u001b[0m\u001b[37m\u001b[0m \u001b[1m1s\u001b[0m 4ms/step - loss: 8.4155e-04 - val_loss: 0.0012\n",
            "Epoch 37/50\n",
            "\u001b[1m161/161\u001b[0m \u001b[32m━━━━━━━━━━━━━━━━━━━━\u001b[0m\u001b[37m\u001b[0m \u001b[1m1s\u001b[0m 6ms/step - loss: 7.8569e-04 - val_loss: 9.9545e-04\n",
            "Epoch 38/50\n",
            "\u001b[1m161/161\u001b[0m \u001b[32m━━━━━━━━━━━━━━━━━━━━\u001b[0m\u001b[37m\u001b[0m \u001b[1m2s\u001b[0m 8ms/step - loss: 8.1399e-04 - val_loss: 9.8282e-04\n",
            "Epoch 39/50\n",
            "\u001b[1m161/161\u001b[0m \u001b[32m━━━━━━━━━━━━━━━━━━━━\u001b[0m\u001b[37m\u001b[0m \u001b[1m2s\u001b[0m 3ms/step - loss: 7.9055e-04 - val_loss: 0.0010\n",
            "Epoch 40/50\n",
            "\u001b[1m161/161\u001b[0m \u001b[32m━━━━━━━━━━━━━━━━━━━━\u001b[0m\u001b[37m\u001b[0m \u001b[1m1s\u001b[0m 4ms/step - loss: 7.5704e-04 - val_loss: 9.4880e-04\n",
            "Epoch 41/50\n",
            "\u001b[1m161/161\u001b[0m \u001b[32m━━━━━━━━━━━━━━━━━━━━\u001b[0m\u001b[37m\u001b[0m \u001b[1m1s\u001b[0m 4ms/step - loss: 8.7282e-04 - val_loss: 9.0995e-04\n",
            "Epoch 42/50\n",
            "\u001b[1m161/161\u001b[0m \u001b[32m━━━━━━━━━━━━━━━━━━━━\u001b[0m\u001b[37m\u001b[0m \u001b[1m1s\u001b[0m 4ms/step - loss: 7.3105e-04 - val_loss: 9.1672e-04\n",
            "Epoch 43/50\n",
            "\u001b[1m161/161\u001b[0m \u001b[32m━━━━━━━━━━━━━━━━━━━━\u001b[0m\u001b[37m\u001b[0m \u001b[1m2s\u001b[0m 6ms/step - loss: 7.3985e-04 - val_loss: 9.4691e-04\n",
            "Epoch 44/50\n",
            "\u001b[1m161/161\u001b[0m \u001b[32m━━━━━━━━━━━━━━━━━━━━\u001b[0m\u001b[37m\u001b[0m \u001b[1m1s\u001b[0m 6ms/step - loss: 7.2170e-04 - val_loss: 9.1879e-04\n",
            "Epoch 45/50\n",
            "\u001b[1m161/161\u001b[0m \u001b[32m━━━━━━━━━━━━━━━━━━━━\u001b[0m\u001b[37m\u001b[0m \u001b[1m1s\u001b[0m 6ms/step - loss: 7.4510e-04 - val_loss: 8.7170e-04\n",
            "Epoch 46/50\n",
            "\u001b[1m161/161\u001b[0m \u001b[32m━━━━━━━━━━━━━━━━━━━━\u001b[0m\u001b[37m\u001b[0m \u001b[1m1s\u001b[0m 4ms/step - loss: 7.3165e-04 - val_loss: 8.7478e-04\n",
            "Epoch 47/50\n",
            "\u001b[1m161/161\u001b[0m \u001b[32m━━━━━━━━━━━━━━━━━━━━\u001b[0m\u001b[37m\u001b[0m \u001b[1m1s\u001b[0m 5ms/step - loss: 6.7406e-04 - val_loss: 8.6704e-04\n",
            "Epoch 48/50\n",
            "\u001b[1m161/161\u001b[0m \u001b[32m━━━━━━━━━━━━━━━━━━━━\u001b[0m\u001b[37m\u001b[0m \u001b[1m1s\u001b[0m 6ms/step - loss: 7.5193e-04 - val_loss: 8.5096e-04\n",
            "Epoch 49/50\n",
            "\u001b[1m161/161\u001b[0m \u001b[32m━━━━━━━━━━━━━━━━━━━━\u001b[0m\u001b[37m\u001b[0m \u001b[1m2s\u001b[0m 8ms/step - loss: 7.1463e-04 - val_loss: 9.0850e-04\n",
            "Epoch 50/50\n",
            "\u001b[1m161/161\u001b[0m \u001b[32m━━━━━━━━━━━━━━━━━━━━\u001b[0m\u001b[37m\u001b[0m \u001b[1m1s\u001b[0m 7ms/step - loss: 6.5132e-04 - val_loss: 8.7053e-04\n",
            "\u001b[1m41/41\u001b[0m \u001b[32m━━━━━━━━━━━━━━━━━━━━\u001b[0m\u001b[37m\u001b[0m \u001b[1m0s\u001b[0m 2ms/step - loss: 9.2426e-04\n",
            "Test Loss (MSE): 0.001\n",
            "\u001b[1m41/41\u001b[0m \u001b[32m━━━━━━━━━━━━━━━━━━━━\u001b[0m\u001b[37m\u001b[0m \u001b[1m1s\u001b[0m 7ms/step\n",
            "R² Score: 0.965\n",
            "Mean Absolute Error (MAE): 0.125\n",
            "Mean Squared Error (MSE): 0.036\n",
            "Root Mean Squared Error (RMSE): 0.189\n",
            "Mean Absolute Percentage Error (MAPE): 50609485335.514%\n"
          ]
        },
        {
          "output_type": "display_data",
          "data": {
            "text/plain": [
              "<Figure size 1200x600 with 1 Axes>"
            ],
            "image/png": "[encoded data removed]"
          },
          "metadata": {}
        }
      ]
    },
    {
      "cell_type": "code",
      "execution_count": null,
      "metadata": {
        "colab": {
          "base_uri": "https://localhost:8080/"
        },
        "id": "Bbo9OPotaROP",
        "outputId": "cb6a3c18-c2b6-4568-e4e5-fadeee8fe1ad"
      },
      "outputs": [
        {
          "output_type": "stream",
          "name": "stdout",
          "text": [
            "Collecting optuna\n",
            "  Downloading optuna-4.2.0-py3-none-any.whl.metadata (17 kB)\n",
            "Collecting alembic>=1.5.0 (from optuna)\n",
            "  Downloading alembic-1.14.1-py3-none-any.whl.metadata (7.4 kB)\n",
            "Collecting colorlog (from optuna)\n",
            "  Downloading colorlog-6.9.0-py3-none-any.whl.metadata (10 kB)\n",
            "Requirement already satisfied: numpy in /usr/local/lib/python3.11/dist-packages (from optuna) (1.26.4)\n",
            "Requirement already satisfied: packaging>=20.0 in /usr/local/lib/python3.11/dist-packages (from optuna) (24.2)\n",
            "Requirement already satisfied: sqlalchemy>=1.4.2 in /usr/local/lib/python3.11/dist-packages (from optuna) (2.0.37)\n",
            "Requirement already satisfied: tqdm in /usr/local/lib/python3.11/dist-packages (from optuna) (4.67.1)\n",
            "Requirement already satisfied: PyYAML in /usr/local/lib/python3.11/dist-packages (from optuna) (6.0.2)\n",
            "Collecting Mako (from alembic>=1.5.0->optuna)\n",
            "  Downloading Mako-1.3.9-py3-none-any.whl.metadata (2.9 kB)\n",
            "Requirement already satisfied: typing-extensions>=4 in /usr/local/lib/python3.11/dist-packages (from alembic>=1.5.0->optuna) (4.12.2)\n",
            "Requirement already satisfied: greenlet!=0.4.17 in /usr/local/lib/python3.11/dist-packages (from sqlalchemy>=1.4.2->optuna) (3.1.1)\n",
            "Requirement already satisfied: MarkupSafe>=0.9.2 in /usr/local/lib/python3.11/dist-packages (from Mako->alembic>=1.5.0->optuna) (3.0.2)\n",
            "Downloading optuna-4.2.0-py3-none-any.whl (383 kB)\n",
            "\u001b[2K   \u001b[90m━━━━━━━━━━━━━━━━━━━━━━━━━━━━━━━━━━━━━━━━\u001b[0m \u001b[32m383.4/383.4 kB\u001b[0m \u001b[31m8.0 MB/s\u001b[0m eta \u001b[36m0:00:00\u001b[0m\n",
            "\u001b[?25hDownloading alembic-1.14.1-py3-none-any.whl (233 kB)\n",
            "\u001b[2K   \u001b[90m━━━━━━━━━━━━━━━━━━━━━━━━━━━━━━━━━━━━━━━━\u001b[0m \u001b[32m233.6/233.6 kB\u001b[0m \u001b[31m11.4 MB/s\u001b[0m eta \u001b[36m0:00:00\u001b[0m\n",
            "\u001b[?25hDownloading colorlog-6.9.0-py3-none-any.whl (11 kB)\n",
            "Downloading Mako-1.3.9-py3-none-any.whl (78 kB)\n",
            "\u001b[2K   \u001b[90m━━━━━━━━━━━━━━━━━━━━━━━━━━━━━━━━━━━━━━━━\u001b[0m \u001b[32m78.5/78.5 kB\u001b[0m \u001b[31m3.2 MB/s\u001b[0m eta \u001b[36m0:00:00\u001b[0m\n",
            "\u001b[?25hInstalling collected packages: Mako, colorlog, alembic, optuna\n",
            "Successfully installed Mako-1.3.9 alembic-1.14.1 colorlog-6.9.0 optuna-4.2.0\n"
          ]
        }
      ],
      "source": [
        "!pip install optuna"
      ]
    },
    {
      "cell_type": "code",
      "source": [
        "import optuna\n",
        "import numpy as np\n",
        "from sklearn.metrics import r2_score, mean_absolute_error, mean_squared_error, mean_absolute_percentage_error\n",
        "from sklearn.preprocessing import MinMaxScaler\n",
        "from sklearn.model_selection import train_test_split\n",
        "from tensorflow.keras.models import Sequential\n",
        "from tensorflow.keras.layers import LSTM, Dense\n",
        "from tensorflow.keras.optimizers import Adam\n",
        "from tensorflow.keras.callbacks import EarlyStopping\n",
        "\n",
        "# Ensure input data X and y are not empty and contain no NaN values\n",
        "if X.isnull().values.any() or y.isnull().values.any():\n",
        "    raise ValueError(\"X or y contains NaN values. Please clean the data before proceeding.\")\n",
        "\n",
        "# Scale the features and target\n",
        "scaler_X = MinMaxScaler()\n",
        "X_scaled = scaler_X.fit_transform(X)\n",
        "\n",
        "scaler_y = MinMaxScaler()\n",
        "y_scaled = scaler_y.fit_transform(y.values.reshape(-1, 1))\n",
        "\n",
        "# Reshape input for LSTM: (samples, time steps, features)\n",
        "X_lstm = X_scaled.reshape(X_scaled.shape[0], 1, X_scaled.shape[1])\n",
        "\n",
        "# Split into train and test sets\n",
        "X_train, X_test, y_train, y_test = train_test_split(X_lstm, y_scaled, random_state=42, test_size=0.2)\n",
        "\n",
        "\n",
        "def create_lstm_model(hyperparams):\n",
        "    model = Sequential()\n",
        "    model.add(LSTM(units=32, input_shape=(X_train.shape[1], X_train.shape[2]), activation='tanh'))\n",
        "    model.add(Dense(1))  # Output layer for regression\n",
        "\n",
        "    # Optimizer with suggested hyperparameters\n",
        "    optimizer = Adam(learning_rate=hyperparams[\"learning_rate\"],\n",
        "                      beta_1=hyperparams[\"adam_beta\"],\n",
        "                      beta_2=0.999,\n",
        "                      epsilon=1e-07)\n",
        "\n",
        "    model.compile(optimizer=optimizer, loss='mse')\n",
        "    return model\n",
        "\n",
        "\n",
        "def objective(trial):\n",
        "    hyperparams = {\n",
        "        \"max_iterations\": trial.suggest_int(\"max_iterations\", 500, 1500),\n",
        "        \"learning_rate\": trial.suggest_loguniform(\"learning_rate\", 1e-5, 1e-1),\n",
        "        \"momentum\": trial.suggest_uniform(\"momentum\", 0.1, 0.9),\n",
        "        \"adam_beta\": trial.suggest_uniform(\"adam_beta\", 0.9, 0.999),\n",
        "        \"weight_range\": trial.suggest_uniform(\"weight_range\", 0.1, 0.5),\n",
        "    }\n",
        "\n",
        "    # Create model with hyperparameters\n",
        "    model = create_lstm_model(hyperparams)\n",
        "\n",
        "    # Early stopping\n",
        "    early_stopping = EarlyStopping(monitor='val_loss', patience=5, restore_best_weights=True)\n",
        "\n",
        "    # Train the model\n",
        "    model.fit(X_train, y_train, epochs=hyperparams[\"max_iterations\"], batch_size=32,\n",
        "              validation_split=0.2, callbacks=[early_stopping], verbose=0)\n",
        "\n",
        "    # Evaluate the model\n",
        "    y_pred = model.predict(X_test).flatten()\n",
        "\n",
        "    # Compute R² score for maximization\n",
        "    r2 = r2_score(y_test, y_pred)\n",
        "    return r2\n",
        "\n",
        "\n",
        "# Create an Optuna study to maximize R² score\n",
        "study = optuna.create_study(direction=\"maximize\")\n",
        "study.optimize(objective, n_trials=50)\n",
        "\n",
        "# Display the best hyperparameters\n",
        "best_params = study.best_params\n",
        "print(\"Best parameters found by Optuna:\", best_params)\n",
        "\n",
        "# Build the final model with the best parameters\n",
        "final_model = create_lstm_model(best_params)\n",
        "\n",
        "# Train the final model\n",
        "final_model.fit(X_train, y_train, epochs=best_params['max_iterations'], batch_size=32, validation_split=0.2, verbose=0)\n",
        "\n",
        "# Evaluate the final model\n",
        "y_pred = final_model.predict(X_test).flatten()\n",
        "\n",
        "# Inverse scale the target values\n",
        "y_test_inverse = scaler_y.inverse_transform(y_test.reshape(-1, 1))\n",
        "y_pred_inverse = scaler_y.inverse_transform(y_pred.reshape(-1, 1))\n",
        "\n",
        "# Compute evaluation metrics\n",
        "r2 = r2_score(y_test_inverse, y_pred_inverse)\n",
        "mae = mean_absolute_error(y_test_inverse, y_pred_inverse)\n",
        "mse = mean_squared_error(y_test_inverse, y_pred_inverse)\n",
        "rmse = np.sqrt(mse)\n",
        "mape = mean_absolute_percentage_error(y_test_inverse, y_pred_inverse) * 100\n",
        "\n",
        "# Display evaluation results\n",
        "print(f\"R² Score: {r2:.3f}\")\n",
        "print(f\"Mean Absolute Error (MAE): {mae:.3f}\")\n",
        "print(f\"Mean Squared Error (MSE): {mse:.3f}\")\n",
        "print(f\"Root Mean Squared Error (RMSE): {rmse:.3f}\")\n",
        "print(f\"Mean Absolute Percentage Error (MAPE): {mape:.3f}%\")\n"
      ],
      "metadata": {
        "colab": {
          "base_uri": "https://localhost:8080/"
        },
        "id": "Km5Z_ppmE8MW",
        "outputId": "e236fa6b-c9f7-4133-9428-42f045788767"
      },
      "execution_count": null,
      "outputs": [
        {
          "metadata": {
            "tags": null
          },
          "name": "stderr",
          "output_type": "stream",
          "text": [
            "[I 2025-02-10 09:08:01,852] A new study created in memory with name: no-name-bcbbcd82-468c-47db-a215-d4562af0f0a3\n"
          ]
        },
        {
          "metadata": {
            "tags": null
          },
          "name": "stdout",
          "output_type": "stream",
          "text": [
            "\u001b[1m41/41\u001b[0m \u001b[32m━━━━━━━━━━━━━━━━━━━━\u001b[0m\u001b[37m\u001b[0m \u001b[1m0s\u001b[0m 6ms/step\n"
          ]
        },
        {
          "metadata": {
            "tags": null
          },
          "name": "stderr",
          "output_type": "stream",
          "text": [
            "[I 2025-02-10 09:09:14,560] Trial 0 finished with value: 0.9378634638396726 and parameters: {'max_iterations': 848, 'learning_rate': 0.00024894624994365876, 'momentum': 0.5602760338377673, 'adam_beta': 0.9216939348977592, 'weight_range': 0.4273875887339229}. Best is trial 0 with value: 0.9378634638396726.\n"
          ]
        },
        {
          "output_type": "stream",
          "name": "stdout",
          "text": [
            "\u001b[1m41/41\u001b[0m \u001b[32m━━━━━━━━━━━━━━━━━━━━\u001b[0m\u001b[37m\u001b[0m \u001b[1m0s\u001b[0m 6ms/step\n"
          ]
        },
        {
          "output_type": "stream",
          "name": "stderr",
          "text": [
            "[I 2025-02-10 09:12:39,694] Trial 1 finished with value: 0.9353940849142537 and parameters: {'max_iterations': 928, 'learning_rate': 6.571146331866232e-05, 'momentum': 0.47954718494069815, 'adam_beta': 0.9966050617153306, 'weight_range': 0.17228464852658876}. Best is trial 0 with value: 0.9378634638396726.\n"
          ]
        },
        {
          "output_type": "stream",
          "name": "stdout",
          "text": [
            "\u001b[1m41/41\u001b[0m \u001b[32m━━━━━━━━━━━━━━━━━━━━\u001b[0m\u001b[37m\u001b[0m \u001b[1m0s\u001b[0m 6ms/step\n"
          ]
        },
        {
          "output_type": "stream",
          "name": "stderr",
          "text": [
            "[I 2025-02-10 09:13:18,111] Trial 2 finished with value: 0.9563417171639653 and parameters: {'max_iterations': 1173, 'learning_rate': 0.001506420126899255, 'momentum': 0.8323396543242371, 'adam_beta': 0.9341072998940816, 'weight_range': 0.34102489185632845}. Best is trial 2 with value: 0.9563417171639653.\n"
          ]
        },
        {
          "output_type": "stream",
          "name": "stdout",
          "text": [
            "\u001b[1m41/41\u001b[0m \u001b[32m━━━━━━━━━━━━━━━━━━━━\u001b[0m\u001b[37m\u001b[0m \u001b[1m1s\u001b[0m 8ms/step\n"
          ]
        },
        {
          "output_type": "stream",
          "name": "stderr",
          "text": [
            "[I 2025-02-10 09:16:26,402] Trial 3 finished with value: 0.9313393363274185 and parameters: {'max_iterations': 589, 'learning_rate': 5.877512807878373e-05, 'momentum': 0.3990320116294589, 'adam_beta': 0.9523907502826706, 'weight_range': 0.36283834204633436}. Best is trial 2 with value: 0.9563417171639653.\n"
          ]
        },
        {
          "output_type": "stream",
          "name": "stdout",
          "text": [
            "\u001b[1m41/41\u001b[0m \u001b[32m━━━━━━━━━━━━━━━━━━━━\u001b[0m\u001b[37m\u001b[0m \u001b[1m0s\u001b[0m 6ms/step\n"
          ]
        },
        {
          "output_type": "stream",
          "name": "stderr",
          "text": [
            "[I 2025-02-10 09:17:00,976] Trial 4 finished with value: 0.9405075005697774 and parameters: {'max_iterations': 710, 'learning_rate': 0.001102760888021891, 'momentum': 0.7314930470354579, 'adam_beta': 0.9318013716679943, 'weight_range': 0.17529639028944577}. Best is trial 2 with value: 0.9563417171639653.\n"
          ]
        },
        {
          "output_type": "stream",
          "name": "stdout",
          "text": [
            "\u001b[1m41/41\u001b[0m \u001b[32m━━━━━━━━━━━━━━━━━━━━\u001b[0m\u001b[37m\u001b[0m \u001b[1m0s\u001b[0m 6ms/step\n"
          ]
        },
        {
          "output_type": "stream",
          "name": "stderr",
          "text": [
            "[I 2025-02-10 09:17:28,182] Trial 5 finished with value: 0.9646556272597592 and parameters: {'max_iterations': 712, 'learning_rate': 0.0058881310156587985, 'momentum': 0.4747605828302338, 'adam_beta': 0.9883451321372472, 'weight_range': 0.1640057350533244}. Best is trial 5 with value: 0.9646556272597592.\n"
          ]
        },
        {
          "output_type": "stream",
          "name": "stdout",
          "text": [
            "\u001b[1m41/41\u001b[0m \u001b[32m━━━━━━━━━━━━━━━━━━━━\u001b[0m\u001b[37m\u001b[0m \u001b[1m1s\u001b[0m 9ms/step\n"
          ]
        },
        {
          "output_type": "stream",
          "name": "stderr",
          "text": [
            "[I 2025-02-10 09:18:00,048] Trial 6 finished with value: 0.9454851332626192 and parameters: {'max_iterations': 1323, 'learning_rate': 0.001432985486939354, 'momentum': 0.5354612660452789, 'adam_beta': 0.9666572383064407, 'weight_range': 0.31755927838132536}. Best is trial 5 with value: 0.9646556272597592.\n"
          ]
        },
        {
          "output_type": "stream",
          "name": "stdout",
          "text": [
            "\u001b[1m41/41\u001b[0m \u001b[32m━━━━━━━━━━━━━━━━━━━━\u001b[0m\u001b[37m\u001b[0m \u001b[1m0s\u001b[0m 6ms/step\n"
          ]
        },
        {
          "output_type": "stream",
          "name": "stderr",
          "text": [
            "[I 2025-02-10 09:18:18,343] Trial 7 finished with value: 0.957388107900173 and parameters: {'max_iterations': 563, 'learning_rate': 0.01643765305808967, 'momentum': 0.6140458210382307, 'adam_beta': 0.9525995266636522, 'weight_range': 0.4556779641716403}. Best is trial 5 with value: 0.9646556272597592.\n"
          ]
        },
        {
          "output_type": "stream",
          "name": "stdout",
          "text": [
            "\u001b[1m41/41\u001b[0m \u001b[32m━━━━━━━━━━━━━━━━━━━━\u001b[0m\u001b[37m\u001b[0m \u001b[1m0s\u001b[0m 6ms/step\n"
          ]
        },
        {
          "output_type": "stream",
          "name": "stderr",
          "text": [
            "[I 2025-02-10 09:20:55,696] Trial 8 finished with value: 0.9385058352316117 and parameters: {'max_iterations': 1316, 'learning_rate': 9.124355524398151e-05, 'momentum': 0.41569097135040256, 'adam_beta': 0.9746540610770302, 'weight_range': 0.3075323722055819}. Best is trial 5 with value: 0.9646556272597592.\n"
          ]
        },
        {
          "output_type": "stream",
          "name": "stdout",
          "text": [
            "\u001b[1m41/41\u001b[0m \u001b[32m━━━━━━━━━━━━━━━━━━━━\u001b[0m\u001b[37m\u001b[0m \u001b[1m0s\u001b[0m 6ms/step\n"
          ]
        },
        {
          "output_type": "stream",
          "name": "stderr",
          "text": [
            "[I 2025-02-10 09:21:10,452] Trial 9 finished with value: 0.957757130004807 and parameters: {'max_iterations': 1339, 'learning_rate': 0.02732161929459712, 'momentum': 0.2829663609940425, 'adam_beta': 0.9096699907944419, 'weight_range': 0.3100400002992594}. Best is trial 5 with value: 0.9646556272597592.\n"
          ]
        },
        {
          "output_type": "stream",
          "name": "stdout",
          "text": [
            "\u001b[1m41/41\u001b[0m \u001b[32m━━━━━━━━━━━━━━━━━━━━\u001b[0m\u001b[37m\u001b[0m \u001b[1m1s\u001b[0m 23ms/step\n"
          ]
        },
        {
          "output_type": "stream",
          "name": "stderr",
          "text": [
            "[I 2025-02-10 09:21:19,131] Trial 10 finished with value: -0.0008311250906372081 and parameters: {'max_iterations': 1073, 'learning_rate': 0.08332507413981897, 'momentum': 0.18461329430494167, 'adam_beta': 0.9901537008294545, 'weight_range': 0.10862462910442747}. Best is trial 5 with value: 0.9646556272597592.\n"
          ]
        },
        {
          "output_type": "stream",
          "name": "stdout",
          "text": [
            "\u001b[1m41/41\u001b[0m \u001b[32m━━━━━━━━━━━━━━━━━━━━\u001b[0m\u001b[37m\u001b[0m \u001b[1m0s\u001b[0m 6ms/step\n"
          ]
        },
        {
          "output_type": "stream",
          "name": "stderr",
          "text": [
            "[I 2025-02-10 09:21:33,041] Trial 11 finished with value: 0.9575142007184031 and parameters: {'max_iterations': 1457, 'learning_rate': 0.015135099440031921, 'momentum': 0.2301809041555135, 'adam_beta': 0.9017331781892635, 'weight_range': 0.23293211166738942}. Best is trial 5 with value: 0.9646556272597592.\n"
          ]
        },
        {
          "output_type": "stream",
          "name": "stdout",
          "text": [
            "\u001b[1m41/41\u001b[0m \u001b[32m━━━━━━━━━━━━━━━━━━━━\u001b[0m\u001b[37m\u001b[0m \u001b[1m0s\u001b[0m 6ms/step\n"
          ]
        },
        {
          "output_type": "stream",
          "name": "stderr",
          "text": [
            "[I 2025-02-10 09:21:51,441] Trial 12 finished with value: 0.9615895437585147 and parameters: {'max_iterations': 769, 'learning_rate': 0.008910700770716953, 'momentum': 0.3266681383102739, 'adam_beta': 0.9137555092790022, 'weight_range': 0.2410937581117711}. Best is trial 5 with value: 0.9646556272597592.\n"
          ]
        },
        {
          "output_type": "stream",
          "name": "stdout",
          "text": [
            "\u001b[1m41/41\u001b[0m \u001b[32m━━━━━━━━━━━━━━━━━━━━\u001b[0m\u001b[37m\u001b[0m \u001b[1m0s\u001b[0m 6ms/step\n"
          ]
        },
        {
          "output_type": "stream",
          "name": "stderr",
          "text": [
            "[I 2025-02-10 09:22:14,009] Trial 13 finished with value: 0.9524010532225515 and parameters: {'max_iterations': 767, 'learning_rate': 0.004966091606804969, 'momentum': 0.122943416794977, 'adam_beta': 0.9805191941008746, 'weight_range': 0.21748920384332535}. Best is trial 5 with value: 0.9646556272597592.\n"
          ]
        },
        {
          "output_type": "stream",
          "name": "stdout",
          "text": [
            "\u001b[1m41/41\u001b[0m \u001b[32m━━━━━━━━━━━━━━━━━━━━\u001b[0m\u001b[37m\u001b[0m \u001b[1m0s\u001b[0m 6ms/step\n"
          ]
        },
        {
          "output_type": "stream",
          "name": "stderr",
          "text": [
            "[I 2025-02-10 09:22:29,857] Trial 14 finished with value: 0.9276714684496722 and parameters: {'max_iterations': 696, 'learning_rate': 0.08848413325633274, 'momentum': 0.3589107777949929, 'adam_beta': 0.9394771180818815, 'weight_range': 0.11291294074379421}. Best is trial 5 with value: 0.9646556272597592.\n"
          ]
        },
        {
          "output_type": "stream",
          "name": "stdout",
          "text": [
            "\u001b[1m41/41\u001b[0m \u001b[32m━━━━━━━━━━━━━━━━━━━━\u001b[0m\u001b[37m\u001b[0m \u001b[1m0s\u001b[0m 6ms/step\n"
          ]
        },
        {
          "output_type": "stream",
          "name": "stderr",
          "text": [
            "[I 2025-02-10 09:23:04,353] Trial 15 finished with value: 0.9663478358035824 and parameters: {'max_iterations': 938, 'learning_rate': 0.004580620823788587, 'momentum': 0.6743566600804685, 'adam_beta': 0.9635787110503433, 'weight_range': 0.24427331207618863}. Best is trial 15 with value: 0.9663478358035824.\n"
          ]
        },
        {
          "output_type": "stream",
          "name": "stdout",
          "text": [
            "\u001b[1m41/41\u001b[0m \u001b[32m━━━━━━━━━━━━━━━━━━━━\u001b[0m\u001b[37m\u001b[0m \u001b[1m0s\u001b[0m 6ms/step\n"
          ]
        },
        {
          "output_type": "stream",
          "name": "stderr",
          "text": [
            "[I 2025-02-10 09:23:43,663] Trial 16 finished with value: 0.9661137278540525 and parameters: {'max_iterations': 1005, 'learning_rate': 0.00457700190038967, 'momentum': 0.6719642882755641, 'adam_beta': 0.9656749316617603, 'weight_range': 0.15851897347055124}. Best is trial 15 with value: 0.9663478358035824.\n"
          ]
        },
        {
          "output_type": "stream",
          "name": "stdout",
          "text": [
            "\u001b[1m41/41\u001b[0m \u001b[32m━━━━━━━━━━━━━━━━━━━━\u001b[0m\u001b[37m\u001b[0m \u001b[1m0s\u001b[0m 6ms/step\n"
          ]
        },
        {
          "output_type": "stream",
          "name": "stderr",
          "text": [
            "[I 2025-02-10 09:24:45,921] Trial 17 finished with value: 0.9361276755821256 and parameters: {'max_iterations': 1041, 'learning_rate': 0.00030304314253845675, 'momentum': 0.7102958372485525, 'adam_beta': 0.964216156960502, 'weight_range': 0.26205746223849885}. Best is trial 15 with value: 0.9663478358035824.\n"
          ]
        },
        {
          "output_type": "stream",
          "name": "stdout",
          "text": [
            "\u001b[1m41/41\u001b[0m \u001b[32m━━━━━━━━━━━━━━━━━━━━\u001b[0m\u001b[37m\u001b[0m \u001b[1m0s\u001b[0m 7ms/step\n"
          ]
        },
        {
          "output_type": "stream",
          "name": "stderr",
          "text": [
            "[I 2025-02-10 09:34:09,010] Trial 18 finished with value: 0.9358820699418078 and parameters: {'max_iterations': 1140, 'learning_rate': 2.0505670365820273e-05, 'momentum': 0.8978008257415839, 'adam_beta': 0.9643518785028183, 'weight_range': 0.19371367788720997}. Best is trial 15 with value: 0.9663478358035824.\n"
          ]
        },
        {
          "output_type": "stream",
          "name": "stdout",
          "text": [
            "\u001b[1m41/41\u001b[0m \u001b[32m━━━━━━━━━━━━━━━━━━━━\u001b[0m\u001b[37m\u001b[0m \u001b[1m0s\u001b[0m 7ms/step\n"
          ]
        },
        {
          "output_type": "stream",
          "name": "stderr",
          "text": [
            "[I 2025-02-10 09:34:46,426] Trial 19 finished with value: 0.9580998768545572 and parameters: {'max_iterations': 938, 'learning_rate': 0.0024535710923357, 'momentum': 0.670700170942334, 'adam_beta': 0.944768240371752, 'weight_range': 0.13960187399793106}. Best is trial 15 with value: 0.9663478358035824.\n"
          ]
        },
        {
          "output_type": "stream",
          "name": "stdout",
          "text": [
            "\u001b[1m41/41\u001b[0m \u001b[32m━━━━━━━━━━━━━━━━━━━━\u001b[0m\u001b[37m\u001b[0m \u001b[1m1s\u001b[0m 8ms/step\n"
          ]
        },
        {
          "output_type": "stream",
          "name": "stderr",
          "text": [
            "[I 2025-02-10 09:35:39,620] Trial 20 finished with value: 0.9373071955960823 and parameters: {'max_iterations': 919, 'learning_rate': 0.00034871137845138273, 'momentum': 0.8070120448576716, 'adam_beta': 0.9585426558203389, 'weight_range': 0.2651900136838288}. Best is trial 15 with value: 0.9663478358035824.\n"
          ]
        },
        {
          "output_type": "stream",
          "name": "stdout",
          "text": [
            "\u001b[1m41/41\u001b[0m \u001b[32m━━━━━━━━━━━━━━━━━━━━\u001b[0m\u001b[37m\u001b[0m \u001b[1m0s\u001b[0m 6ms/step\n"
          ]
        },
        {
          "output_type": "stream",
          "name": "stderr",
          "text": [
            "[I 2025-02-10 09:36:06,657] Trial 21 finished with value: 0.955296794359831 and parameters: {'max_iterations': 858, 'learning_rate': 0.0035600978902429552, 'momentum': 0.6151382242566449, 'adam_beta': 0.9803511249475589, 'weight_range': 0.1495269113109711}. Best is trial 15 with value: 0.9663478358035824.\n"
          ]
        },
        {
          "output_type": "stream",
          "name": "stdout",
          "text": [
            "\u001b[1m41/41\u001b[0m \u001b[32m━━━━━━━━━━━━━━━━━━━━\u001b[0m\u001b[37m\u001b[0m \u001b[1m0s\u001b[0m 6ms/step\n"
          ]
        },
        {
          "output_type": "stream",
          "name": "stderr",
          "text": [
            "[I 2025-02-10 09:36:31,706] Trial 22 finished with value: 0.9596911582387982 and parameters: {'max_iterations': 639, 'learning_rate': 0.006383114949361687, 'momentum': 0.47120837741331145, 'adam_beta': 0.9894182681602941, 'weight_range': 0.19827488451837114}. Best is trial 15 with value: 0.9663478358035824.\n"
          ]
        },
        {
          "output_type": "stream",
          "name": "stdout",
          "text": [
            "\u001b[1m41/41\u001b[0m \u001b[32m━━━━━━━━━━━━━━━━━━━━\u001b[0m\u001b[37m\u001b[0m \u001b[1m0s\u001b[0m 6ms/step\n"
          ]
        },
        {
          "output_type": "stream",
          "name": "stderr",
          "text": [
            "[I 2025-02-10 09:36:46,729] Trial 23 finished with value: 0.9532404901672329 and parameters: {'max_iterations': 1134, 'learning_rate': 0.026863271995370648, 'momentum': 0.6401715866948341, 'adam_beta': 0.974111959973367, 'weight_range': 0.15972338775103923}. Best is trial 15 with value: 0.9663478358035824.\n"
          ]
        },
        {
          "output_type": "stream",
          "name": "stdout",
          "text": [
            "\u001b[1m41/41\u001b[0m \u001b[32m━━━━━━━━━━━━━━━━━━━━\u001b[0m\u001b[37m\u001b[0m \u001b[1m0s\u001b[0m 6ms/step\n"
          ]
        },
        {
          "output_type": "stream",
          "name": "stderr",
          "text": [
            "[I 2025-02-10 09:37:58,733] Trial 24 finished with value: 0.9455730853594428 and parameters: {'max_iterations': 992, 'learning_rate': 0.0005769959495789693, 'momentum': 0.7546513381681565, 'adam_beta': 0.9738227924718896, 'weight_range': 0.2647059153848855}. Best is trial 15 with value: 0.9663478358035824.\n"
          ]
        },
        {
          "output_type": "stream",
          "name": "stdout",
          "text": [
            "\u001b[1m41/41\u001b[0m \u001b[32m━━━━━━━━━━━━━━━━━━━━\u001b[0m\u001b[37m\u001b[0m \u001b[1m0s\u001b[0m 6ms/step\n"
          ]
        },
        {
          "output_type": "stream",
          "name": "stderr",
          "text": [
            "[I 2025-02-10 09:38:14,367] Trial 25 finished with value: 0.9437587930869143 and parameters: {'max_iterations': 500, 'learning_rate': 0.010552049363544832, 'momentum': 0.5712579594478282, 'adam_beta': 0.9846791109354255, 'weight_range': 0.1299187536017192}. Best is trial 15 with value: 0.9663478358035824.\n"
          ]
        },
        {
          "output_type": "stream",
          "name": "stdout",
          "text": [
            "\u001b[1m41/41\u001b[0m \u001b[32m━━━━━━━━━━━━━━━━━━━━\u001b[0m\u001b[37m\u001b[0m \u001b[1m0s\u001b[0m 7ms/step\n"
          ]
        },
        {
          "output_type": "stream",
          "name": "stderr",
          "text": [
            "[I 2025-02-10 09:38:39,088] Trial 26 finished with value: 0.9506722952887011 and parameters: {'max_iterations': 1224, 'learning_rate': 0.002421229530373019, 'momentum': 0.49370444990927315, 'adam_beta': 0.9591004176430156, 'weight_range': 0.20157004196445946}. Best is trial 15 with value: 0.9663478358035824.\n"
          ]
        },
        {
          "output_type": "stream",
          "name": "stdout",
          "text": [
            "\u001b[1m41/41\u001b[0m \u001b[32m━━━━━━━━━━━━━━━━━━━━\u001b[0m\u001b[37m\u001b[0m \u001b[1m0s\u001b[0m 6ms/step\n"
          ]
        },
        {
          "output_type": "stream",
          "name": "stderr",
          "text": [
            "[I 2025-02-10 09:38:55,652] Trial 27 finished with value: 0.9116421101836767 and parameters: {'max_iterations': 820, 'learning_rate': 0.02753023499786595, 'momentum': 0.6729564270493231, 'adam_beta': 0.9984143240830846, 'weight_range': 0.3725908265750387}. Best is trial 15 with value: 0.9663478358035824.\n"
          ]
        },
        {
          "output_type": "stream",
          "name": "stdout",
          "text": [
            "\u001b[1m41/41\u001b[0m \u001b[32m━━━━━━━━━━━━━━━━━━━━\u001b[0m\u001b[37m\u001b[0m \u001b[1m0s\u001b[0m 7ms/step\n"
          ]
        },
        {
          "output_type": "stream",
          "name": "stderr",
          "text": [
            "[I 2025-02-10 09:39:57,973] Trial 28 finished with value: 0.9486875106792785 and parameters: {'max_iterations': 994, 'learning_rate': 0.0006612288228113704, 'momentum': 0.4340951624038366, 'adam_beta': 0.9711807231583836, 'weight_range': 0.49871742335280117}. Best is trial 15 with value: 0.9663478358035824.\n"
          ]
        },
        {
          "output_type": "stream",
          "name": "stdout",
          "text": [
            "\u001b[1m41/41\u001b[0m \u001b[32m━━━━━━━━━━━━━━━━━━━━\u001b[0m\u001b[37m\u001b[0m \u001b[1m0s\u001b[0m 6ms/step\n"
          ]
        },
        {
          "output_type": "stream",
          "name": "stderr",
          "text": [
            "[I 2025-02-10 09:40:51,806] Trial 29 finished with value: 0.9652282782344845 and parameters: {'max_iterations': 831, 'learning_rate': 0.003939176870046023, 'momentum': 0.5562271559026077, 'adam_beta': 0.9478979421198843, 'weight_range': 0.2831371000059102}. Best is trial 15 with value: 0.9663478358035824.\n"
          ]
        },
        {
          "output_type": "stream",
          "name": "stdout",
          "text": [
            "\u001b[1m41/41\u001b[0m \u001b[32m━━━━━━━━━━━━━━━━━━━━\u001b[0m\u001b[37m\u001b[0m \u001b[1m0s\u001b[0m 6ms/step\n"
          ]
        },
        {
          "output_type": "stream",
          "name": "stderr",
          "text": [
            "[I 2025-02-10 09:41:31,489] Trial 30 finished with value: 0.9617981510634557 and parameters: {'max_iterations': 894, 'learning_rate': 0.002010231483146119, 'momentum': 0.5644896148617784, 'adam_beta': 0.9246282536024976, 'weight_range': 0.2826152266580972}. Best is trial 15 with value: 0.9663478358035824.\n"
          ]
        },
        {
          "output_type": "stream",
          "name": "stdout",
          "text": [
            "\u001b[1m41/41\u001b[0m \u001b[32m━━━━━━━━━━━━━━━━━━━━\u001b[0m\u001b[37m\u001b[0m \u001b[1m0s\u001b[0m 7ms/step\n"
          ]
        },
        {
          "output_type": "stream",
          "name": "stderr",
          "text": [
            "[I 2025-02-10 09:42:03,891] Trial 31 finished with value: 0.9625990258899334 and parameters: {'max_iterations': 789, 'learning_rate': 0.004015919327248708, 'momentum': 0.5515929739699569, 'adam_beta': 0.9454644452241002, 'weight_range': 0.23450993215690727}. Best is trial 15 with value: 0.9663478358035824.\n"
          ]
        },
        {
          "output_type": "stream",
          "name": "stdout",
          "text": [
            "\u001b[1m41/41\u001b[0m \u001b[32m━━━━━━━━━━━━━━━━━━━━\u001b[0m\u001b[37m\u001b[0m \u001b[1m0s\u001b[0m 6ms/step\n"
          ]
        },
        {
          "output_type": "stream",
          "name": "stderr",
          "text": [
            "[I 2025-02-10 09:42:19,316] Trial 32 finished with value: 0.9399240679715514 and parameters: {'max_iterations': 847, 'learning_rate': 0.005764824460434076, 'momentum': 0.7674173876489637, 'adam_beta': 0.9565133702009413, 'weight_range': 0.19113536461409417}. Best is trial 15 with value: 0.9663478358035824.\n"
          ]
        },
        {
          "output_type": "stream",
          "name": "stdout",
          "text": [
            "\u001b[1m41/41\u001b[0m \u001b[32m━━━━━━━━━━━━━━━━━━━━\u001b[0m\u001b[37m\u001b[0m \u001b[1m0s\u001b[0m 6ms/step\n"
          ]
        },
        {
          "output_type": "stream",
          "name": "stderr",
          "text": [
            "[I 2025-02-10 09:42:40,573] Trial 33 finished with value: 0.9614415406635294 and parameters: {'max_iterations': 698, 'learning_rate': 0.009989345178997536, 'momentum': 0.5055641004089468, 'adam_beta': 0.9434392908221237, 'weight_range': 0.40550846283162667}. Best is trial 15 with value: 0.9663478358035824.\n"
          ]
        },
        {
          "output_type": "stream",
          "name": "stdout",
          "text": [
            "\u001b[1m41/41\u001b[0m \u001b[32m━━━━━━━━━━━━━━━━━━━━\u001b[0m\u001b[37m\u001b[0m \u001b[1m0s\u001b[0m 6ms/step\n"
          ]
        },
        {
          "output_type": "stream",
          "name": "stderr",
          "text": [
            "[I 2025-02-10 09:43:08,373] Trial 34 finished with value: 0.9360007247766915 and parameters: {'max_iterations': 951, 'learning_rate': 0.0008379664979633043, 'momentum': 0.5985768084133214, 'adam_beta': 0.9324500092348227, 'weight_range': 0.3391997130637942}. Best is trial 15 with value: 0.9663478358035824.\n"
          ]
        },
        {
          "output_type": "stream",
          "name": "stdout",
          "text": [
            "\u001b[1m41/41\u001b[0m \u001b[32m━━━━━━━━━━━━━━━━━━━━\u001b[0m\u001b[37m\u001b[0m \u001b[1m0s\u001b[0m 6ms/step\n"
          ]
        },
        {
          "output_type": "stream",
          "name": "stderr",
          "text": [
            "[I 2025-02-10 09:43:22,116] Trial 35 finished with value: 0.94797623930685 and parameters: {'max_iterations': 1093, 'learning_rate': 0.04591262306032865, 'momentum': 0.6837176811033291, 'adam_beta': 0.9504952738597551, 'weight_range': 0.2819609189747648}. Best is trial 15 with value: 0.9663478358035824.\n"
          ]
        },
        {
          "output_type": "stream",
          "name": "stdout",
          "text": [
            "\u001b[1m41/41\u001b[0m \u001b[32m━━━━━━━━━━━━━━━━━━━━\u001b[0m\u001b[37m\u001b[0m \u001b[1m0s\u001b[0m 6ms/step\n"
          ]
        },
        {
          "output_type": "stream",
          "name": "stderr",
          "text": [
            "[I 2025-02-10 09:43:45,689] Trial 36 finished with value: 0.9440841894636782 and parameters: {'max_iterations': 637, 'learning_rate': 0.003023519454713513, 'momentum': 0.5222628272178929, 'adam_beta': 0.9924690541017568, 'weight_range': 0.16919890357873252}. Best is trial 15 with value: 0.9663478358035824.\n"
          ]
        },
        {
          "output_type": "stream",
          "name": "stdout",
          "text": [
            "\u001b[1m41/41\u001b[0m \u001b[32m━━━━━━━━━━━━━━━━━━━━\u001b[0m\u001b[37m\u001b[0m \u001b[1m0s\u001b[0m 6ms/step\n"
          ]
        },
        {
          "output_type": "stream",
          "name": "stderr",
          "text": [
            "[I 2025-02-10 09:44:24,079] Trial 37 finished with value: 0.9524270215623616 and parameters: {'max_iterations': 888, 'learning_rate': 0.0012722805472389046, 'momentum': 0.7981882091686856, 'adam_beta': 0.9677366517761752, 'weight_range': 0.12733557651741279}. Best is trial 15 with value: 0.9663478358035824.\n"
          ]
        },
        {
          "output_type": "stream",
          "name": "stdout",
          "text": [
            "\u001b[1m41/41\u001b[0m \u001b[32m━━━━━━━━━━━━━━━━━━━━\u001b[0m\u001b[37m\u001b[0m \u001b[1m1s\u001b[0m 10ms/step\n"
          ]
        },
        {
          "output_type": "stream",
          "name": "stderr",
          "text": [
            "[I 2025-02-10 09:44:45,382] Trial 38 finished with value: 0.9629427341461172 and parameters: {'max_iterations': 728, 'learning_rate': 0.01693763939517695, 'momentum': 0.44388861790067635, 'adam_beta': 0.9807618735282406, 'weight_range': 0.10006771133024334}. Best is trial 15 with value: 0.9663478358035824.\n"
          ]
        },
        {
          "output_type": "stream",
          "name": "stdout",
          "text": [
            "\u001b[1m41/41\u001b[0m \u001b[32m━━━━━━━━━━━━━━━━━━━━\u001b[0m\u001b[37m\u001b[0m \u001b[1m0s\u001b[0m 6ms/step\n"
          ]
        },
        {
          "output_type": "stream",
          "name": "stderr",
          "text": [
            "[I 2025-02-10 09:45:10,570] Trial 39 finished with value: 0.960929938139602 and parameters: {'max_iterations': 1218, 'learning_rate': 0.006911447229454934, 'momentum': 0.38903743853963557, 'adam_beta': 0.9569283307245167, 'weight_range': 0.3341766519391606}. Best is trial 15 with value: 0.9663478358035824.\n"
          ]
        },
        {
          "output_type": "stream",
          "name": "stdout",
          "text": [
            "\u001b[1m41/41\u001b[0m \u001b[32m━━━━━━━━━━━━━━━━━━━━\u001b[0m\u001b[37m\u001b[0m \u001b[1m1s\u001b[0m 9ms/step\n"
          ]
        },
        {
          "output_type": "stream",
          "name": "stderr",
          "text": [
            "[I 2025-02-10 09:45:41,428] Trial 40 finished with value: 0.947077295350228 and parameters: {'max_iterations': 1012, 'learning_rate': 0.0016349119388589452, 'momentum': 0.6349955569432887, 'adam_beta': 0.9395277892214139, 'weight_range': 0.21637267677909838}. Best is trial 15 with value: 0.9663478358035824.\n"
          ]
        },
        {
          "output_type": "stream",
          "name": "stdout",
          "text": [
            "\u001b[1m41/41\u001b[0m \u001b[32m━━━━━━━━━━━━━━━━━━━━\u001b[0m\u001b[37m\u001b[0m \u001b[1m0s\u001b[0m 6ms/step\n"
          ]
        },
        {
          "output_type": "stream",
          "name": "stderr",
          "text": [
            "[I 2025-02-10 09:45:59,753] Trial 41 finished with value: 0.9559953686858476 and parameters: {'max_iterations': 755, 'learning_rate': 0.014218943987230772, 'momentum': 0.45416854761649517, 'adam_beta': 0.9830963876830788, 'weight_range': 0.17020609734078773}. Best is trial 15 with value: 0.9663478358035824.\n"
          ]
        },
        {
          "output_type": "stream",
          "name": "stdout",
          "text": [
            "\u001b[1m41/41\u001b[0m \u001b[32m━━━━━━━━━━━━━━━━━━━━\u001b[0m\u001b[37m\u001b[0m \u001b[1m0s\u001b[0m 6ms/step\n"
          ]
        },
        {
          "output_type": "stream",
          "name": "stderr",
          "text": [
            "[I 2025-02-10 09:46:22,952] Trial 42 finished with value: 0.956157305892766 and parameters: {'max_iterations': 615, 'learning_rate': 0.020970219819953513, 'momentum': 0.7086670147638555, 'adam_beta': 0.9780758817188362, 'weight_range': 0.1038135454594514}. Best is trial 15 with value: 0.9663478358035824.\n"
          ]
        },
        {
          "output_type": "stream",
          "name": "stdout",
          "text": [
            "\u001b[1m41/41\u001b[0m \u001b[32m━━━━━━━━━━━━━━━━━━━━\u001b[0m\u001b[37m\u001b[0m \u001b[1m0s\u001b[0m 7ms/step\n"
          ]
        },
        {
          "output_type": "stream",
          "name": "stderr",
          "text": [
            "[I 2025-02-10 09:46:53,448] Trial 43 finished with value: 0.9654067325194176 and parameters: {'max_iterations': 709, 'learning_rate': 0.004382961786565759, 'momentum': 0.3698269581476093, 'adam_beta': 0.9939315941320304, 'weight_range': 0.14562854743389933}. Best is trial 15 with value: 0.9663478358035824.\n"
          ]
        },
        {
          "output_type": "stream",
          "name": "stdout",
          "text": [
            "\u001b[1m41/41\u001b[0m \u001b[32m━━━━━━━━━━━━━━━━━━━━\u001b[0m\u001b[37m\u001b[0m \u001b[1m0s\u001b[0m 6ms/step\n"
          ]
        },
        {
          "output_type": "stream",
          "name": "stderr",
          "text": [
            "[I 2025-02-10 09:47:19,658] Trial 44 finished with value: 0.9621264922704731 and parameters: {'max_iterations': 815, 'learning_rate': 0.00428649587094149, 'momentum': 0.2929614347901297, 'adam_beta': 0.9872656184957477, 'weight_range': 0.15060076406418524}. Best is trial 15 with value: 0.9663478358035824.\n"
          ]
        },
        {
          "output_type": "stream",
          "name": "stdout",
          "text": [
            "\u001b[1m41/41\u001b[0m \u001b[32m━━━━━━━━━━━━━━━━━━━━\u001b[0m\u001b[37m\u001b[0m \u001b[1m0s\u001b[0m 7ms/step\n"
          ]
        },
        {
          "output_type": "stream",
          "name": "stderr",
          "text": [
            "[I 2025-02-10 09:47:42,530] Trial 45 finished with value: 0.9545851792616687 and parameters: {'max_iterations': 659, 'learning_rate': 0.009125584949177671, 'momentum': 0.374011060936253, 'adam_beta': 0.9933550532824854, 'weight_range': 0.18472102534184714}. Best is trial 15 with value: 0.9663478358035824.\n"
          ]
        },
        {
          "output_type": "stream",
          "name": "stdout",
          "text": [
            "\u001b[1m41/41\u001b[0m \u001b[32m━━━━━━━━━━━━━━━━━━━━\u001b[0m\u001b[37m\u001b[0m \u001b[1m0s\u001b[0m 6ms/step\n"
          ]
        },
        {
          "output_type": "stream",
          "name": "stderr",
          "text": [
            "[I 2025-02-10 09:48:46,545] Trial 46 finished with value: 0.960708473313551 and parameters: {'max_iterations': 558, 'learning_rate': 0.0010284558163802858, 'momentum': 0.5816883708492888, 'adam_beta': 0.9963707185018335, 'weight_range': 0.12456930805457134}. Best is trial 15 with value: 0.9663478358035824.\n"
          ]
        },
        {
          "output_type": "stream",
          "name": "stdout",
          "text": [
            "\u001b[1m41/41\u001b[0m \u001b[32m━━━━━━━━━━━━━━━━━━━━\u001b[0m\u001b[37m\u001b[0m \u001b[1m0s\u001b[0m 6ms/step\n"
          ]
        },
        {
          "output_type": "stream",
          "name": "stderr",
          "text": [
            "[I 2025-02-10 09:49:07,592] Trial 47 finished with value: 0.9555025301977487 and parameters: {'max_iterations': 853, 'learning_rate': 0.049435079930962064, 'momentum': 0.3282300967203937, 'adam_beta': 0.9537644441179172, 'weight_range': 0.2856348822079271}. Best is trial 15 with value: 0.9663478358035824.\n"
          ]
        },
        {
          "output_type": "stream",
          "name": "stdout",
          "text": [
            "\u001b[1m41/41\u001b[0m \u001b[32m━━━━━━━━━━━━━━━━━━━━\u001b[0m\u001b[37m\u001b[0m \u001b[1m0s\u001b[0m 6ms/step\n"
          ]
        },
        {
          "output_type": "stream",
          "name": "stderr",
          "text": [
            "[I 2025-02-10 09:50:58,043] Trial 48 finished with value: 0.9386025377048017 and parameters: {'max_iterations': 682, 'learning_rate': 0.00018125866260845666, 'momentum': 0.5350149666583053, 'adam_beta': 0.9710860272639785, 'weight_range': 0.2152124722930009}. Best is trial 15 with value: 0.9663478358035824.\n"
          ]
        },
        {
          "output_type": "stream",
          "name": "stdout",
          "text": [
            "\u001b[1m41/41\u001b[0m \u001b[32m━━━━━━━━━━━━━━━━━━━━\u001b[0m\u001b[37m\u001b[0m \u001b[1m0s\u001b[0m 7ms/step\n"
          ]
        },
        {
          "output_type": "stream",
          "name": "stderr",
          "text": [
            "[I 2025-02-10 09:51:31,941] Trial 49 finished with value: 0.9552657321819934 and parameters: {'max_iterations': 737, 'learning_rate': 0.001964640014221852, 'momentum': 0.24458407973807073, 'adam_beta': 0.9629350495427176, 'weight_range': 0.25282060047449945}. Best is trial 15 with value: 0.9663478358035824.\n"
          ]
        },
        {
          "output_type": "stream",
          "name": "stdout",
          "text": [
            "Best parameters found by Optuna: {'max_iterations': 938, 'learning_rate': 0.004580620823788587, 'momentum': 0.6743566600804685, 'adam_beta': 0.9635787110503433, 'weight_range': 0.24427331207618863}\n",
            "\u001b[1m41/41\u001b[0m \u001b[32m━━━━━━━━━━━━━━━━━━━━\u001b[0m\u001b[37m\u001b[0m \u001b[1m0s\u001b[0m 7ms/step\n",
            "R² Score: 0.974\n",
            "Mean Absolute Error (MAE): 0.102\n",
            "Mean Squared Error (MSE): 0.026\n",
            "Root Mean Squared Error (RMSE): 0.162\n",
            "Mean Absolute Percentage Error (MAPE): 47.251%\n"
          ]
        }
      ]
    }
  ],
  "metadata": {
    "colab": {
      "provenance": [],
      "include_colab_link": true
    },
    "kernelspec": {
      "display_name": "Python 3",
      "name": "python3"
    },
    "language_info": {
      "name": "python"
    }
  },
  "nbformat": 4,
  "nbformat_minor": 0
}